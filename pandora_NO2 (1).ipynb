{
  "cells": [
    {
      "cell_type": "code",
      "execution_count": null,
      "metadata": {
        "colab": {
          "base_uri": "https://localhost:8080/",
          "height": 355
        },
        "id": "G2ffi3bk0ljD",
        "outputId": "a98eef86-4aab-4a55-e96e-ec074edae58b"
      },
      "outputs": [
        {
          "output_type": "display_data",
          "data": {
            "text/plain": [
              "<IPython.core.display.HTML object>"
            ],
            "text/html": [
              "\n",
              "     <input type=\"file\" id=\"files-425d544c-8826-4676-9503-b1e4beb465d3\" name=\"files[]\" multiple disabled\n",
              "        style=\"border:none\" />\n",
              "     <output id=\"result-425d544c-8826-4676-9503-b1e4beb465d3\">\n",
              "      Upload widget is only available when the cell has been executed in the\n",
              "      current browser session. Please rerun this cell to enable.\n",
              "      </output>\n",
              "      <script>// Copyright 2017 Google LLC\n",
              "//\n",
              "// Licensed under the Apache License, Version 2.0 (the \"License\");\n",
              "// you may not use this file except in compliance with the License.\n",
              "// You may obtain a copy of the License at\n",
              "//\n",
              "//      http://www.apache.org/licenses/LICENSE-2.0\n",
              "//\n",
              "// Unless required by applicable law or agreed to in writing, software\n",
              "// distributed under the License is distributed on an \"AS IS\" BASIS,\n",
              "// WITHOUT WARRANTIES OR CONDITIONS OF ANY KIND, either express or implied.\n",
              "// See the License for the specific language governing permissions and\n",
              "// limitations under the License.\n",
              "\n",
              "/**\n",
              " * @fileoverview Helpers for google.colab Python module.\n",
              " */\n",
              "(function(scope) {\n",
              "function span(text, styleAttributes = {}) {\n",
              "  const element = document.createElement('span');\n",
              "  element.textContent = text;\n",
              "  for (const key of Object.keys(styleAttributes)) {\n",
              "    element.style[key] = styleAttributes[key];\n",
              "  }\n",
              "  return element;\n",
              "}\n",
              "\n",
              "// Max number of bytes which will be uploaded at a time.\n",
              "const MAX_PAYLOAD_SIZE = 100 * 1024;\n",
              "\n",
              "function _uploadFiles(inputId, outputId) {\n",
              "  const steps = uploadFilesStep(inputId, outputId);\n",
              "  const outputElement = document.getElementById(outputId);\n",
              "  // Cache steps on the outputElement to make it available for the next call\n",
              "  // to uploadFilesContinue from Python.\n",
              "  outputElement.steps = steps;\n",
              "\n",
              "  return _uploadFilesContinue(outputId);\n",
              "}\n",
              "\n",
              "// This is roughly an async generator (not supported in the browser yet),\n",
              "// where there are multiple asynchronous steps and the Python side is going\n",
              "// to poll for completion of each step.\n",
              "// This uses a Promise to block the python side on completion of each step,\n",
              "// then passes the result of the previous step as the input to the next step.\n",
              "function _uploadFilesContinue(outputId) {\n",
              "  const outputElement = document.getElementById(outputId);\n",
              "  const steps = outputElement.steps;\n",
              "\n",
              "  const next = steps.next(outputElement.lastPromiseValue);\n",
              "  return Promise.resolve(next.value.promise).then((value) => {\n",
              "    // Cache the last promise value to make it available to the next\n",
              "    // step of the generator.\n",
              "    outputElement.lastPromiseValue = value;\n",
              "    return next.value.response;\n",
              "  });\n",
              "}\n",
              "\n",
              "/**\n",
              " * Generator function which is called between each async step of the upload\n",
              " * process.\n",
              " * @param {string} inputId Element ID of the input file picker element.\n",
              " * @param {string} outputId Element ID of the output display.\n",
              " * @return {!Iterable<!Object>} Iterable of next steps.\n",
              " */\n",
              "function* uploadFilesStep(inputId, outputId) {\n",
              "  const inputElement = document.getElementById(inputId);\n",
              "  inputElement.disabled = false;\n",
              "\n",
              "  const outputElement = document.getElementById(outputId);\n",
              "  outputElement.innerHTML = '';\n",
              "\n",
              "  const pickedPromise = new Promise((resolve) => {\n",
              "    inputElement.addEventListener('change', (e) => {\n",
              "      resolve(e.target.files);\n",
              "    });\n",
              "  });\n",
              "\n",
              "  const cancel = document.createElement('button');\n",
              "  inputElement.parentElement.appendChild(cancel);\n",
              "  cancel.textContent = 'Cancel upload';\n",
              "  const cancelPromise = new Promise((resolve) => {\n",
              "    cancel.onclick = () => {\n",
              "      resolve(null);\n",
              "    };\n",
              "  });\n",
              "\n",
              "  // Wait for the user to pick the files.\n",
              "  const files = yield {\n",
              "    promise: Promise.race([pickedPromise, cancelPromise]),\n",
              "    response: {\n",
              "      action: 'starting',\n",
              "    }\n",
              "  };\n",
              "\n",
              "  cancel.remove();\n",
              "\n",
              "  // Disable the input element since further picks are not allowed.\n",
              "  inputElement.disabled = true;\n",
              "\n",
              "  if (!files) {\n",
              "    return {\n",
              "      response: {\n",
              "        action: 'complete',\n",
              "      }\n",
              "    };\n",
              "  }\n",
              "\n",
              "  for (const file of files) {\n",
              "    const li = document.createElement('li');\n",
              "    li.append(span(file.name, {fontWeight: 'bold'}));\n",
              "    li.append(span(\n",
              "        `(${file.type || 'n/a'}) - ${file.size} bytes, ` +\n",
              "        `last modified: ${\n",
              "            file.lastModifiedDate ? file.lastModifiedDate.toLocaleDateString() :\n",
              "                                    'n/a'} - `));\n",
              "    const percent = span('0% done');\n",
              "    li.appendChild(percent);\n",
              "\n",
              "    outputElement.appendChild(li);\n",
              "\n",
              "    const fileDataPromise = new Promise((resolve) => {\n",
              "      const reader = new FileReader();\n",
              "      reader.onload = (e) => {\n",
              "        resolve(e.target.result);\n",
              "      };\n",
              "      reader.readAsArrayBuffer(file);\n",
              "    });\n",
              "    // Wait for the data to be ready.\n",
              "    let fileData = yield {\n",
              "      promise: fileDataPromise,\n",
              "      response: {\n",
              "        action: 'continue',\n",
              "      }\n",
              "    };\n",
              "\n",
              "    // Use a chunked sending to avoid message size limits. See b/62115660.\n",
              "    let position = 0;\n",
              "    do {\n",
              "      const length = Math.min(fileData.byteLength - position, MAX_PAYLOAD_SIZE);\n",
              "      const chunk = new Uint8Array(fileData, position, length);\n",
              "      position += length;\n",
              "\n",
              "      const base64 = btoa(String.fromCharCode.apply(null, chunk));\n",
              "      yield {\n",
              "        response: {\n",
              "          action: 'append',\n",
              "          file: file.name,\n",
              "          data: base64,\n",
              "        },\n",
              "      };\n",
              "\n",
              "      let percentDone = fileData.byteLength === 0 ?\n",
              "          100 :\n",
              "          Math.round((position / fileData.byteLength) * 100);\n",
              "      percent.textContent = `${percentDone}% done`;\n",
              "\n",
              "    } while (position < fileData.byteLength);\n",
              "  }\n",
              "\n",
              "  // All done.\n",
              "  yield {\n",
              "    response: {\n",
              "      action: 'complete',\n",
              "    }\n",
              "  };\n",
              "}\n",
              "\n",
              "scope.google = scope.google || {};\n",
              "scope.google.colab = scope.google.colab || {};\n",
              "scope.google.colab._files = {\n",
              "  _uploadFiles,\n",
              "  _uploadFilesContinue,\n",
              "};\n",
              "})(self);\n",
              "</script> "
            ]
          },
          "metadata": {}
        },
        {
          "output_type": "error",
          "ename": "KeyboardInterrupt",
          "evalue": "",
          "traceback": [
            "\u001b[0;31m---------------------------------------------------------------------------\u001b[0m",
            "\u001b[0;31mKeyboardInterrupt\u001b[0m                         Traceback (most recent call last)",
            "\u001b[0;32m/tmp/ipython-input-4285860012.py\u001b[0m in \u001b[0;36m<cell line: 0>\u001b[0;34m()\u001b[0m\n\u001b[1;32m      2\u001b[0m \u001b[0;34m\u001b[0m\u001b[0m\n\u001b[1;32m      3\u001b[0m \u001b[0;31m# This will open a file chooser to upload your downloaded file\u001b[0m\u001b[0;34m\u001b[0m\u001b[0;34m\u001b[0m\u001b[0m\n\u001b[0;32m----> 4\u001b[0;31m \u001b[0muploaded\u001b[0m \u001b[0;34m=\u001b[0m \u001b[0mfiles\u001b[0m\u001b[0;34m.\u001b[0m\u001b[0mupload\u001b[0m\u001b[0;34m(\u001b[0m\u001b[0;34m)\u001b[0m\u001b[0;34m\u001b[0m\u001b[0;34m\u001b[0m\u001b[0m\n\u001b[0m",
            "\u001b[0;32m/usr/local/lib/python3.12/dist-packages/google/colab/files.py\u001b[0m in \u001b[0;36mupload\u001b[0;34m(target_dir)\u001b[0m\n\u001b[1;32m     70\u001b[0m   \"\"\"\n\u001b[1;32m     71\u001b[0m \u001b[0;34m\u001b[0m\u001b[0m\n\u001b[0;32m---> 72\u001b[0;31m   \u001b[0muploaded_files\u001b[0m \u001b[0;34m=\u001b[0m \u001b[0m_upload_files\u001b[0m\u001b[0;34m(\u001b[0m\u001b[0mmultiple\u001b[0m\u001b[0;34m=\u001b[0m\u001b[0;32mTrue\u001b[0m\u001b[0;34m)\u001b[0m\u001b[0;34m\u001b[0m\u001b[0;34m\u001b[0m\u001b[0m\n\u001b[0m\u001b[1;32m     73\u001b[0m   \u001b[0;31m# Mapping from original filename to filename as saved locally.\u001b[0m\u001b[0;34m\u001b[0m\u001b[0;34m\u001b[0m\u001b[0m\n\u001b[1;32m     74\u001b[0m   \u001b[0mlocal_filenames\u001b[0m \u001b[0;34m=\u001b[0m \u001b[0mdict\u001b[0m\u001b[0;34m(\u001b[0m\u001b[0;34m)\u001b[0m\u001b[0;34m\u001b[0m\u001b[0;34m\u001b[0m\u001b[0m\n",
            "\u001b[0;32m/usr/local/lib/python3.12/dist-packages/google/colab/files.py\u001b[0m in \u001b[0;36m_upload_files\u001b[0;34m(multiple)\u001b[0m\n\u001b[1;32m    162\u001b[0m \u001b[0;34m\u001b[0m\u001b[0m\n\u001b[1;32m    163\u001b[0m   \u001b[0;31m# First result is always an indication that the file picker has completed.\u001b[0m\u001b[0;34m\u001b[0m\u001b[0;34m\u001b[0m\u001b[0m\n\u001b[0;32m--> 164\u001b[0;31m   result = _output.eval_js(\n\u001b[0m\u001b[1;32m    165\u001b[0m       'google.colab._files._uploadFiles(\"{input_id}\", \"{output_id}\")'.format(\n\u001b[1;32m    166\u001b[0m           \u001b[0minput_id\u001b[0m\u001b[0;34m=\u001b[0m\u001b[0minput_id\u001b[0m\u001b[0;34m,\u001b[0m \u001b[0moutput_id\u001b[0m\u001b[0;34m=\u001b[0m\u001b[0moutput_id\u001b[0m\u001b[0;34m\u001b[0m\u001b[0;34m\u001b[0m\u001b[0m\n",
            "\u001b[0;32m/usr/local/lib/python3.12/dist-packages/google/colab/output/_js.py\u001b[0m in \u001b[0;36meval_js\u001b[0;34m(script, ignore_result, timeout_sec)\u001b[0m\n\u001b[1;32m     38\u001b[0m   \u001b[0;32mif\u001b[0m \u001b[0mignore_result\u001b[0m\u001b[0;34m:\u001b[0m\u001b[0;34m\u001b[0m\u001b[0;34m\u001b[0m\u001b[0m\n\u001b[1;32m     39\u001b[0m     \u001b[0;32mreturn\u001b[0m\u001b[0;34m\u001b[0m\u001b[0;34m\u001b[0m\u001b[0m\n\u001b[0;32m---> 40\u001b[0;31m   \u001b[0;32mreturn\u001b[0m \u001b[0m_message\u001b[0m\u001b[0;34m.\u001b[0m\u001b[0mread_reply_from_input\u001b[0m\u001b[0;34m(\u001b[0m\u001b[0mrequest_id\u001b[0m\u001b[0;34m,\u001b[0m \u001b[0mtimeout_sec\u001b[0m\u001b[0;34m)\u001b[0m\u001b[0;34m\u001b[0m\u001b[0;34m\u001b[0m\u001b[0m\n\u001b[0m\u001b[1;32m     41\u001b[0m \u001b[0;34m\u001b[0m\u001b[0m\n\u001b[1;32m     42\u001b[0m \u001b[0;34m\u001b[0m\u001b[0m\n",
            "\u001b[0;32m/usr/local/lib/python3.12/dist-packages/google/colab/_message.py\u001b[0m in \u001b[0;36mread_reply_from_input\u001b[0;34m(message_id, timeout_sec)\u001b[0m\n\u001b[1;32m     94\u001b[0m     \u001b[0mreply\u001b[0m \u001b[0;34m=\u001b[0m \u001b[0m_read_next_input_message\u001b[0m\u001b[0;34m(\u001b[0m\u001b[0;34m)\u001b[0m\u001b[0;34m\u001b[0m\u001b[0;34m\u001b[0m\u001b[0m\n\u001b[1;32m     95\u001b[0m     \u001b[0;32mif\u001b[0m \u001b[0mreply\u001b[0m \u001b[0;34m==\u001b[0m \u001b[0m_NOT_READY\u001b[0m \u001b[0;32mor\u001b[0m \u001b[0;32mnot\u001b[0m \u001b[0misinstance\u001b[0m\u001b[0;34m(\u001b[0m\u001b[0mreply\u001b[0m\u001b[0;34m,\u001b[0m \u001b[0mdict\u001b[0m\u001b[0;34m)\u001b[0m\u001b[0;34m:\u001b[0m\u001b[0;34m\u001b[0m\u001b[0;34m\u001b[0m\u001b[0m\n\u001b[0;32m---> 96\u001b[0;31m       \u001b[0mtime\u001b[0m\u001b[0;34m.\u001b[0m\u001b[0msleep\u001b[0m\u001b[0;34m(\u001b[0m\u001b[0;36m0.025\u001b[0m\u001b[0;34m)\u001b[0m\u001b[0;34m\u001b[0m\u001b[0;34m\u001b[0m\u001b[0m\n\u001b[0m\u001b[1;32m     97\u001b[0m       \u001b[0;32mcontinue\u001b[0m\u001b[0;34m\u001b[0m\u001b[0;34m\u001b[0m\u001b[0m\n\u001b[1;32m     98\u001b[0m     if (\n",
            "\u001b[0;31mKeyboardInterrupt\u001b[0m: "
          ]
        }
      ],
      "source": [
        "from google.colab import files\n",
        "\n",
        "# This will open a file chooser to upload your downloaded file\n",
        "uploaded = files.upload()\n"
      ]
    },
    {
      "cell_type": "code",
      "execution_count": null,
      "metadata": {
        "colab": {
          "base_uri": "https://localhost:8080/"
        },
        "id": "a_p_kkYU0oo2",
        "outputId": "6f7ce9db-4843-4d2a-d541-446da0854751"
      },
      "outputs": [
        {
          "output_type": "stream",
          "name": "stdout",
          "text": [
            "sample_data\n"
          ]
        }
      ],
      "source": [
        "\n",
        "!ls /content/"
      ]
    },
    {
      "cell_type": "code",
      "execution_count": null,
      "metadata": {
        "colab": {
          "base_uri": "https://localhost:8080/"
        },
        "id": "Eq2N5QeU12dn",
        "outputId": "8fece4a9-ef4c-4b30-c943-6e244b1d3c23"
      },
      "outputs": [
        {
          "output_type": "stream",
          "name": "stdout",
          "text": [
            "(930064, 54)\n",
            "  ut_date_and_time_for_measurement_center_yyyymmddthhmmssz_iso_8601  \\\n",
            "0                   2020-08-06 15:41:10.600000+00:00                  \n",
            "1                   2020-08-06 15:43:18.100000+00:00                  \n",
            "2                   2020-08-06 15:45:28.600000+00:00                  \n",
            "3                   2020-08-06 15:50:34.900000+00:00                  \n",
            "4                   2020-08-06 15:52:23.500000+00:00                  \n",
            "\n",
            "  fractional_days_since_1jan2000_ut_midnight_for_measurement_center  \\\n",
            "0                                        7523.653595                  \n",
            "1                                        7523.655071                  \n",
            "2                                        7523.656580                  \n",
            "3                                        7523.660126                  \n",
            "4                                        7523.661384                  \n",
            "\n",
            "  effective_duration_of_measurement solar_zenith_angle_for_measurement_center  \\\n",
            "0                              7.30                                     30.26   \n",
            "1                             22.24                                     29.95   \n",
            "2                             33.11                                     29.64   \n",
            "3                             19.75                                     28.93   \n",
            "4                              1.07                                     28.68   \n",
            "\n",
            "  solar_azimuth_for_measurement_center_0north_increases_clockwise  \\\n",
            "0                                             131.47                \n",
            "1                                             132.28                \n",
            "2                                             133.13                \n",
            "3                                             135.16                \n",
            "4                                             135.90                \n",
            "\n",
            "  lunar_zenith_angle_for_measurement_center  \\\n",
            "0                                    120.97   \n",
            "1                                    121.35   \n",
            "2                                    121.74   \n",
            "3                                    122.65   \n",
            "4                                    122.98   \n",
            "\n",
            "  lunar_azimuth_for_measurement_center_0north_increases_clockwise  \\\n",
            "0                                             283.85                \n",
            "1                                             284.24                \n",
            "2                                             284.63                \n",
            "3                                             285.58                \n",
            "4                                             285.92                \n",
            "\n",
            "  rms_of_unweighted_fitting_residuals_9fitting_not_successful  \\\n",
            "0                                          5.289e-04            \n",
            "1                                          2.675e-04            \n",
            "2                                          1.407e-03            \n",
            "3                                          2.940e-04            \n",
            "4                                          3.654e-04            \n",
            "\n",
            "  normalized_rms_of_fitting_residuals_weighted_with_independent_uncertainty_9fitting_not_successful_or_no_uncertainty_given  \\\n",
            "0                                          4.876e-04                                                                          \n",
            "1                                          2.551e-04                                                                          \n",
            "2                                          1.394e-03                                                                          \n",
            "3                                          2.836e-04                                                                          \n",
            "4                                          3.534e-04                                                                          \n",
            "\n",
            "  expected_rms_of_unweighted_fitting_residuals_based_on_independent_uncertainty_9fitting_not_successful_or_no_uncertainty_given  \\\n",
            "0                                          8.924e-05                                                                              \n",
            "1                                          5.540e-05                                                                              \n",
            "2                                          1.213e-03                                                                              \n",
            "3                                          1.201e-04                                                                              \n",
            "4                                          2.309e-04                                                                              \n",
            "\n",
            "   ... nitrogen_dioxide_effective_temperature  \\\n",
            "0  ...                                 263.04   \n",
            "1  ...                                 263.52   \n",
            "2  ...                                 276.78   \n",
            "3  ...                                 267.78   \n",
            "4  ...                                 263.57   \n",
            "\n",
            "  independent_uncertainty_of_nitrogen_dioxide_effective_temperature_1temperature_fitting_was_requested_but_cross_section_is_zero_in_this_wavelength_range_2no_temperature_fitting_was_requested_and_output_for_effective_temperature_and_common_uncertainty_of_it_is_based_on_fcode_3spectral_fitting_was_done_but_no_independent_uncertainty_could_be_retrieved_4temperature_fitting_was_requested_but_differential_optical_depth_is_too_small_to_retrieve_temperature_5spectral_fitting_was_done_without_using_the_independent_uncertainty_input_6no_independent_uncertainty_input_was_given_9spectral_fitting_was_not_successful  \\\n",
            "0                                              -2.00                                                                                                                                                                                                                                                                                                                                                                                                                                                                                                                                                                                  \n",
            "1                                              -2.00                                                                                                                                                                                                                                                                                                                                                                                                                                                                                                                                                                                  \n",
            "2                                              -2.00                                                                                                                                                                                                                                                                                                                                                                                                                                                                                                                                                                                  \n",
            "3                                              -2.00                                                                                                                                                                                                                                                                                                                                                                                                                                                                                                                                                                                  \n",
            "4                                              -2.00                                                                                                                                                                                                                                                                                                                                                                                                                                                                                                                                                                                  \n",
            "\n",
            "  structured_uncertainty_of_nitrogen_dioxide_effective_temperature_1temperature_fitting_was_requested_but_cross_section_is_zero_in_this_wavelength_range_4temperature_fitting_was_requested_but_differential_optical_depth_is_too_small_to_retrieve_temperature_9spectral_fitting_was_not_successful  \\\n",
            "0                                              11.11                                                                                                                                                                                                                                                   \n",
            "1                                              11.27                                                                                                                                                                                                                                                   \n",
            "2                                              15.44                                                                                                                                                                                                                                                   \n",
            "3                                              12.59                                                                                                                                                                                                                                                   \n",
            "4                                              11.28                                                                                                                                                                                                                                                   \n",
            "\n",
            "  common_uncertainty_of_nitrogen_dioxide_effective_temperature_1temperature_fitting_was_requested_but_cross_section_is_zero_in_this_wavelength_range_2no_temperature_fitting_was_requested_and_output_for_effective_temperature_and_common_uncertainty_of_it_is_based_on_fcode_3spectral_fitting_was_done_but_no_independent_uncertainty_could_be_retrieved_4temperature_fitting_was_requested_but_differential_optical_depth_is_too_small_to_retrieve_temperature_6no_independent_uncertainty_input_was_given_9spectral_fitting_was_not_successful  \\\n",
            "0                                              -2.00                                                                                                                                                                                                                                                                                                                                                                                                                                                                                                  \n",
            "1                                              -2.00                                                                                                                                                                                                                                                                                                                                                                                                                                                                                                  \n",
            "2                                              -2.00                                                                                                                                                                                                                                                                                                                                                                                                                                                                                                  \n",
            "3                                              -2.00                                                                                                                                                                                                                                                                                                                                                                                                                                                                                                  \n",
            "4                                              -2.00                                                                                                                                                                                                                                                                                                                                                                                                                                                                                                  \n",
            "\n",
            "  total_uncertainty_of_nitrogen_dioxide_effective_temperature_1temperature_fitting_was_requested_but_cross_section_is_zero_in_this_wavelength_range_2no_temperature_fitting_was_requested_and_output_for_effective_temperature_and_common_uncertainty_of_it_is_based_on_fcode_3spectral_fitting_was_done_but_no_independent_uncertainty_could_be_retrieved_4temperature_fitting_was_requested_but_differential_optical_depth_is_too_small_to_retrieve_temperature_5spectral_fitting_was_done_without_using_the_independent_uncertainty_input_6no_independent_uncertainty_or_common_uncertainty_input_was_given_9spectral_fitting_was_not_successful  \\\n",
            "0                                              11.11                                                                                                                                                                                                                                                                                                                                                                                                                                                                                                                                                                                                  \n",
            "1                                              11.27                                                                                                                                                                                                                                                                                                                                                                                                                                                                                                                                                                                                  \n",
            "2                                              15.44                                                                                                                                                                                                                                                                                                                                                                                                                                                                                                                                                                                                  \n",
            "3                                              12.59                                                                                                                                                                                                                                                                                                                                                                                                                                                                                                                                                                                                  \n",
            "4                                              11.28                                                                                                                                                                                                                                                                                                                                                                                                                                                                                                                                                                                                  \n",
            "\n",
            "  direct_nitrogen_dioxide_air_mass_factor  \\\n",
            "0                                   1.157   \n",
            "1                                   1.153   \n",
            "2                                   1.150   \n",
            "3                                   1.142   \n",
            "4                                   1.139   \n",
            "\n",
            "  uncertainty_of_direct_nitrogen_dioxide_air_mass_factor_7uncertainty_could_not_be_retrieved_since_slant_column_uncertainties_were_missing  \\\n",
            "0                                              0.000                                                                                         \n",
            "1                                              0.000                                                                                         \n",
            "2                                              0.000                                                                                         \n",
            "3                                              0.000                                                                                         \n",
            "4                                              0.000                                                                                         \n",
            "\n",
            "  diffuse_correction_applied_before_fitting_at_effective_fitting_wavelength_for_nitrogen_dioxide_0no_diffuse_correction_applied_or_fitting_not_successful_0measured_diffuse_correction_0negative_value_of_calculated_diffuse_correction  \\\n",
            "0                                           0.00e+00                                                                                                                                                                                      \n",
            "1                                           0.00e+00                                                                                                                                                                                      \n",
            "2                                           0.00e+00                                                                                                                                                                                      \n",
            "3                                           0.00e+00                                                                                                                                                                                      \n",
            "4                                           0.00e+00                                                                                                                                                                                      \n",
            "\n",
            "  climatological_nitrogen_dioxide_stratospheric_column_amount  \\\n",
            "0                                          4.712e-05            \n",
            "1                                          4.718e-05            \n",
            "2                                          4.724e-05            \n",
            "3                                          4.739e-05            \n",
            "4                                          4.744e-05            \n",
            "\n",
            "  uncertainty_of_climatological_nitrogen_dioxide_stratospheric_column_amount  \n",
            "0                                          4.638e-06                          \n",
            "1                                          4.638e-06                          \n",
            "2                                          4.638e-06                          \n",
            "3                                          4.638e-06                          \n",
            "4                                          4.638e-06                          \n",
            "\n",
            "[5 rows x 54 columns]\n"
          ]
        },
        {
          "output_type": "stream",
          "name": "stderr",
          "text": [
            "/tmp/ipython-input-695254985.py:49: UserWarning: Could not infer format, so each element will be parsed individually, falling back to `dateutil`. To ensure parsing is consistent and as-expected, please specify a format.\n",
            "  df[first_col] = pd.to_datetime(df[first_col], errors=\"coerce\")\n"
          ]
        }
      ],
      "source": [
        "import pandas as pd\n",
        "import requests\n",
        "import re\n",
        "\n",
        "def read_pandora_L2_from_url(url):\n",
        "    resp = requests.get(url)\n",
        "    resp.raise_for_status()\n",
        "    lines = resp.text.splitlines()\n",
        "\n",
        "    # --- Step 1: Extract column names ---\n",
        "    col_names = []\n",
        "    for line in lines:\n",
        "        if line.startswith(\"Column\"):\n",
        "            m = re.match(r\"Column\\s+\\d+:\\s+(.*)\", line.strip())\n",
        "            if m:\n",
        "                name = m.group(1)\n",
        "                name = re.sub(r\"\\[.*?\\]\", \"\", name)   # remove [units]\n",
        "                name = re.sub(r\"[^0-9a-zA-Z_ ]+\", \"\", name)  # clean\n",
        "                name = \"_\".join(name.lower().split())\n",
        "                col_names.append(name)\n",
        "\n",
        "    # --- Step 2: Find where numeric data starts ---\n",
        "    data_start = None\n",
        "    dash_count = 0\n",
        "    for i, line in enumerate(lines):\n",
        "        if re.match(r\"^-{5,}\", line):\n",
        "            dash_count += 1\n",
        "            if dash_count == 2:  # the second dashed line\n",
        "                data_start = i + 1\n",
        "                break\n",
        "    if data_start is None:\n",
        "        raise ValueError(\"Could not find data start\")\n",
        "\n",
        "    # --- Step 3: Collect only numeric lines ---\n",
        "    data_lines = [l.strip() for l in lines[data_start:] if l.strip() and not l.startswith(\"Column\")]\n",
        "\n",
        "    # --- Step 4: Build dataframe ---\n",
        "    df = pd.DataFrame([re.split(r\"\\s+\", l) for l in data_lines])\n",
        "\n",
        "    # --- Step 5: Assign names if count matches ---\n",
        "    if len(col_names) == df.shape[1]:\n",
        "        df.columns = col_names\n",
        "    else:\n",
        "        print(f\"⚠️ Mismatch: {len(col_names)} names vs {df.shape[1]} columns in data\")\n",
        "        df.columns = [f\"col_{i+1}\" for i in range(df.shape[1])]\n",
        "\n",
        "    # --- Step 6: Try parsing first column as datetime ---\n",
        "    first_col = df.columns[0]\n",
        "    df[first_col] = pd.to_datetime(df[first_col], errors=\"coerce\")\n",
        "\n",
        "    return df\n",
        "\n",
        "\n",
        "# ✅ Usage\n",
        "url = \"https://data.hetzner.pandonia-global-network.org/WashingtonDC/Pandora140s1/L2/Pandora140s1_WashingtonDC_L2_rnvs3p1-8.txt\"\n",
        "df = read_pandora_L2_from_url(url)\n",
        "print(df.shape)\n",
        "print(df.head())\n"
      ]
    },
    {
      "cell_type": "code",
      "source": [],
      "metadata": {
        "id": "PMQCI2fCYEJO"
      },
      "execution_count": null,
      "outputs": []
    },
    {
      "cell_type": "code",
      "execution_count": null,
      "metadata": {
        "id": "vAsf7LrtI8xy",
        "colab": {
          "base_uri": "https://localhost:8080/"
        },
        "outputId": "b5ac4084-0305-4086-9e99-f15096d41655"
      },
      "outputs": [
        {
          "output_type": "stream",
          "name": "stdout",
          "text": [
            "Index(['ut_date_and_time_for_measurement_center_yyyymmddthhmmssz_iso_8601',\n",
            "       'fractional_days_since_1jan2000_ut_midnight_for_measurement_center',\n",
            "       'effective_duration_of_measurement',\n",
            "       'solar_zenith_angle_for_measurement_center',\n",
            "       'solar_azimuth_for_measurement_center_0north_increases_clockwise',\n",
            "       'lunar_zenith_angle_for_measurement_center',\n",
            "       'lunar_azimuth_for_measurement_center_0north_increases_clockwise',\n",
            "       'rms_of_unweighted_fitting_residuals_9fitting_not_successful',\n",
            "       'normalized_rms_of_fitting_residuals_weighted_with_independent_uncertainty_9fitting_not_successful_or_no_uncertainty_given',\n",
            "       'expected_rms_of_unweighted_fitting_residuals_based_on_independent_uncertainty_9fitting_not_successful_or_no_uncertainty_given',\n",
            "       'expected_normalized_rms_of_weighted_fitting_residuals_based_on_independent_uncertainty_9fitting_not_successful_or_no_uncertainty_given',\n",
            "       'climatological_station_pressure', 'data_processing_type_index',\n",
            "       'calibration_file_version', 'calibration_file_validity_starting_date',\n",
            "       'mean_value_of_measured_data_inside_fitting_window',\n",
            "       'wavelength_effective_temperature_999no_effective_temperature_given',\n",
            "       'estimated_average_residual_stray_light_level_only_valid_for_stray_light_correction_methods_2_and_higher',\n",
            "       'retrieved_wavelength_shift_from_l1_data_9no_wavelength_change_determination',\n",
            "       'retrieved_total_wavelength_shift_9no_wavelength_change_fitting',\n",
            "       'retrieved_resolution_change_999no_resolution_change_fitting',\n",
            "       'integration_time', 'number_of_bright_count_cycles',\n",
            "       'effective_position_of_filterwheel_1_0filterwheel_not_used_19_are_valid_positions',\n",
            "       'effective_position_of_filterwheel_2_0filterwheel_not_used_19_are_valid_positions',\n",
            "       'atmospheric_variability_999no_atmospheric_variability_was_determined',\n",
            "       'estimated_aerosol_optical_depth_at_starting_wavelength_of_fitting_window',\n",
            "       'estimated_aerosol_optical_depth_at_center_wavelength_of_fitting_window',\n",
            "       'estimated_aerosol_optical_depth_at_ending_wavelength_of_fitting_window',\n",
            "       'l1_data_quality_flag_0assured_high_quality_1assured_medium_quality_2assured_low_quality_10notassured_high_quality_11notassured_medium_quality_12notassured_low_quality',\n",
            "       'sum_over_2i_using_those_i_for_which_the_corresponding_l1_data_quality_parameter_exceeds_the_dq1_limit_0saturated_data_1too_few_dark_counts_measurements_2no_temperature_given_or_effective_temperature_too_different_from_the_reference_temperature_3dark_count_too_high_4unsuccessful_dark_background_fitting_5the_dark_count_differs_significantly_from_the_dark_map_for_too_many_pixels_6absolute_value_of_estimated_average_residual_stray_light_level_too_high_7although_attempted_no_wavelength_change_could_be_retrieved_8absolute_value_of_retrieved_wavelength_shift_too_large_9retrieved_wavelength_shift_differs_too_much_from_the_shift_predicted_by_the_effective_temperature',\n",
            "       'sum_over_2i_using_those_i_for_which_the_corresponding_l1_data_quality_parameter_exceeds_the_dq2_limit_same_parameters_as_for_dq1',\n",
            "       'l2fit_data_quality_flag_0assured_high_quality_1assured_medium_quality_2assured_low_quality_10notassured_high_quality_11notassured_medium_quality_12notassured_low_quality',\n",
            "       'sum_over_2i_using_those_i_for_which_the_corresponding_l2fit_data_quality_parameter_exceeds_the_dq1_limit_0l1_data_quality_above_0_1spectral_fitting_was_not_successful_2wavelength_shift_too_large_3normalized_rms_of_fitting_residuals_weighted_with_independent_uncertainty_too_large',\n",
            "       'sum_over_2i_using_those_i_for_which_the_corresponding_l2fit_data_quality_parameter_exceeds_the_dq2_limit_same_parameters_as_for_dq1',\n",
            "       'l2_data_quality_flag_for_nitrogen_dioxide_0assured_high_quality_1assured_medium_quality_2assured_low_quality_10notassured_high_quality_11notassured_medium_quality_12notassured_low_quality_20unusable_high_quality_21unusable_medium_quality_22unusable_low_quality',\n",
            "       'sum_over_2i_using_those_i_for_which_the_corresponding_l2_data_quality_parameter_for_nitrogen_dioxide_exceeds_the_dq1_limit_0l2fit_data_quality_above_0_1retrieval_error_2air_mass_factor_too_large_3atmospheric_variability_too_large',\n",
            "       'sum_over_2i_using_those_i_for_which_the_corresponding_l2_data_quality_parameter_for_nitrogen_dioxide_exceeds_the_dq2_limit_same_parameters_as_for_dq1',\n",
            "       'nitrogen_dioxide_total_vertical_column_amount_9e99retrieval_not_successful',\n",
            "       'independent_uncertainty_of_nitrogen_dioxide_total_vertical_column_amount_1cross_section_is_zero_in_this_wavelength_range_3spectral_fitting_was_done_but_no_independent_uncertainty_could_be_retrieved_5no_independent_uncertainty_input_was_given_9spectral_fitting_was_not_successful',\n",
            "       'structured_uncertainty_of_nitrogen_dioxide_total_vertical_column_amount_1cross_section_is_zero_in_this_wavelength_range_7not_given_since_method_meas_was_chosen_9spectral_fitting_was_not_successful',\n",
            "       'common_uncertainty_of_nitrogen_dioxide_total_vertical_column_amount_1cross_section_is_zero_in_this_wavelength_range_6no_common_uncertainty_input_was_given_7not_given_since_method_meas_was_chosen_9spectral_fitting_was_not_successful',\n",
            "       'total_uncertainty_of_nitrogen_dioxide_total_vertical_column_amount_1cross_section_is_zero_in_this_wavelength_range_3spectral_fitting_was_done_but_no_independent_uncertainty_could_be_retrieved_5no_independent_uncertainty_input_was_given_6no_common_uncertainty_input_was_given_7not_given_since_method_meas_was_chosen_8not_given_since_not_all_components_are_given',\n",
            "       'rmsbased_uncertainty_of_nitrogen_dioxide_total_vertical_column_amount_1cross_section_is_zero_in_this_wavelength_range_3spectral_fitting_was_done_but_no_independent_uncertainty_could_be_retrieved_9spectral_fitting_was_not_successful',\n",
            "       'nitrogen_dioxide_effective_temperature',\n",
            "       'independent_uncertainty_of_nitrogen_dioxide_effective_temperature_1temperature_fitting_was_requested_but_cross_section_is_zero_in_this_wavelength_range_2no_temperature_fitting_was_requested_and_output_for_effective_temperature_and_common_uncertainty_of_it_is_based_on_fcode_3spectral_fitting_was_done_but_no_independent_uncertainty_could_be_retrieved_4temperature_fitting_was_requested_but_differential_optical_depth_is_too_small_to_retrieve_temperature_5spectral_fitting_was_done_without_using_the_independent_uncertainty_input_6no_independent_uncertainty_input_was_given_9spectral_fitting_was_not_successful',\n",
            "       'structured_uncertainty_of_nitrogen_dioxide_effective_temperature_1temperature_fitting_was_requested_but_cross_section_is_zero_in_this_wavelength_range_4temperature_fitting_was_requested_but_differential_optical_depth_is_too_small_to_retrieve_temperature_9spectral_fitting_was_not_successful',\n",
            "       'common_uncertainty_of_nitrogen_dioxide_effective_temperature_1temperature_fitting_was_requested_but_cross_section_is_zero_in_this_wavelength_range_2no_temperature_fitting_was_requested_and_output_for_effective_temperature_and_common_uncertainty_of_it_is_based_on_fcode_3spectral_fitting_was_done_but_no_independent_uncertainty_could_be_retrieved_4temperature_fitting_was_requested_but_differential_optical_depth_is_too_small_to_retrieve_temperature_6no_independent_uncertainty_input_was_given_9spectral_fitting_was_not_successful',\n",
            "       'total_uncertainty_of_nitrogen_dioxide_effective_temperature_1temperature_fitting_was_requested_but_cross_section_is_zero_in_this_wavelength_range_2no_temperature_fitting_was_requested_and_output_for_effective_temperature_and_common_uncertainty_of_it_is_based_on_fcode_3spectral_fitting_was_done_but_no_independent_uncertainty_could_be_retrieved_4temperature_fitting_was_requested_but_differential_optical_depth_is_too_small_to_retrieve_temperature_5spectral_fitting_was_done_without_using_the_independent_uncertainty_input_6no_independent_uncertainty_or_common_uncertainty_input_was_given_9spectral_fitting_was_not_successful',\n",
            "       'direct_nitrogen_dioxide_air_mass_factor',\n",
            "       'uncertainty_of_direct_nitrogen_dioxide_air_mass_factor_7uncertainty_could_not_be_retrieved_since_slant_column_uncertainties_were_missing',\n",
            "       'diffuse_correction_applied_before_fitting_at_effective_fitting_wavelength_for_nitrogen_dioxide_0no_diffuse_correction_applied_or_fitting_not_successful_0measured_diffuse_correction_0negative_value_of_calculated_diffuse_correction',\n",
            "       'climatological_nitrogen_dioxide_stratospheric_column_amount',\n",
            "       'uncertainty_of_climatological_nitrogen_dioxide_stratospheric_column_amount'],\n",
            "      dtype='object')\n",
            "\n",
            "Selected and renamed columns:\n",
            "Index(['timestamp', 'NO2_column_density'], dtype='object')\n",
            "\n",
            "Timestamp column converted to datetime.\n"
          ]
        }
      ],
      "source": [
        "# 1️⃣ See all columns in the DataFrame\n",
        "print(df.columns)\n",
        "\n",
        "# Select and rename columns\n",
        "required_columns = {\n",
        "    'ut_date_and_time_for_measurement_center_yyyymmddthhmmssz_iso_8601': 'timestamp',\n",
        "    'nitrogen_dioxide_total_vertical_column_amount_9e99retrieval_not_successful': 'NO2_column_density'\n",
        "}\n",
        "\n",
        "# Check if required columns exist in the DataFrame\n",
        "existing_columns = [col for col in required_columns.keys() if col in df.columns]\n",
        "\n",
        "if len(existing_columns) == len(required_columns):\n",
        "    # Select only the required columns and rename them\n",
        "    df = df[existing_columns].rename(columns=required_columns)\n",
        "    print(\"\\nSelected and renamed columns:\")\n",
        "    print(df.columns)\n",
        "else:\n",
        "    print(\"\\n⚠️ Warning: Not all required columns were found in the DataFrame.\")\n",
        "    print(\"Required columns:\", list(required_columns.keys()))\n",
        "    print(\"Existing columns:\", existing_columns)\n",
        "\n",
        "\n",
        "# 2️⃣ Convert the timestamp column to datetime\n",
        "if 'timestamp' in df.columns:\n",
        "    df['timestamp'] = pd.to_datetime(df['timestamp'], errors='coerce')\n",
        "    print(\"\\nTimestamp column converted to datetime.\")\n",
        "else:\n",
        "    print(\"\\n⚠️ Warning: 'timestamp' column not found after selection and renaming.\")"
      ]
    },
    {
      "cell_type": "code",
      "execution_count": null,
      "metadata": {
        "id": "b1lOabnTRtUM",
        "colab": {
          "base_uri": "https://localhost:8080/",
          "height": 347
        },
        "outputId": "6ecad9c0-1701-4f78-8302-0ba8e25086c5"
      },
      "outputs": [
        {
          "output_type": "error",
          "ename": "FileNotFoundError",
          "evalue": "[Errno 2] No such file or directory: '/content/Pandora140s1_WashingtonDC_L2_rnvs3p1-8.txt'",
          "traceback": [
            "\u001b[0;31m---------------------------------------------------------------------------\u001b[0m",
            "\u001b[0;31mFileNotFoundError\u001b[0m                         Traceback (most recent call last)",
            "\u001b[0;32m/tmp/ipython-input-4207283627.py\u001b[0m in \u001b[0;36m<cell line: 0>\u001b[0;34m()\u001b[0m\n\u001b[1;32m     64\u001b[0m \u001b[0;31m# ✅ Use your actual file path\u001b[0m\u001b[0;34m\u001b[0m\u001b[0;34m\u001b[0m\u001b[0m\n\u001b[1;32m     65\u001b[0m \u001b[0mfile_path\u001b[0m \u001b[0;34m=\u001b[0m \u001b[0;34m\"/content/Pandora140s1_WashingtonDC_L2_rnvs3p1-8.txt\"\u001b[0m\u001b[0;34m\u001b[0m\u001b[0;34m\u001b[0m\u001b[0m\n\u001b[0;32m---> 66\u001b[0;31m \u001b[0mdf\u001b[0m \u001b[0;34m=\u001b[0m \u001b[0mread_pandora_L2\u001b[0m\u001b[0;34m(\u001b[0m\u001b[0mfile_path\u001b[0m\u001b[0;34m)\u001b[0m\u001b[0;34m\u001b[0m\u001b[0;34m\u001b[0m\u001b[0m\n\u001b[0m\u001b[1;32m     67\u001b[0m \u001b[0;34m\u001b[0m\u001b[0m\n\u001b[1;32m     68\u001b[0m \u001b[0;31m# Quick check\u001b[0m\u001b[0;34m\u001b[0m\u001b[0;34m\u001b[0m\u001b[0m\n",
            "\u001b[0;32m/tmp/ipython-input-4207283627.py\u001b[0m in \u001b[0;36mread_pandora_L2\u001b[0;34m(file_path)\u001b[0m\n\u001b[1;32m     11\u001b[0m \u001b[0;34m\u001b[0m\u001b[0m\n\u001b[1;32m     12\u001b[0m     \u001b[0;31m# Step 1: Read file\u001b[0m\u001b[0;34m\u001b[0m\u001b[0;34m\u001b[0m\u001b[0m\n\u001b[0;32m---> 13\u001b[0;31m     \u001b[0;32mwith\u001b[0m \u001b[0mopen\u001b[0m\u001b[0;34m(\u001b[0m\u001b[0mfile_path\u001b[0m\u001b[0;34m,\u001b[0m \u001b[0;34m\"r\"\u001b[0m\u001b[0;34m,\u001b[0m \u001b[0mencoding\u001b[0m\u001b[0;34m=\u001b[0m\u001b[0;34m\"latin1\"\u001b[0m\u001b[0;34m)\u001b[0m \u001b[0;32mas\u001b[0m \u001b[0mf\u001b[0m\u001b[0;34m:\u001b[0m\u001b[0;34m\u001b[0m\u001b[0;34m\u001b[0m\u001b[0m\n\u001b[0m\u001b[1;32m     14\u001b[0m         \u001b[0mlines\u001b[0m \u001b[0;34m=\u001b[0m \u001b[0mf\u001b[0m\u001b[0;34m.\u001b[0m\u001b[0mreadlines\u001b[0m\u001b[0;34m(\u001b[0m\u001b[0;34m)\u001b[0m\u001b[0;34m\u001b[0m\u001b[0;34m\u001b[0m\u001b[0m\n\u001b[1;32m     15\u001b[0m \u001b[0;34m\u001b[0m\u001b[0m\n",
            "\u001b[0;31mFileNotFoundError\u001b[0m: [Errno 2] No such file or directory: '/content/Pandora140s1_WashingtonDC_L2_rnvs3p1-8.txt'"
          ]
        }
      ],
      "source": [
        "import pandas as pd\n",
        "import re\n",
        "\n",
        "def read_pandora_L2(file_path):\n",
        "    \"\"\"\n",
        "    Robust reader for Pandora L2 .txt files.\n",
        "    - Extracts column names from 'Column N: ...' lines\n",
        "    - Skips metadata/header before the dashed line\n",
        "    - Reads the table into a DataFrame with proper dtypes\n",
        "    \"\"\"\n",
        "\n",
        "    # Step 1: Read file\n",
        "    with open(file_path, \"r\", encoding=\"latin1\") as f:\n",
        "        lines = f.readlines()\n",
        "\n",
        "    # Step 2: Extract column definitions\n",
        "    col_names = []\n",
        "    for line in lines:\n",
        "        if line.startswith(\"Column\"):\n",
        "            # Example: \"Column 1: UT date and time ...\"\n",
        "            match = re.match(r\"Column\\s+\\d+:\\s+(.*)\", line.strip())\n",
        "            if match:\n",
        "                col_name = match.group(1)\n",
        "                # Simplify the column name (remove units/special chars)\n",
        "                col_name = re.sub(r\"\\[.*?\\]\", \"\", col_name)   # remove [units]\n",
        "                col_name = re.sub(r\"[^0-9a-zA-Z_ ]+\", \"\", col_name) # keep clean\n",
        "                col_name = \"_\".join(col_name.lower().split())\n",
        "                col_names.append(col_name)\n",
        "\n",
        "    # Step 3: Find where the actual data starts (after dashed line)\n",
        "    data_start_idx = None\n",
        "    for i, line in enumerate(lines):\n",
        "        if re.match(r\"^-{5,}\", line):  # line of dashes\n",
        "            data_start_idx = i + 1\n",
        "            break\n",
        "\n",
        "    if data_start_idx is None:\n",
        "        raise ValueError(\"Could not find start of data table.\")\n",
        "\n",
        "    # Step 4: Extract only data lines\n",
        "    data_lines = [line.strip() for line in lines[data_start_idx:] if line.strip()]\n",
        "\n",
        "    # Step 5: Read into DataFrame (whitespace-delimited)\n",
        "    df = pd.DataFrame([re.split(r\"\\s+\", l) for l in data_lines], columns=col_names)\n",
        "\n",
        "    # Step 6: Convert numeric columns\n",
        "    for col in df.columns:\n",
        "        df[col] = pd.to_numeric(df[col], errors=\"ignore\")\n",
        "\n",
        "    # Step 7: Handle Timestamp column (assume first column is datetime)\n",
        "    if \"ut_date_and_time_for_measurement_center_yyyymmddthhmmssz_iso_8601\" in df.columns:\n",
        "        ts_col = \"ut_date_and_time_for_measurement_center_yyyymmddthhmmssz_iso_8601\"\n",
        "        df[ts_col] = pd.to_datetime(df[ts_col], errors=\"coerce\")\n",
        "        df = df.set_index(ts_col).sort_index()\n",
        "\n",
        "    # Step 8: Clean sentinel values\n",
        "    df = df.replace([-9999, -999, -99], pd.NA)\n",
        "    df = df.dropna(how=\"all\")\n",
        "    df = df.drop_duplicates()\n",
        "\n",
        "    return df\n",
        "\n",
        "\n",
        "# ✅ Use your actual file path\n",
        "file_path = \"/content/Pandora140s1_WashingtonDC_L2_rnvs3p1-8.txt\"\n",
        "df = read_pandora_L2(file_path)\n",
        "\n",
        "# Quick check\n",
        "print(df.head())\n",
        "print(df.columns[:10])  # show first 10 column names"
      ]
    },
    {
      "cell_type": "code",
      "execution_count": null,
      "metadata": {
        "id": "PIiWwaJaJGo0",
        "colab": {
          "base_uri": "https://localhost:8080/",
          "height": 397
        },
        "outputId": "88c2a64c-21ed-4cd5-d237-35b0d56a7b1d"
      },
      "outputs": [
        {
          "output_type": "stream",
          "name": "stdout",
          "text": [
            "(930064, 2)\n",
            "<class 'pandas.core.frame.DataFrame'>\n",
            "RangeIndex: 930064 entries, 0 to 930063\n",
            "Data columns (total 2 columns):\n",
            " #   Column              Non-Null Count   Dtype              \n",
            "---  ------              --------------   -----              \n",
            " 0   timestamp           930064 non-null  datetime64[ns, UTC]\n",
            " 1   NO2_column_density  930064 non-null  object             \n",
            "dtypes: datetime64[ns, UTC](1), object(1)\n",
            "memory usage: 14.2+ MB\n",
            "None\n"
          ]
        },
        {
          "output_type": "display_data",
          "data": {
            "text/plain": [
              "                         timestamp NO2_column_density\n",
              "0 2020-08-06 15:41:10.600000+00:00         1.2436e-04\n",
              "1 2020-08-06 15:43:18.100000+00:00         1.2665e-04\n",
              "2 2020-08-06 15:45:28.600000+00:00         2.4551e-04\n",
              "3 2020-08-06 15:50:34.900000+00:00         1.5051e-04\n",
              "4 2020-08-06 15:52:23.500000+00:00         1.2749e-04"
            ],
            "text/html": [
              "\n",
              "  <div id=\"df-d96fd635-c627-4c9f-b7ea-e180123c6f45\" class=\"colab-df-container\">\n",
              "    <div>\n",
              "<style scoped>\n",
              "    .dataframe tbody tr th:only-of-type {\n",
              "        vertical-align: middle;\n",
              "    }\n",
              "\n",
              "    .dataframe tbody tr th {\n",
              "        vertical-align: top;\n",
              "    }\n",
              "\n",
              "    .dataframe thead th {\n",
              "        text-align: right;\n",
              "    }\n",
              "</style>\n",
              "<table border=\"1\" class=\"dataframe\">\n",
              "  <thead>\n",
              "    <tr style=\"text-align: right;\">\n",
              "      <th></th>\n",
              "      <th>timestamp</th>\n",
              "      <th>NO2_column_density</th>\n",
              "    </tr>\n",
              "  </thead>\n",
              "  <tbody>\n",
              "    <tr>\n",
              "      <th>0</th>\n",
              "      <td>2020-08-06 15:41:10.600000+00:00</td>\n",
              "      <td>1.2436e-04</td>\n",
              "    </tr>\n",
              "    <tr>\n",
              "      <th>1</th>\n",
              "      <td>2020-08-06 15:43:18.100000+00:00</td>\n",
              "      <td>1.2665e-04</td>\n",
              "    </tr>\n",
              "    <tr>\n",
              "      <th>2</th>\n",
              "      <td>2020-08-06 15:45:28.600000+00:00</td>\n",
              "      <td>2.4551e-04</td>\n",
              "    </tr>\n",
              "    <tr>\n",
              "      <th>3</th>\n",
              "      <td>2020-08-06 15:50:34.900000+00:00</td>\n",
              "      <td>1.5051e-04</td>\n",
              "    </tr>\n",
              "    <tr>\n",
              "      <th>4</th>\n",
              "      <td>2020-08-06 15:52:23.500000+00:00</td>\n",
              "      <td>1.2749e-04</td>\n",
              "    </tr>\n",
              "  </tbody>\n",
              "</table>\n",
              "</div>\n",
              "    <div class=\"colab-df-buttons\">\n",
              "\n",
              "  <div class=\"colab-df-container\">\n",
              "    <button class=\"colab-df-convert\" onclick=\"convertToInteractive('df-d96fd635-c627-4c9f-b7ea-e180123c6f45')\"\n",
              "            title=\"Convert this dataframe to an interactive table.\"\n",
              "            style=\"display:none;\">\n",
              "\n",
              "  <svg xmlns=\"http://www.w3.org/2000/svg\" height=\"24px\" viewBox=\"0 -960 960 960\">\n",
              "    <path d=\"M120-120v-720h720v720H120Zm60-500h600v-160H180v160Zm220 220h160v-160H400v160Zm0 220h160v-160H400v160ZM180-400h160v-160H180v160Zm440 0h160v-160H620v160ZM180-180h160v-160H180v160Zm440 0h160v-160H620v160Z\"/>\n",
              "  </svg>\n",
              "    </button>\n",
              "\n",
              "  <style>\n",
              "    .colab-df-container {\n",
              "      display:flex;\n",
              "      gap: 12px;\n",
              "    }\n",
              "\n",
              "    .colab-df-convert {\n",
              "      background-color: #E8F0FE;\n",
              "      border: none;\n",
              "      border-radius: 50%;\n",
              "      cursor: pointer;\n",
              "      display: none;\n",
              "      fill: #1967D2;\n",
              "      height: 32px;\n",
              "      padding: 0 0 0 0;\n",
              "      width: 32px;\n",
              "    }\n",
              "\n",
              "    .colab-df-convert:hover {\n",
              "      background-color: #E2EBFA;\n",
              "      box-shadow: 0px 1px 2px rgba(60, 64, 67, 0.3), 0px 1px 3px 1px rgba(60, 64, 67, 0.15);\n",
              "      fill: #174EA6;\n",
              "    }\n",
              "\n",
              "    .colab-df-buttons div {\n",
              "      margin-bottom: 4px;\n",
              "    }\n",
              "\n",
              "    [theme=dark] .colab-df-convert {\n",
              "      background-color: #3B4455;\n",
              "      fill: #D2E3FC;\n",
              "    }\n",
              "\n",
              "    [theme=dark] .colab-df-convert:hover {\n",
              "      background-color: #434B5C;\n",
              "      box-shadow: 0px 1px 3px 1px rgba(0, 0, 0, 0.15);\n",
              "      filter: drop-shadow(0px 1px 2px rgba(0, 0, 0, 0.3));\n",
              "      fill: #FFFFFF;\n",
              "    }\n",
              "  </style>\n",
              "\n",
              "    <script>\n",
              "      const buttonEl =\n",
              "        document.querySelector('#df-d96fd635-c627-4c9f-b7ea-e180123c6f45 button.colab-df-convert');\n",
              "      buttonEl.style.display =\n",
              "        google.colab.kernel.accessAllowed ? 'block' : 'none';\n",
              "\n",
              "      async function convertToInteractive(key) {\n",
              "        const element = document.querySelector('#df-d96fd635-c627-4c9f-b7ea-e180123c6f45');\n",
              "        const dataTable =\n",
              "          await google.colab.kernel.invokeFunction('convertToInteractive',\n",
              "                                                    [key], {});\n",
              "        if (!dataTable) return;\n",
              "\n",
              "        const docLinkHtml = 'Like what you see? Visit the ' +\n",
              "          '<a target=\"_blank\" href=https://colab.research.google.com/notebooks/data_table.ipynb>data table notebook</a>'\n",
              "          + ' to learn more about interactive tables.';\n",
              "        element.innerHTML = '';\n",
              "        dataTable['output_type'] = 'display_data';\n",
              "        await google.colab.output.renderOutput(dataTable, element);\n",
              "        const docLink = document.createElement('div');\n",
              "        docLink.innerHTML = docLinkHtml;\n",
              "        element.appendChild(docLink);\n",
              "      }\n",
              "    </script>\n",
              "  </div>\n",
              "\n",
              "\n",
              "    <div id=\"df-b28c50af-61cf-421b-9bd2-95cbc9820ba4\">\n",
              "      <button class=\"colab-df-quickchart\" onclick=\"quickchart('df-b28c50af-61cf-421b-9bd2-95cbc9820ba4')\"\n",
              "                title=\"Suggest charts\"\n",
              "                style=\"display:none;\">\n",
              "\n",
              "<svg xmlns=\"http://www.w3.org/2000/svg\" height=\"24px\"viewBox=\"0 0 24 24\"\n",
              "     width=\"24px\">\n",
              "    <g>\n",
              "        <path d=\"M19 3H5c-1.1 0-2 .9-2 2v14c0 1.1.9 2 2 2h14c1.1 0 2-.9 2-2V5c0-1.1-.9-2-2-2zM9 17H7v-7h2v7zm4 0h-2V7h2v10zm4 0h-2v-4h2v4z\"/>\n",
              "    </g>\n",
              "</svg>\n",
              "      </button>\n",
              "\n",
              "<style>\n",
              "  .colab-df-quickchart {\n",
              "      --bg-color: #E8F0FE;\n",
              "      --fill-color: #1967D2;\n",
              "      --hover-bg-color: #E2EBFA;\n",
              "      --hover-fill-color: #174EA6;\n",
              "      --disabled-fill-color: #AAA;\n",
              "      --disabled-bg-color: #DDD;\n",
              "  }\n",
              "\n",
              "  [theme=dark] .colab-df-quickchart {\n",
              "      --bg-color: #3B4455;\n",
              "      --fill-color: #D2E3FC;\n",
              "      --hover-bg-color: #434B5C;\n",
              "      --hover-fill-color: #FFFFFF;\n",
              "      --disabled-bg-color: #3B4455;\n",
              "      --disabled-fill-color: #666;\n",
              "  }\n",
              "\n",
              "  .colab-df-quickchart {\n",
              "    background-color: var(--bg-color);\n",
              "    border: none;\n",
              "    border-radius: 50%;\n",
              "    cursor: pointer;\n",
              "    display: none;\n",
              "    fill: var(--fill-color);\n",
              "    height: 32px;\n",
              "    padding: 0;\n",
              "    width: 32px;\n",
              "  }\n",
              "\n",
              "  .colab-df-quickchart:hover {\n",
              "    background-color: var(--hover-bg-color);\n",
              "    box-shadow: 0 1px 2px rgba(60, 64, 67, 0.3), 0 1px 3px 1px rgba(60, 64, 67, 0.15);\n",
              "    fill: var(--button-hover-fill-color);\n",
              "  }\n",
              "\n",
              "  .colab-df-quickchart-complete:disabled,\n",
              "  .colab-df-quickchart-complete:disabled:hover {\n",
              "    background-color: var(--disabled-bg-color);\n",
              "    fill: var(--disabled-fill-color);\n",
              "    box-shadow: none;\n",
              "  }\n",
              "\n",
              "  .colab-df-spinner {\n",
              "    border: 2px solid var(--fill-color);\n",
              "    border-color: transparent;\n",
              "    border-bottom-color: var(--fill-color);\n",
              "    animation:\n",
              "      spin 1s steps(1) infinite;\n",
              "  }\n",
              "\n",
              "  @keyframes spin {\n",
              "    0% {\n",
              "      border-color: transparent;\n",
              "      border-bottom-color: var(--fill-color);\n",
              "      border-left-color: var(--fill-color);\n",
              "    }\n",
              "    20% {\n",
              "      border-color: transparent;\n",
              "      border-left-color: var(--fill-color);\n",
              "      border-top-color: var(--fill-color);\n",
              "    }\n",
              "    30% {\n",
              "      border-color: transparent;\n",
              "      border-left-color: var(--fill-color);\n",
              "      border-top-color: var(--fill-color);\n",
              "      border-right-color: var(--fill-color);\n",
              "    }\n",
              "    40% {\n",
              "      border-color: transparent;\n",
              "      border-right-color: var(--fill-color);\n",
              "      border-top-color: var(--fill-color);\n",
              "    }\n",
              "    60% {\n",
              "      border-color: transparent;\n",
              "      border-right-color: var(--fill-color);\n",
              "    }\n",
              "    80% {\n",
              "      border-color: transparent;\n",
              "      border-right-color: var(--fill-color);\n",
              "      border-bottom-color: var(--fill-color);\n",
              "    }\n",
              "    90% {\n",
              "      border-color: transparent;\n",
              "      border-bottom-color: var(--fill-color);\n",
              "    }\n",
              "  }\n",
              "</style>\n",
              "\n",
              "      <script>\n",
              "        async function quickchart(key) {\n",
              "          const quickchartButtonEl =\n",
              "            document.querySelector('#' + key + ' button');\n",
              "          quickchartButtonEl.disabled = true;  // To prevent multiple clicks.\n",
              "          quickchartButtonEl.classList.add('colab-df-spinner');\n",
              "          try {\n",
              "            const charts = await google.colab.kernel.invokeFunction(\n",
              "                'suggestCharts', [key], {});\n",
              "          } catch (error) {\n",
              "            console.error('Error during call to suggestCharts:', error);\n",
              "          }\n",
              "          quickchartButtonEl.classList.remove('colab-df-spinner');\n",
              "          quickchartButtonEl.classList.add('colab-df-quickchart-complete');\n",
              "        }\n",
              "        (() => {\n",
              "          let quickchartButtonEl =\n",
              "            document.querySelector('#df-b28c50af-61cf-421b-9bd2-95cbc9820ba4 button');\n",
              "          quickchartButtonEl.style.display =\n",
              "            google.colab.kernel.accessAllowed ? 'block' : 'none';\n",
              "        })();\n",
              "      </script>\n",
              "    </div>\n",
              "\n",
              "    </div>\n",
              "  </div>\n"
            ],
            "application/vnd.google.colaboratory.intrinsic+json": {
              "type": "dataframe",
              "summary": "{\n  \"name\": \"display(df\",\n  \"rows\": 5,\n  \"fields\": [\n    {\n      \"column\": \"timestamp\",\n      \"properties\": {\n        \"dtype\": \"date\",\n        \"min\": \"2020-08-06 15:41:10.600000+00:00\",\n        \"max\": \"2020-08-06 15:52:23.500000+00:00\",\n        \"num_unique_values\": 5,\n        \"samples\": [\n          \"2020-08-06 15:43:18.100000+00:00\",\n          \"2020-08-06 15:52:23.500000+00:00\",\n          \"2020-08-06 15:45:28.600000+00:00\"\n        ],\n        \"semantic_type\": \"\",\n        \"description\": \"\"\n      }\n    },\n    {\n      \"column\": \"NO2_column_density\",\n      \"properties\": {\n        \"dtype\": \"string\",\n        \"num_unique_values\": 5,\n        \"samples\": [\n          \"1.2665e-04\",\n          \"1.2749e-04\",\n          \"2.4551e-04\"\n        ],\n        \"semantic_type\": \"\",\n        \"description\": \"\"\n      }\n    }\n  ]\n}"
            }
          },
          "metadata": {}
        }
      ],
      "source": [
        "# Check dataframe shape and column types\n",
        "print(df.shape)\n",
        "print(df.info())\n",
        "\n",
        "# Quick look at first few rows\n",
        "display(df.head())"
      ]
    },
    {
      "cell_type": "code",
      "execution_count": null,
      "metadata": {
        "id": "QzBMbUXjJNDg",
        "colab": {
          "base_uri": "https://localhost:8080/"
        },
        "outputId": "6dc0c10c-1d62-47c3-8a94-c97623146548"
      },
      "outputs": [
        {
          "output_type": "stream",
          "name": "stdout",
          "text": [
            "timestamp             0\n",
            "NO2_column_density    0\n",
            "dtype: int64\n"
          ]
        }
      ],
      "source": [
        "# Count missing values\n",
        "print(df.isna().sum())\n",
        "\n",
        "# Drop rows where NO2 or Time is missing\n",
        "df = df.dropna(subset=['timestamp', 'NO2_column_density'])\n",
        "\n",
        "# Optional: reset index\n",
        "df.reset_index(drop=True, inplace=True)"
      ]
    },
    {
      "cell_type": "code",
      "execution_count": null,
      "metadata": {
        "id": "vhuqHckRLjqt",
        "colab": {
          "base_uri": "https://localhost:8080/"
        },
        "outputId": "9efd92f9-7498-48dc-bd14-6a7d0bd2686d"
      },
      "outputs": [
        {
          "output_type": "stream",
          "name": "stdout",
          "text": [
            "Index(['timestamp', 'no2_column_density'], dtype='object')\n"
          ]
        }
      ],
      "source": [
        "# Remove spaces, make lowercase\n",
        "df.columns = df.columns.str.strip().str.lower().str.replace(' ', '_')\n",
        "print(df.columns)\n"
      ]
    },
    {
      "cell_type": "code",
      "execution_count": null,
      "metadata": {
        "id": "QAGuMu7ULk_E",
        "colab": {
          "base_uri": "https://localhost:8080/"
        },
        "outputId": "dba5c4ce-6233-4513-e456-887589f6085f"
      },
      "outputs": [
        {
          "output_type": "stream",
          "name": "stdout",
          "text": [
            "<class 'pandas.core.frame.DataFrame'>\n",
            "RangeIndex: 930064 entries, 0 to 930063\n",
            "Data columns (total 2 columns):\n",
            " #   Column              Non-Null Count   Dtype              \n",
            "---  ------              --------------   -----              \n",
            " 0   timestamp           930064 non-null  datetime64[ns, UTC]\n",
            " 1   no2_column_density  930064 non-null  object             \n",
            "dtypes: datetime64[ns, UTC](1), object(1)\n",
            "memory usage: 14.2+ MB\n",
            "None\n",
            "                         timestamp no2_column_density\n",
            "0 2020-08-06 15:41:10.600000+00:00         1.2436e-04\n",
            "1 2020-08-06 15:43:18.100000+00:00         1.2665e-04\n",
            "2 2020-08-06 15:45:28.600000+00:00         2.4551e-04\n",
            "3 2020-08-06 15:50:34.900000+00:00         1.5051e-04\n",
            "4 2020-08-06 15:52:23.500000+00:00         1.2749e-04\n"
          ]
        }
      ],
      "source": [
        "# Keep only relevant columns\n",
        "df = df[['timestamp', 'no2_column_density']]\n",
        "\n",
        "# Convert timestamp to datetime\n",
        "df['timestamp'] = pd.to_datetime(df['timestamp'], errors='coerce')\n",
        "\n",
        "# Check the result\n",
        "print(df.info())\n",
        "print(df.head())\n"
      ]
    },
    {
      "cell_type": "code",
      "execution_count": null,
      "metadata": {
        "id": "pSXgrkMNMBWY"
      },
      "outputs": [],
      "source": [
        "df = df.drop_duplicates()\n"
      ]
    },
    {
      "cell_type": "code",
      "execution_count": null,
      "metadata": {
        "id": "sbcuA5PVOs9C",
        "colab": {
          "base_uri": "https://localhost:8080/",
          "height": 353
        },
        "outputId": "cc0784a9-b8e2-42b3-9266-a8c01fb3dc9b"
      },
      "outputs": [
        {
          "output_type": "error",
          "ename": "TypeError",
          "evalue": "'>' not supported between instances of 'str' and 'int'",
          "traceback": [
            "\u001b[0;31m---------------------------------------------------------------------------\u001b[0m",
            "\u001b[0;31mTypeError\u001b[0m                                 Traceback (most recent call last)",
            "\u001b[0;32m/tmp/ipython-input-3922445892.py\u001b[0m in \u001b[0;36m<cell line: 0>\u001b[0;34m()\u001b[0m\n\u001b[1;32m      1\u001b[0m \u001b[0;31m# Remove unrealistic NO2 values (negative or extremely high)\u001b[0m\u001b[0;34m\u001b[0m\u001b[0;34m\u001b[0m\u001b[0m\n\u001b[0;32m----> 2\u001b[0;31m \u001b[0mdf\u001b[0m \u001b[0;34m=\u001b[0m \u001b[0mdf\u001b[0m\u001b[0;34m[\u001b[0m\u001b[0;34m(\u001b[0m\u001b[0mdf\u001b[0m\u001b[0;34m[\u001b[0m\u001b[0;34m'no2_column_density'\u001b[0m\u001b[0;34m]\u001b[0m \u001b[0;34m>\u001b[0m \u001b[0;36m0\u001b[0m\u001b[0;34m)\u001b[0m \u001b[0;34m&\u001b[0m \u001b[0;34m(\u001b[0m\u001b[0mdf\u001b[0m\u001b[0;34m[\u001b[0m\u001b[0;34m'no2_column_density'\u001b[0m\u001b[0;34m]\u001b[0m \u001b[0;34m<\u001b[0m \u001b[0;36m1e5\u001b[0m\u001b[0;34m)\u001b[0m\u001b[0;34m]\u001b[0m  \u001b[0;31m# adjust upper limit if needed\u001b[0m\u001b[0;34m\u001b[0m\u001b[0;34m\u001b[0m\u001b[0m\n\u001b[0m",
            "\u001b[0;32m/usr/local/lib/python3.12/dist-packages/pandas/core/ops/common.py\u001b[0m in \u001b[0;36mnew_method\u001b[0;34m(self, other)\u001b[0m\n\u001b[1;32m     74\u001b[0m         \u001b[0mother\u001b[0m \u001b[0;34m=\u001b[0m \u001b[0mitem_from_zerodim\u001b[0m\u001b[0;34m(\u001b[0m\u001b[0mother\u001b[0m\u001b[0;34m)\u001b[0m\u001b[0;34m\u001b[0m\u001b[0;34m\u001b[0m\u001b[0m\n\u001b[1;32m     75\u001b[0m \u001b[0;34m\u001b[0m\u001b[0m\n\u001b[0;32m---> 76\u001b[0;31m         \u001b[0;32mreturn\u001b[0m \u001b[0mmethod\u001b[0m\u001b[0;34m(\u001b[0m\u001b[0mself\u001b[0m\u001b[0;34m,\u001b[0m \u001b[0mother\u001b[0m\u001b[0;34m)\u001b[0m\u001b[0;34m\u001b[0m\u001b[0;34m\u001b[0m\u001b[0m\n\u001b[0m\u001b[1;32m     77\u001b[0m \u001b[0;34m\u001b[0m\u001b[0m\n\u001b[1;32m     78\u001b[0m     \u001b[0;32mreturn\u001b[0m \u001b[0mnew_method\u001b[0m\u001b[0;34m\u001b[0m\u001b[0;34m\u001b[0m\u001b[0m\n",
            "\u001b[0;32m/usr/local/lib/python3.12/dist-packages/pandas/core/arraylike.py\u001b[0m in \u001b[0;36m__gt__\u001b[0;34m(self, other)\u001b[0m\n\u001b[1;32m     54\u001b[0m     \u001b[0;34m@\u001b[0m\u001b[0munpack_zerodim_and_defer\u001b[0m\u001b[0;34m(\u001b[0m\u001b[0;34m\"__gt__\"\u001b[0m\u001b[0;34m)\u001b[0m\u001b[0;34m\u001b[0m\u001b[0;34m\u001b[0m\u001b[0m\n\u001b[1;32m     55\u001b[0m     \u001b[0;32mdef\u001b[0m \u001b[0m__gt__\u001b[0m\u001b[0;34m(\u001b[0m\u001b[0mself\u001b[0m\u001b[0;34m,\u001b[0m \u001b[0mother\u001b[0m\u001b[0;34m)\u001b[0m\u001b[0;34m:\u001b[0m\u001b[0;34m\u001b[0m\u001b[0;34m\u001b[0m\u001b[0m\n\u001b[0;32m---> 56\u001b[0;31m         \u001b[0;32mreturn\u001b[0m \u001b[0mself\u001b[0m\u001b[0;34m.\u001b[0m\u001b[0m_cmp_method\u001b[0m\u001b[0;34m(\u001b[0m\u001b[0mother\u001b[0m\u001b[0;34m,\u001b[0m \u001b[0moperator\u001b[0m\u001b[0;34m.\u001b[0m\u001b[0mgt\u001b[0m\u001b[0;34m)\u001b[0m\u001b[0;34m\u001b[0m\u001b[0;34m\u001b[0m\u001b[0m\n\u001b[0m\u001b[1;32m     57\u001b[0m \u001b[0;34m\u001b[0m\u001b[0m\n\u001b[1;32m     58\u001b[0m     \u001b[0;34m@\u001b[0m\u001b[0munpack_zerodim_and_defer\u001b[0m\u001b[0;34m(\u001b[0m\u001b[0;34m\"__ge__\"\u001b[0m\u001b[0;34m)\u001b[0m\u001b[0;34m\u001b[0m\u001b[0;34m\u001b[0m\u001b[0m\n",
            "\u001b[0;32m/usr/local/lib/python3.12/dist-packages/pandas/core/series.py\u001b[0m in \u001b[0;36m_cmp_method\u001b[0;34m(self, other, op)\u001b[0m\n\u001b[1;32m   6117\u001b[0m         \u001b[0mrvalues\u001b[0m \u001b[0;34m=\u001b[0m \u001b[0mextract_array\u001b[0m\u001b[0;34m(\u001b[0m\u001b[0mother\u001b[0m\u001b[0;34m,\u001b[0m \u001b[0mextract_numpy\u001b[0m\u001b[0;34m=\u001b[0m\u001b[0;32mTrue\u001b[0m\u001b[0;34m,\u001b[0m \u001b[0mextract_range\u001b[0m\u001b[0;34m=\u001b[0m\u001b[0;32mTrue\u001b[0m\u001b[0;34m)\u001b[0m\u001b[0;34m\u001b[0m\u001b[0;34m\u001b[0m\u001b[0m\n\u001b[1;32m   6118\u001b[0m \u001b[0;34m\u001b[0m\u001b[0m\n\u001b[0;32m-> 6119\u001b[0;31m         \u001b[0mres_values\u001b[0m \u001b[0;34m=\u001b[0m \u001b[0mops\u001b[0m\u001b[0;34m.\u001b[0m\u001b[0mcomparison_op\u001b[0m\u001b[0;34m(\u001b[0m\u001b[0mlvalues\u001b[0m\u001b[0;34m,\u001b[0m \u001b[0mrvalues\u001b[0m\u001b[0;34m,\u001b[0m \u001b[0mop\u001b[0m\u001b[0;34m)\u001b[0m\u001b[0;34m\u001b[0m\u001b[0;34m\u001b[0m\u001b[0m\n\u001b[0m\u001b[1;32m   6120\u001b[0m \u001b[0;34m\u001b[0m\u001b[0m\n\u001b[1;32m   6121\u001b[0m         \u001b[0;32mreturn\u001b[0m \u001b[0mself\u001b[0m\u001b[0;34m.\u001b[0m\u001b[0m_construct_result\u001b[0m\u001b[0;34m(\u001b[0m\u001b[0mres_values\u001b[0m\u001b[0;34m,\u001b[0m \u001b[0mname\u001b[0m\u001b[0;34m=\u001b[0m\u001b[0mres_name\u001b[0m\u001b[0;34m)\u001b[0m\u001b[0;34m\u001b[0m\u001b[0;34m\u001b[0m\u001b[0m\n",
            "\u001b[0;32m/usr/local/lib/python3.12/dist-packages/pandas/core/ops/array_ops.py\u001b[0m in \u001b[0;36mcomparison_op\u001b[0;34m(left, right, op)\u001b[0m\n\u001b[1;32m    342\u001b[0m \u001b[0;34m\u001b[0m\u001b[0m\n\u001b[1;32m    343\u001b[0m     \u001b[0;32melif\u001b[0m \u001b[0mlvalues\u001b[0m\u001b[0;34m.\u001b[0m\u001b[0mdtype\u001b[0m \u001b[0;34m==\u001b[0m \u001b[0mobject\u001b[0m \u001b[0;32mor\u001b[0m \u001b[0misinstance\u001b[0m\u001b[0;34m(\u001b[0m\u001b[0mrvalues\u001b[0m\u001b[0;34m,\u001b[0m \u001b[0mstr\u001b[0m\u001b[0;34m)\u001b[0m\u001b[0;34m:\u001b[0m\u001b[0;34m\u001b[0m\u001b[0;34m\u001b[0m\u001b[0m\n\u001b[0;32m--> 344\u001b[0;31m         \u001b[0mres_values\u001b[0m \u001b[0;34m=\u001b[0m \u001b[0mcomp_method_OBJECT_ARRAY\u001b[0m\u001b[0;34m(\u001b[0m\u001b[0mop\u001b[0m\u001b[0;34m,\u001b[0m \u001b[0mlvalues\u001b[0m\u001b[0;34m,\u001b[0m \u001b[0mrvalues\u001b[0m\u001b[0;34m)\u001b[0m\u001b[0;34m\u001b[0m\u001b[0;34m\u001b[0m\u001b[0m\n\u001b[0m\u001b[1;32m    345\u001b[0m \u001b[0;34m\u001b[0m\u001b[0m\n\u001b[1;32m    346\u001b[0m     \u001b[0;32melse\u001b[0m\u001b[0;34m:\u001b[0m\u001b[0;34m\u001b[0m\u001b[0;34m\u001b[0m\u001b[0m\n",
            "\u001b[0;32m/usr/local/lib/python3.12/dist-packages/pandas/core/ops/array_ops.py\u001b[0m in \u001b[0;36mcomp_method_OBJECT_ARRAY\u001b[0;34m(op, x, y)\u001b[0m\n\u001b[1;32m    127\u001b[0m         \u001b[0mresult\u001b[0m \u001b[0;34m=\u001b[0m \u001b[0mlibops\u001b[0m\u001b[0;34m.\u001b[0m\u001b[0mvec_compare\u001b[0m\u001b[0;34m(\u001b[0m\u001b[0mx\u001b[0m\u001b[0;34m.\u001b[0m\u001b[0mravel\u001b[0m\u001b[0;34m(\u001b[0m\u001b[0;34m)\u001b[0m\u001b[0;34m,\u001b[0m \u001b[0my\u001b[0m\u001b[0;34m.\u001b[0m\u001b[0mravel\u001b[0m\u001b[0;34m(\u001b[0m\u001b[0;34m)\u001b[0m\u001b[0;34m,\u001b[0m \u001b[0mop\u001b[0m\u001b[0;34m)\u001b[0m\u001b[0;34m\u001b[0m\u001b[0;34m\u001b[0m\u001b[0m\n\u001b[1;32m    128\u001b[0m     \u001b[0;32melse\u001b[0m\u001b[0;34m:\u001b[0m\u001b[0;34m\u001b[0m\u001b[0;34m\u001b[0m\u001b[0m\n\u001b[0;32m--> 129\u001b[0;31m         \u001b[0mresult\u001b[0m \u001b[0;34m=\u001b[0m \u001b[0mlibops\u001b[0m\u001b[0;34m.\u001b[0m\u001b[0mscalar_compare\u001b[0m\u001b[0;34m(\u001b[0m\u001b[0mx\u001b[0m\u001b[0;34m.\u001b[0m\u001b[0mravel\u001b[0m\u001b[0;34m(\u001b[0m\u001b[0;34m)\u001b[0m\u001b[0;34m,\u001b[0m \u001b[0my\u001b[0m\u001b[0;34m,\u001b[0m \u001b[0mop\u001b[0m\u001b[0;34m)\u001b[0m\u001b[0;34m\u001b[0m\u001b[0;34m\u001b[0m\u001b[0m\n\u001b[0m\u001b[1;32m    130\u001b[0m     \u001b[0;32mreturn\u001b[0m \u001b[0mresult\u001b[0m\u001b[0;34m.\u001b[0m\u001b[0mreshape\u001b[0m\u001b[0;34m(\u001b[0m\u001b[0mx\u001b[0m\u001b[0;34m.\u001b[0m\u001b[0mshape\u001b[0m\u001b[0;34m)\u001b[0m\u001b[0;34m\u001b[0m\u001b[0;34m\u001b[0m\u001b[0m\n\u001b[1;32m    131\u001b[0m \u001b[0;34m\u001b[0m\u001b[0m\n",
            "\u001b[0;32mops.pyx\u001b[0m in \u001b[0;36mpandas._libs.ops.scalar_compare\u001b[0;34m()\u001b[0m\n",
            "\u001b[0;31mTypeError\u001b[0m: '>' not supported between instances of 'str' and 'int'"
          ]
        }
      ],
      "source": [
        "# Remove unrealistic NO2 values (negative or extremely high)\n",
        "df = df[(df['no2_column_density'] > 0) & (df['no2_column_density'] < 1e5)]  # adjust upper limit if needed\n"
      ]
    },
    {
      "cell_type": "code",
      "execution_count": null,
      "metadata": {
        "id": "9laXwEa7Ow4l",
        "colab": {
          "base_uri": "https://localhost:8080/"
        },
        "outputId": "85bdf01d-aea4-4107-807b-24f6566039b2"
      },
      "outputs": [
        {
          "output_type": "stream",
          "name": "stdout",
          "text": [
            "2020-08-06 15:41:10.600000+00:00 2025-09-28 22:39:34.900000+00:00\n"
          ]
        }
      ],
      "source": [
        "print(df['timestamp'].min(), df['timestamp'].max())\n"
      ]
    },
    {
      "cell_type": "code",
      "execution_count": null,
      "metadata": {
        "id": "GwL24o0aMCzI",
        "colab": {
          "base_uri": "https://localhost:8080/"
        },
        "outputId": "6334f0bb-402d-4b9c-9d11-78b7a8d722b3"
      },
      "outputs": [
        {
          "output_type": "stream",
          "name": "stdout",
          "text": [
            "count         930064\n",
            "unique         65605\n",
            "top       1.2439e-04\n",
            "freq             152\n",
            "Name: no2_column_density, dtype: object\n"
          ]
        }
      ],
      "source": [
        "print(df['no2_column_density'].describe())\n"
      ]
    },
    {
      "cell_type": "code",
      "execution_count": null,
      "metadata": {
        "id": "ptV4TbnCOtpG"
      },
      "outputs": [],
      "source": []
    },
    {
      "cell_type": "code",
      "execution_count": null,
      "metadata": {
        "id": "v7nDEri5MGMn",
        "colab": {
          "base_uri": "https://localhost:8080/",
          "height": 1000
        },
        "outputId": "1d404228-865d-4cb3-ccea-5808d8799c57"
      },
      "outputs": [
        {
          "output_type": "display_data",
          "data": {
            "text/plain": [
              "<Figure size 1200x600 with 1 Axes>"
            ],
            "image/png": "[encoded data removed]"
          },
          "metadata": {}
        },
        {
          "output_type": "display_data",
          "data": {
            "text/plain": [
              "<Figure size 640x480 with 1 Axes>"
            ],
            "image/png": "[encoded data removed]"
          },
          "metadata": {}
        }
      ],
      "source": [
        "import matplotlib.pyplot as plt\n",
        "\n",
        "# Convert 'no2_column_density' to numeric, coercing errors\n",
        "df['no2_column_density'] = pd.to_numeric(df['no2_column_density'], errors='coerce')\n",
        "\n",
        "# Drop rows where conversion failed\n",
        "df = df.dropna(subset=['no2_column_density'])\n",
        "\n",
        "# Time series plot\n",
        "plt.figure(figsize=(12,6))\n",
        "plt.plot(df['timestamp'], df['no2_column_density'], marker='.', linestyle='-', alpha=0.7)\n",
        "plt.xlabel('Time')\n",
        "plt.ylabel('NO2 Column Density')\n",
        "plt.title('NO2 Levels Over Time - Washington D.C.')\n",
        "plt.show()\n",
        "\n",
        "# Histogram of NO2 values\n",
        "plt.hist(df['no2_column_density'], bins=50, alpha=0.7, color='orange')\n",
        "plt.xlabel('NO2 Column Density')\n",
        "plt.ylabel('Frequency')\n",
        "plt.title('Distribution of NO2 Levels')\n",
        "plt.show()"
      ]
    },
    {
      "cell_type": "code",
      "execution_count": null,
      "metadata": {
        "id": "pwlTscgAMHRE",
        "colab": {
          "base_uri": "https://localhost:8080/"
        },
        "outputId": "13221dec-e8cd-4466-8e8a-5b08203571b5"
      },
      "outputs": [
        {
          "output_type": "stream",
          "name": "stdout",
          "text": [
            "Number of outliers: 56787\n"
          ]
        }
      ],
      "source": [
        "# Simple IQR method\n",
        "Q1 = df['no2_column_density'].quantile(0.25)\n",
        "Q3 = df['no2_column_density'].quantile(0.75)\n",
        "IQR = Q3 - Q1\n",
        "\n",
        "outliers = df[(df['no2_column_density'] < Q1 - 1.5*IQR) | (df['no2_column_density'] > Q3 + 1.5*IQR)]\n",
        "print(f\"Number of outliers: {len(outliers)}\")\n"
      ]
    },
    {
      "cell_type": "code",
      "execution_count": null,
      "metadata": {
        "id": "nMRnpHKL8Iw_",
        "colab": {
          "base_uri": "https://localhost:8080/"
        },
        "outputId": "c8193007-98fe-47b4-871a-8c451b058018"
      },
      "outputs": [
        {
          "output_type": "stream",
          "name": "stdout",
          "text": [
            "Collecting nbimporter\n",
            "  Downloading nbimporter-0.3.4-py3-none-any.whl.metadata (252 bytes)\n",
            "Downloading nbimporter-0.3.4-py3-none-any.whl (4.9 kB)\n",
            "Installing collected packages: nbimporter\n",
            "Successfully installed nbimporter-0.3.4\n"
          ]
        }
      ],
      "source": [
        "!pip install nbimporter\n"
      ]
    },
    {
      "cell_type": "code",
      "execution_count": null,
      "metadata": {
        "id": "Phg9K0ZuVCCe",
        "colab": {
          "base_uri": "https://localhost:8080/"
        },
        "outputId": "8471ae5d-4005-4a3b-e2db-5fccf7a2331c"
      },
      "outputs": [
        {
          "output_type": "stream",
          "name": "stdout",
          "text": [
            "/content\n",
            "sample_data\n"
          ]
        }
      ],
      "source": [
        "!pwd\n",
        "!ls\n"
      ]
    },
    {
      "cell_type": "code",
      "source": [
        "# List all variables in memory\n",
        "%whos DataFrame\n"
      ],
      "metadata": {
        "colab": {
          "base_uri": "https://localhost:8080/"
        },
        "id": "iqbGMqJvaEar",
        "outputId": "17abdacb-929a-4346-8aa5-c5bdc77643f8"
      },
      "execution_count": null,
      "outputs": [
        {
          "output_type": "stream",
          "name": "stdout",
          "text": [
            "Variable   Type         Data/Info\n",
            "---------------------------------\n",
            "df         DataFrame                             <...>[930064 rows x 2 columns]\n",
            "outliers   DataFrame                             <...>n[56787 rows x 2 columns]\n"
          ]
        }
      ]
    },
    {
      "cell_type": "code",
      "source": [
        "# Example: check first few rows\n",
        "print(df.head())           # if df exists\n",
        "print(df_pandora.head())   # if df_pandora exists\n",
        "print(pandora_df.head())   # if pandora_df exists\n"
      ],
      "metadata": {
        "colab": {
          "base_uri": "https://localhost:8080/",
          "height": 297
        },
        "id": "kGZc4hZVaGr8",
        "outputId": "46d7146c-7563-4ace-f646-9cd94f50127c"
      },
      "execution_count": null,
      "outputs": [
        {
          "output_type": "stream",
          "name": "stdout",
          "text": [
            "                         timestamp  no2_column_density\n",
            "0 2020-08-06 15:41:10.600000+00:00            0.000124\n",
            "1 2020-08-06 15:43:18.100000+00:00            0.000127\n",
            "2 2020-08-06 15:45:28.600000+00:00            0.000246\n",
            "3 2020-08-06 15:50:34.900000+00:00            0.000151\n",
            "4 2020-08-06 15:52:23.500000+00:00            0.000127\n"
          ]
        },
        {
          "output_type": "error",
          "ename": "NameError",
          "evalue": "name 'df_pandora' is not defined",
          "traceback": [
            "\u001b[0;31m---------------------------------------------------------------------------\u001b[0m",
            "\u001b[0;31mNameError\u001b[0m                                 Traceback (most recent call last)",
            "\u001b[0;32m/tmp/ipython-input-595609312.py\u001b[0m in \u001b[0;36m<cell line: 0>\u001b[0;34m()\u001b[0m\n\u001b[1;32m      1\u001b[0m \u001b[0;31m# Example: check first few rows\u001b[0m\u001b[0;34m\u001b[0m\u001b[0;34m\u001b[0m\u001b[0m\n\u001b[1;32m      2\u001b[0m \u001b[0mprint\u001b[0m\u001b[0;34m(\u001b[0m\u001b[0mdf\u001b[0m\u001b[0;34m.\u001b[0m\u001b[0mhead\u001b[0m\u001b[0;34m(\u001b[0m\u001b[0;34m)\u001b[0m\u001b[0;34m)\u001b[0m           \u001b[0;31m# if df exists\u001b[0m\u001b[0;34m\u001b[0m\u001b[0;34m\u001b[0m\u001b[0m\n\u001b[0;32m----> 3\u001b[0;31m \u001b[0mprint\u001b[0m\u001b[0;34m(\u001b[0m\u001b[0mdf_pandora\u001b[0m\u001b[0;34m.\u001b[0m\u001b[0mhead\u001b[0m\u001b[0;34m(\u001b[0m\u001b[0;34m)\u001b[0m\u001b[0;34m)\u001b[0m   \u001b[0;31m# if df_pandora exists\u001b[0m\u001b[0;34m\u001b[0m\u001b[0;34m\u001b[0m\u001b[0m\n\u001b[0m\u001b[1;32m      4\u001b[0m \u001b[0mprint\u001b[0m\u001b[0;34m(\u001b[0m\u001b[0mpandora_df\u001b[0m\u001b[0;34m.\u001b[0m\u001b[0mhead\u001b[0m\u001b[0;34m(\u001b[0m\u001b[0;34m)\u001b[0m\u001b[0;34m)\u001b[0m   \u001b[0;31m# if pandora_df exists\u001b[0m\u001b[0;34m\u001b[0m\u001b[0;34m\u001b[0m\u001b[0m\n",
            "\u001b[0;31mNameError\u001b[0m: name 'df_pandora' is not defined"
          ]
        }
      ]
    },
    {
      "cell_type": "code",
      "source": [
        "output_file = \"pandora_NO2.csv\"\n",
        "df.to_csv(output_file, index=False)\n",
        "print(f\"✅ File saved as {output_file}\")\n"
      ],
      "metadata": {
        "colab": {
          "base_uri": "https://localhost:8080/"
        },
        "id": "GU4WRSXDY6_J",
        "outputId": "1e4cf941-a926-45ad-b050-f8f679c3aa8e"
      },
      "execution_count": null,
      "outputs": [
        {
          "output_type": "stream",
          "name": "stdout",
          "text": [
            "✅ File saved as pandora_NO2.csv\n"
          ]
        }
      ]
    },
    {
      "cell_type": "code",
      "source": [
        "from google.colab import files\n",
        "files.download(output_file)\n"
      ],
      "metadata": {
        "colab": {
          "base_uri": "https://localhost:8080/",
          "height": 17
        },
        "id": "sD_pOqlWap-A",
        "outputId": "7c91a687-15e0-467b-d879-66ceff33883c"
      },
      "execution_count": null,
      "outputs": [
        {
          "output_type": "display_data",
          "data": {
            "text/plain": [
              "<IPython.core.display.Javascript object>"
            ],
            "application/javascript": [
              "\n",
              "    async function download(id, filename, size) {\n",
              "      if (!google.colab.kernel.accessAllowed) {\n",
              "        return;\n",
              "      }\n",
              "      const div = document.createElement('div');\n",
              "      const label = document.createElement('label');\n",
              "      label.textContent = `Downloading \"${filename}\": `;\n",
              "      div.appendChild(label);\n",
              "      const progress = document.createElement('progress');\n",
              "      progress.max = size;\n",
              "      div.appendChild(progress);\n",
              "      document.body.appendChild(div);\n",
              "\n",
              "      const buffers = [];\n",
              "      let downloaded = 0;\n",
              "\n",
              "      const channel = await google.colab.kernel.comms.open(id);\n",
              "      // Send a message to notify the kernel that we're ready.\n",
              "      channel.send({})\n",
              "\n",
              "      for await (const message of channel.messages) {\n",
              "        // Send a message to notify the kernel that we're ready.\n",
              "        channel.send({})\n",
              "        if (message.buffers) {\n",
              "          for (const buffer of message.buffers) {\n",
              "            buffers.push(buffer);\n",
              "            downloaded += buffer.byteLength;\n",
              "            progress.value = downloaded;\n",
              "          }\n",
              "        }\n",
              "      }\n",
              "      const blob = new Blob(buffers, {type: 'application/binary'});\n",
              "      const a = document.createElement('a');\n",
              "      a.href = window.URL.createObjectURL(blob);\n",
              "      a.download = filename;\n",
              "      div.appendChild(a);\n",
              "      a.click();\n",
              "      div.remove();\n",
              "    }\n",
              "  "
            ]
          },
          "metadata": {}
        },
        {
          "output_type": "display_data",
          "data": {
            "text/plain": [
              "<IPython.core.display.Javascript object>"
            ],
            "application/javascript": [
              "download(\"download_8aaf6166-919d-4abc-a1a7-15129497668f\", \"pandora_NO2.csv\", 39940513)"
            ]
          },
          "metadata": {}
        }
      ]
    },
    {
      "cell_type": "code",
      "source": [],
      "metadata": {
        "id": "JzSUFenpmSBn"
      },
      "execution_count": null,
      "outputs": []
    }
  ],
  "metadata": {
    "colab": {
      "provenance": []
    },
    "kernelspec": {
      "display_name": "Python 3",
      "name": "python3"
    },
    "language_info": {
      "name": "python"
    }
  },
  "nbformat": 4,
  "nbformat_minor": 0
}
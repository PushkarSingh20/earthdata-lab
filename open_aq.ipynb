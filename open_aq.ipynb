{
  "nbformat": 4,
  "nbformat_minor": 0,
  "metadata": {
    "colab": {
      "provenance": []
    },
    "kernelspec": {
      "name": "python3",
      "display_name": "Python 3"
    },
    "language_info": {
      "name": "python"
    }
  },
  "cells": [
    {
      "cell_type": "code",
      "execution_count": null,
      "metadata": {
        "colab": {
          "base_uri": "https://localhost:8080/"
        },
        "id": "oUcWbqJg6E1x",
        "outputId": "5d451a7a-9606-4aed-a8e7-5e76bc12e835"
      },
      "outputs": [
        {
          "output_type": "stream",
          "name": "stdout",
          "text": [
            "Collecting openaq\n",
            "  Downloading openaq-0.4.0-py3-none-any.whl.metadata (3.3 kB)\n",
            "Requirement already satisfied: requests in /usr/local/lib/python3.12/dist-packages (2.32.4)\n",
            "Requirement already satisfied: pandas in /usr/local/lib/python3.12/dist-packages (2.2.2)\n",
            "Requirement already satisfied: matplotlib in /usr/local/lib/python3.12/dist-packages (3.10.0)\n",
            "Requirement already satisfied: httpx==0.28.1 in /usr/local/lib/python3.12/dist-packages (from openaq) (0.28.1)\n",
            "Requirement already satisfied: anyio in /usr/local/lib/python3.12/dist-packages (from httpx==0.28.1->openaq) (4.10.0)\n",
            "Requirement already satisfied: certifi in /usr/local/lib/python3.12/dist-packages (from httpx==0.28.1->openaq) (2025.8.3)\n",
            "Requirement already satisfied: httpcore==1.* in /usr/local/lib/python3.12/dist-packages (from httpx==0.28.1->openaq) (1.0.9)\n",
            "Requirement already satisfied: idna in /usr/local/lib/python3.12/dist-packages (from httpx==0.28.1->openaq) (3.10)\n",
            "Requirement already satisfied: h11>=0.16 in /usr/local/lib/python3.12/dist-packages (from httpcore==1.*->httpx==0.28.1->openaq) (0.16.0)\n",
            "Requirement already satisfied: charset_normalizer<4,>=2 in /usr/local/lib/python3.12/dist-packages (from requests) (3.4.3)\n",
            "Requirement already satisfied: urllib3<3,>=1.21.1 in /usr/local/lib/python3.12/dist-packages (from requests) (2.5.0)\n",
            "Requirement already satisfied: numpy>=1.26.0 in /usr/local/lib/python3.12/dist-packages (from pandas) (2.0.2)\n",
            "Requirement already satisfied: python-dateutil>=2.8.2 in /usr/local/lib/python3.12/dist-packages (from pandas) (2.9.0.post0)\n",
            "Requirement already satisfied: pytz>=2020.1 in /usr/local/lib/python3.12/dist-packages (from pandas) (2025.2)\n",
            "Requirement already satisfied: tzdata>=2022.7 in /usr/local/lib/python3.12/dist-packages (from pandas) (2025.2)\n",
            "Requirement already satisfied: contourpy>=1.0.1 in /usr/local/lib/python3.12/dist-packages (from matplotlib) (1.3.3)\n",
            "Requirement already satisfied: cycler>=0.10 in /usr/local/lib/python3.12/dist-packages (from matplotlib) (0.12.1)\n",
            "Requirement already satisfied: fonttools>=4.22.0 in /usr/local/lib/python3.12/dist-packages (from matplotlib) (4.60.0)\n",
            "Requirement already satisfied: kiwisolver>=1.3.1 in /usr/local/lib/python3.12/dist-packages (from matplotlib) (1.4.9)\n",
            "Requirement already satisfied: packaging>=20.0 in /usr/local/lib/python3.12/dist-packages (from matplotlib) (25.0)\n",
            "Requirement already satisfied: pillow>=8 in /usr/local/lib/python3.12/dist-packages (from matplotlib) (11.3.0)\n",
            "Requirement already satisfied: pyparsing>=2.3.1 in /usr/local/lib/python3.12/dist-packages (from matplotlib) (3.2.4)\n",
            "Requirement already satisfied: six>=1.5 in /usr/local/lib/python3.12/dist-packages (from python-dateutil>=2.8.2->pandas) (1.17.0)\n",
            "Requirement already satisfied: sniffio>=1.1 in /usr/local/lib/python3.12/dist-packages (from anyio->httpx==0.28.1->openaq) (1.3.1)\n",
            "Requirement already satisfied: typing_extensions>=4.5 in /usr/local/lib/python3.12/dist-packages (from anyio->httpx==0.28.1->openaq) (4.15.0)\n",
            "Downloading openaq-0.4.0-py3-none-any.whl (51 kB)\n",
            "\u001b[2K   \u001b[90m━━━━━━━━━━━━━━━━━━━━━━━━━━━━━━━━━━━━━━━━\u001b[0m \u001b[32m51.7/51.7 kB\u001b[0m \u001b[31m1.1 MB/s\u001b[0m eta \u001b[36m0:00:00\u001b[0m\n",
            "\u001b[?25hInstalling collected packages: openaq\n",
            "Successfully installed openaq-0.4.0\n"
          ]
        }
      ],
      "source": [
        "!pip install openaq requests pandas matplotlib"
      ]
    },
    {
      "cell_type": "code",
      "source": [
        "import requests\n",
        "import pandas as pd\n",
        "import matplotlib.pyplot as plt\n",
        "API_KEY = \"832d33d795ded0198085641aff100abe5b6d18fdbe9e65831286aa53a481dcee\"\n",
        "\n",
        "# ================== STEP 1: Load OpenAQ Data ==================\n",
        "# Find the location ID for Washington D.C. from the 'locs' DataFrame\n",
        "# Assuming 'locs' DataFrame is already available from a previous cell (gQUmEAg_BLdT)\n",
        "if 'locs' in globals() and not locs.empty:\n",
        "    # Filter for Washington, D.C. and find a suitable location ID\n",
        "    # You might need to inspect the 'locs' DataFrame to find the exact name or criteria\n",
        "    washington_dc_locs = locs[locs['name'].str.contains('Washington, D.C.', na=False)]\n",
        "\n",
        "    if not washington_dc_locs.empty:\n",
        "        # Use the first location ID found for Washington, D.C.\n",
        "        washington_dc_location_id = washington_dc_locs.iloc[0]['id']\n",
        "        print(f\"Using location ID: {washington_dc_location_id} for Washington, D.C.\")\n",
        "\n",
        "        url = \"https://api.openaq.org/v3/measurements\"\n",
        "        params = {\n",
        "            \"location_id\": washington_dc_location_id,\n",
        "            \"limit\": 100,\n",
        "            \"page\": 1,\n",
        "            \"sort\": \"desc\",\n",
        "            \"parameter\": [\"pm25\",\"pm10\",\"no2\",\"co\",\"o3\",\"so2\"]\n",
        "        }\n",
        "        headers = {\"X-API-Key\": API_KEY}\n",
        "        response = requests.get(url, params=params, headers=headers)\n",
        "        data = response.json()\n",
        "\n",
        "        if \"results\" in data:\n",
        "            df_openaq = pd.json_normalize(data[\"results\"])\n",
        "            # You might want to save this to a CSV for later use, but not required\n",
        "            # df_openaq.to_csv(\"openaq_washington_dc.csv\", index=False)\n",
        "            print(\"Successfully fetched OpenAQ data from API.\")\n",
        "            print(df_openaq.head())\n",
        "            # Assign the fetched data to df_openaq_clean for consistency with subsequent steps\n",
        "            df_openaq_clean = df_openaq.copy()\n",
        "        else:\n",
        "            print(\"No data found from OpenAQ API for Washington, D.C. Response:\", data)\n",
        "            df_openaq = pd.DataFrame()\n",
        "            df_openaq_clean = pd.DataFrame() # Ensure df_openaq_clean is defined\n",
        "    else:\n",
        "        print(\"Could not find a location ID for Washington, D.C. in the 'locs' DataFrame.\")\n",
        "        df_openaq = pd.DataFrame()\n",
        "        df_openaq_clean = pd.DataFrame() # Ensure df_openaq_clean is defined\n",
        "else:\n",
        "    print(\"'locs' DataFrame not found or is empty. Please run the cell to fetch locations first.\")\n",
        "    df_openaq = pd.DataFrame()\n",
        "    df_openaq_clean = pd.DataFrame() # Ensure df_openaq_clean is defined"
      ],
      "metadata": {
        "colab": {
          "base_uri": "https://localhost:8080/"
        },
        "id": "rm3M9cXy7vR7",
        "outputId": "88400421-c266-4992-f919-810734855fa3"
      },
      "execution_count": null,
      "outputs": [
        {
          "output_type": "stream",
          "name": "stdout",
          "text": [
            "No data found. Response: {'detail': 'Not Found'}\n"
          ]
        }
      ]
    },
    {
      "cell_type": "code",
      "source": [
        "url = \"https://api.openaq.org/v3/locations\"\n",
        "params = {\"country_id\": \"US\", \"city\": \"Washington, D.C.\", \"limit\": 100}\n",
        "response = requests.get(url, params=params, headers=headers)\n",
        "locs = pd.json_normalize(response.json()[\"results\"])\n",
        "print(locs[[\"id\",\"name\",\"coordinates.latitude\",\"coordinates.longitude\"]])\n"
      ],
      "metadata": {
        "id": "gQUmEAg_BLdT",
        "outputId": "7c8d1f1b-b04c-4506-9934-404f3e323ffd",
        "colab": {
          "base_uri": "https://localhost:8080/"
        }
      },
      "execution_count": null,
      "outputs": [
        {
          "output_type": "stream",
          "name": "stdout",
          "text": [
            "     id                                          name  coordinates.latitude  \\\n",
            "0     3                                    NMA - Nima              5.583890   \n",
            "1     4                                    NMT - Nima              5.581650   \n",
            "2     5                               JTA - Jamestown              5.540114   \n",
            "3     6                             ADT - Asylum Down              5.570722   \n",
            "4     7                           ADEPA - Asylum Down              5.567833   \n",
            "..  ...                                           ...                   ...   \n",
            "95  146                    Southwark A2 Old Kent Road             51.480499   \n",
            "96  147                            Greenwich - Eltham             51.452580   \n",
            "97  148                  London Bloomsbury - UKA00211             51.522290   \n",
            "98  149                            Ealing - Horn Lane             51.518948   \n",
            "99  150  London Haringey Priory Park South - UKA00568             51.584128   \n",
            "\n",
            "    coordinates.longitude  \n",
            "0               -0.199680  \n",
            "1               -0.198980  \n",
            "2               -0.210397  \n",
            "3               -0.212056  \n",
            "4               -0.204028  \n",
            "..                    ...  \n",
            "95              -0.059550  \n",
            "96               0.070766  \n",
            "97              -0.125889  \n",
            "98              -0.265617  \n",
            "99              -0.125254  \n",
            "\n",
            "[100 rows x 4 columns]\n"
          ]
        }
      ]
    },
    {
      "cell_type": "code",
      "source": [
        "print(df_openaq_clean.columns.tolist())\n"
      ],
      "metadata": {
        "colab": {
          "base_uri": "https://localhost:8080/",
          "height": 141
        },
        "id": "nyqFPlDF5NGG",
        "outputId": "9ac28485-c68d-47ac-badd-3147651c5dc4"
      },
      "execution_count": null,
      "outputs": [
        {
          "output_type": "error",
          "ename": "NameError",
          "evalue": "name 'df_openaq_clean' is not defined",
          "traceback": [
            "\u001b[0;31m---------------------------------------------------------------------------\u001b[0m",
            "\u001b[0;31mNameError\u001b[0m                                 Traceback (most recent call last)",
            "\u001b[0;32m/tmp/ipython-input-2270986540.py\u001b[0m in \u001b[0;36m<cell line: 0>\u001b[0;34m()\u001b[0m\n\u001b[0;32m----> 1\u001b[0;31m \u001b[0mprint\u001b[0m\u001b[0;34m(\u001b[0m\u001b[0mdf_openaq_clean\u001b[0m\u001b[0;34m.\u001b[0m\u001b[0mcolumns\u001b[0m\u001b[0;34m.\u001b[0m\u001b[0mtolist\u001b[0m\u001b[0;34m(\u001b[0m\u001b[0;34m)\u001b[0m\u001b[0;34m)\u001b[0m\u001b[0;34m\u001b[0m\u001b[0;34m\u001b[0m\u001b[0m\n\u001b[0m",
            "\u001b[0;31mNameError\u001b[0m: name 'df_openaq_clean' is not defined"
          ]
        }
      ]
    },
    {
      "cell_type": "code",
      "source": [
        "df_pandora_no2 = pd.read_csv(\"pandora_NO2.csv\", parse_dates=[\"timestamp\"])\n"
      ],
      "metadata": {
        "id": "9GoU-t1E6qVR"
      },
      "execution_count": null,
      "outputs": []
    },
    {
      "cell_type": "code",
      "source": [
        "import pandas as pd\n",
        "\n",
        "# Define the path to your file\n",
        "# Make sure 'pandora_so2.csv' is in the same directory as your script,\n",
        "# or provide the full file path.\n",
        "file_path = 'pandora_SO2.csv'\n",
        "\n",
        "# Load the CSV file into a pandas DataFrame\n",
        "try:\n",
        "    df_pandora_so2 = pd.read_csv(file_path)\n",
        "\n",
        "    # Display the first 5 rows to verify it loaded correctly\n",
        "    print(\"Successfully loaded the Pandora SO2 file. Here are the first 5 rows:\")\n",
        "    print(df_pandora_so2.head())\n",
        "\n",
        "except FileNotFoundError:\n",
        "    print(f\"Error: The file was not found at '{file_path}'\")\n",
        "    print(\"Please check the file name and its location.\")"
      ],
      "metadata": {
        "colab": {
          "base_uri": "https://localhost:8080/"
        },
        "id": "26ViAAcZATEA",
        "outputId": "6c4ebc1c-8bcb-46f9-f917-b2f1fc02f21a"
      },
      "execution_count": null,
      "outputs": [
        {
          "output_type": "stream",
          "name": "stdout",
          "text": [
            "Error: The file was not found at 'pandora_SO2.csv'\n",
            "Please check the file name and its location.\n"
          ]
        }
      ]
    },
    {
      "cell_type": "code",
      "source": [
        "import pandas as pd\n",
        "\n",
        "# Define the path to your file\n",
        "# Make sure 'pandora_so2.csv' is in the same directory as your script,\n",
        "# or provide the full file path.\n",
        "file_path = 'pandora_O3.csv'\n",
        "\n",
        "# Load the CSV file into a pandas DataFrame\n",
        "try:\n",
        "    df_pandora_so2 = pd.read_csv(file_path)\n",
        "\n",
        "    # Display the first 5 rows to verify it loaded correctly\n",
        "    print(\"Successfully loaded the Pandora O3 file. Here are the first 5 rows:\")\n",
        "    print(df_pandora_so2.head())\n",
        "\n",
        "except FileNotFoundError:\n",
        "    print(f\"Error: The file was not found at '{file_path}'\")\n",
        "    print(\"Please check the file name and its location.\")"
      ],
      "metadata": {
        "colab": {
          "base_uri": "https://localhost:8080/"
        },
        "id": "zjowTPUnzdp0",
        "outputId": "3d5ca853-9242-444f-97f3-09affe538fa1"
      },
      "execution_count": null,
      "outputs": [
        {
          "output_type": "stream",
          "name": "stdout",
          "text": [
            "Error: The file was not found at 'pandora_O3.csv'\n",
            "Please check the file name and its location.\n"
          ]
        }
      ]
    },
    {
      "cell_type": "code",
      "source": [
        "# Check the columns for each DataFrame\n",
        "\n",
        "import pandas as pd\n",
        "import os\n",
        "\n",
        "# --- SETUP ---\n",
        "# IMPORTANT: Set this to the path where you saved your downloaded files.\n",
        "# If the files are in the same folder as your script, you can just use \".\"\n",
        "folder_path = '.'\n",
        "# --- END SETUP ---\n",
        "\n",
        "\n",
        "# Get a list of all .txt files in the specified folder\n",
        "try:\n",
        "    all_files = [f for f in os.listdir(folder_path) if f.endswith('.txt')]\n",
        "except FileNotFoundError:\n",
        "    print(f\"Error: The directory was not found at '{folder_path}'\")\n",
        "    print(\"Please update the 'folder_path' variable to the correct location.\")\n",
        "    all_files = []\n",
        "\n",
        "if not all_files:\n",
        "    print(\"No .txt files found in the directory.\")\n",
        "\n",
        "# Loop through each file to inspect its columns\n",
        "for filename in all_files:\n",
        "    file_path = os.path.join(folder_path, filename)\n",
        "\n",
        "    try:\n",
        "        # We use read_csv, but we need to figure out the delimiter (space or tab)\n",
        "        # We also skip comment lines that often start with '#' or '*'\n",
        "        df_temp = pd.read_csv(\n",
        "            file_path,\n",
        "            comment='*', # Skips comment lines in the header\n",
        "            delim_whitespace=True, # Assumes columns are separated by spaces\n",
        "            nrows=5 # Only read a few rows to be fast\n",
        "        )\n",
        "\n",
        "        print(f\"--- File: {filename} ---\")\n",
        "        print(\"Columns:\", df_temp.columns.tolist())\n",
        "        print(\"-\" * (len(filename) + 12) + \"\\n\")\n",
        "\n",
        "    except Exception as e:\n",
        "        print(f\"Could not read {filename}. Error: {e}\\n\")\n",
        "print(\"Pandora NO2 Columns:\", df_pandora_no2.columns)\n",
        "print(\"Pandora SO2 Columns:\", df_pandora_so2.columns)\n",
        "print(\"OpenAQ Clean Columns:\", df_openaq_clean.columns)"
      ],
      "metadata": {
        "colab": {
          "base_uri": "https://localhost:8080/"
        },
        "id": "1dHk_hdyCMah",
        "outputId": "864f2a99-75f9-4792-b18b-016cc0c68361"
      },
      "execution_count": null,
      "outputs": [
        {
          "output_type": "stream",
          "name": "stdout",
          "text": [
            "No .txt files found in the directory.\n",
            "Pandora NO2 Columns: Index(['timestamp', 'no2_column_density'], dtype='object')\n",
            "Pandora SO2 Columns: Index(['timestamp', 'no2_column_density'], dtype='object')\n",
            "OpenAQ Clean Columns: Index(['timestamp', 'latitude', 'longitude', 'no2', 'station_name',\n",
            "       'datetime'],\n",
            "      dtype='object')\n"
          ]
        }
      ]
    },
    {
      "cell_type": "code",
      "source": [
        "print(df_pandora_so2.index)"
      ],
      "metadata": {
        "colab": {
          "base_uri": "https://localhost:8080/"
        },
        "id": "5cK7VifUCiUP",
        "outputId": "effa9fd7-4d6c-4dd8-dcdc-49c3caed3cb0"
      },
      "execution_count": null,
      "outputs": [
        {
          "output_type": "stream",
          "name": "stdout",
          "text": [
            "RangeIndex(start=0, stop=930064, step=1)\n"
          ]
        }
      ]
    },
    {
      "cell_type": "code",
      "source": [
        "import pandas as pd\n",
        "import numpy as np\n",
        "\n",
        "# Assume the following DataFrames are already loaded:\n",
        "# df_pandora_no2, df_pandora_so2, df_openaq_clean\n",
        "\n",
        "# ================== STEP 1: Standardize Timestamps & Columns ==================\n",
        "# Convert timestamp columns to datetime objects for accurate merging.\n",
        "# This is the section from your original code.\n",
        "df_pandora_no2['datetime'] = pd.to_datetime(df_pandora_no2['timestamp'])\n",
        "df_pandora_so2['datetime'] = pd.to_datetime(df_pandora_so2['timestamp'])\n",
        "df_openaq_clean['datetime'] = pd.to_datetime(df_openaq_clean['timestamp'])"
      ],
      "metadata": {
        "id": "4InNdDls6-B0",
        "colab": {
          "base_uri": "https://localhost:8080/",
          "height": 564
        },
        "outputId": "8d327ddb-5016-4943-9344-96476065fff4"
      },
      "execution_count": null,
      "outputs": [
        {
          "output_type": "error",
          "ename": "ValueError",
          "evalue": "time data \"2020-08-06 15:58:29+00:00\" doesn't match format \"%Y-%m-%d %H:%M:%S.%f%z\", at position 7. You might want to try:\n    - passing `format` if your strings have a consistent format;\n    - passing `format='ISO8601'` if your strings are all ISO8601 but not necessarily in exactly the same format;\n    - passing `format='mixed'`, and the format will be inferred for each element individually. You might want to use `dayfirst` alongside this.",
          "traceback": [
            "\u001b[0;31m---------------------------------------------------------------------------\u001b[0m",
            "\u001b[0;31mValueError\u001b[0m                                Traceback (most recent call last)",
            "\u001b[0;32m/tmp/ipython-input-753015266.py\u001b[0m in \u001b[0;36m<cell line: 0>\u001b[0;34m()\u001b[0m\n\u001b[1;32m      8\u001b[0m \u001b[0;31m# Convert timestamp columns to datetime objects for accurate merging.\u001b[0m\u001b[0;34m\u001b[0m\u001b[0;34m\u001b[0m\u001b[0m\n\u001b[1;32m      9\u001b[0m \u001b[0;31m# This is the section from your original code.\u001b[0m\u001b[0;34m\u001b[0m\u001b[0;34m\u001b[0m\u001b[0m\n\u001b[0;32m---> 10\u001b[0;31m \u001b[0mdf_pandora_no2\u001b[0m\u001b[0;34m[\u001b[0m\u001b[0;34m'datetime'\u001b[0m\u001b[0;34m]\u001b[0m \u001b[0;34m=\u001b[0m \u001b[0mpd\u001b[0m\u001b[0;34m.\u001b[0m\u001b[0mto_datetime\u001b[0m\u001b[0;34m(\u001b[0m\u001b[0mdf_pandora_no2\u001b[0m\u001b[0;34m[\u001b[0m\u001b[0;34m'timestamp'\u001b[0m\u001b[0;34m]\u001b[0m\u001b[0;34m)\u001b[0m\u001b[0;34m\u001b[0m\u001b[0;34m\u001b[0m\u001b[0m\n\u001b[0m\u001b[1;32m     11\u001b[0m \u001b[0mdf_pandora_so2\u001b[0m\u001b[0;34m[\u001b[0m\u001b[0;34m'datetime'\u001b[0m\u001b[0;34m]\u001b[0m \u001b[0;34m=\u001b[0m \u001b[0mpd\u001b[0m\u001b[0;34m.\u001b[0m\u001b[0mto_datetime\u001b[0m\u001b[0;34m(\u001b[0m\u001b[0mdf_pandora_so2\u001b[0m\u001b[0;34m[\u001b[0m\u001b[0;34m'timestamp'\u001b[0m\u001b[0;34m]\u001b[0m\u001b[0;34m)\u001b[0m\u001b[0;34m\u001b[0m\u001b[0;34m\u001b[0m\u001b[0m\n\u001b[1;32m     12\u001b[0m \u001b[0mdf_openaq_clean\u001b[0m\u001b[0;34m[\u001b[0m\u001b[0;34m'datetime'\u001b[0m\u001b[0;34m]\u001b[0m \u001b[0;34m=\u001b[0m \u001b[0mpd\u001b[0m\u001b[0;34m.\u001b[0m\u001b[0mto_datetime\u001b[0m\u001b[0;34m(\u001b[0m\u001b[0mdf_openaq_clean\u001b[0m\u001b[0;34m[\u001b[0m\u001b[0;34m'timestamp'\u001b[0m\u001b[0;34m]\u001b[0m\u001b[0;34m)\u001b[0m\u001b[0;34m\u001b[0m\u001b[0;34m\u001b[0m\u001b[0m\n",
            "\u001b[0;32m/usr/local/lib/python3.12/dist-packages/pandas/core/tools/datetimes.py\u001b[0m in \u001b[0;36mto_datetime\u001b[0;34m(arg, errors, dayfirst, yearfirst, utc, format, exact, unit, infer_datetime_format, origin, cache)\u001b[0m\n\u001b[1;32m   1065\u001b[0m             \u001b[0mresult\u001b[0m \u001b[0;34m=\u001b[0m \u001b[0marg\u001b[0m\u001b[0;34m.\u001b[0m\u001b[0mmap\u001b[0m\u001b[0;34m(\u001b[0m\u001b[0mcache_array\u001b[0m\u001b[0;34m)\u001b[0m\u001b[0;34m\u001b[0m\u001b[0;34m\u001b[0m\u001b[0m\n\u001b[1;32m   1066\u001b[0m         \u001b[0;32melse\u001b[0m\u001b[0;34m:\u001b[0m\u001b[0;34m\u001b[0m\u001b[0;34m\u001b[0m\u001b[0m\n\u001b[0;32m-> 1067\u001b[0;31m             \u001b[0mvalues\u001b[0m \u001b[0;34m=\u001b[0m \u001b[0mconvert_listlike\u001b[0m\u001b[0;34m(\u001b[0m\u001b[0marg\u001b[0m\u001b[0;34m.\u001b[0m\u001b[0m_values\u001b[0m\u001b[0;34m,\u001b[0m \u001b[0mformat\u001b[0m\u001b[0;34m)\u001b[0m\u001b[0;34m\u001b[0m\u001b[0;34m\u001b[0m\u001b[0m\n\u001b[0m\u001b[1;32m   1068\u001b[0m             \u001b[0mresult\u001b[0m \u001b[0;34m=\u001b[0m \u001b[0marg\u001b[0m\u001b[0;34m.\u001b[0m\u001b[0m_constructor\u001b[0m\u001b[0;34m(\u001b[0m\u001b[0mvalues\u001b[0m\u001b[0;34m,\u001b[0m \u001b[0mindex\u001b[0m\u001b[0;34m=\u001b[0m\u001b[0marg\u001b[0m\u001b[0;34m.\u001b[0m\u001b[0mindex\u001b[0m\u001b[0;34m,\u001b[0m \u001b[0mname\u001b[0m\u001b[0;34m=\u001b[0m\u001b[0marg\u001b[0m\u001b[0;34m.\u001b[0m\u001b[0mname\u001b[0m\u001b[0;34m)\u001b[0m\u001b[0;34m\u001b[0m\u001b[0;34m\u001b[0m\u001b[0m\n\u001b[1;32m   1069\u001b[0m     \u001b[0;32melif\u001b[0m \u001b[0misinstance\u001b[0m\u001b[0;34m(\u001b[0m\u001b[0marg\u001b[0m\u001b[0;34m,\u001b[0m \u001b[0;34m(\u001b[0m\u001b[0mABCDataFrame\u001b[0m\u001b[0;34m,\u001b[0m \u001b[0mabc\u001b[0m\u001b[0;34m.\u001b[0m\u001b[0mMutableMapping\u001b[0m\u001b[0;34m)\u001b[0m\u001b[0;34m)\u001b[0m\u001b[0;34m:\u001b[0m\u001b[0;34m\u001b[0m\u001b[0;34m\u001b[0m\u001b[0m\n",
            "\u001b[0;32m/usr/local/lib/python3.12/dist-packages/pandas/core/tools/datetimes.py\u001b[0m in \u001b[0;36m_convert_listlike_datetimes\u001b[0;34m(arg, format, name, utc, unit, errors, dayfirst, yearfirst, exact)\u001b[0m\n\u001b[1;32m    431\u001b[0m     \u001b[0;31m# `format` could be inferred, or user didn't ask for mixed-format parsing.\u001b[0m\u001b[0;34m\u001b[0m\u001b[0;34m\u001b[0m\u001b[0m\n\u001b[1;32m    432\u001b[0m     \u001b[0;32mif\u001b[0m \u001b[0mformat\u001b[0m \u001b[0;32mis\u001b[0m \u001b[0;32mnot\u001b[0m \u001b[0;32mNone\u001b[0m \u001b[0;32mand\u001b[0m \u001b[0mformat\u001b[0m \u001b[0;34m!=\u001b[0m \u001b[0;34m\"mixed\"\u001b[0m\u001b[0;34m:\u001b[0m\u001b[0;34m\u001b[0m\u001b[0;34m\u001b[0m\u001b[0m\n\u001b[0;32m--> 433\u001b[0;31m         \u001b[0;32mreturn\u001b[0m \u001b[0m_array_strptime_with_fallback\u001b[0m\u001b[0;34m(\u001b[0m\u001b[0marg\u001b[0m\u001b[0;34m,\u001b[0m \u001b[0mname\u001b[0m\u001b[0;34m,\u001b[0m \u001b[0mutc\u001b[0m\u001b[0;34m,\u001b[0m \u001b[0mformat\u001b[0m\u001b[0;34m,\u001b[0m \u001b[0mexact\u001b[0m\u001b[0;34m,\u001b[0m \u001b[0merrors\u001b[0m\u001b[0;34m)\u001b[0m\u001b[0;34m\u001b[0m\u001b[0;34m\u001b[0m\u001b[0m\n\u001b[0m\u001b[1;32m    434\u001b[0m \u001b[0;34m\u001b[0m\u001b[0m\n\u001b[1;32m    435\u001b[0m     result, tz_parsed = objects_to_datetime64(\n",
            "\u001b[0;32m/usr/local/lib/python3.12/dist-packages/pandas/core/tools/datetimes.py\u001b[0m in \u001b[0;36m_array_strptime_with_fallback\u001b[0;34m(arg, name, utc, fmt, exact, errors)\u001b[0m\n\u001b[1;32m    465\u001b[0m     \u001b[0mCall\u001b[0m \u001b[0marray_strptime\u001b[0m\u001b[0;34m,\u001b[0m \u001b[0;32mwith\u001b[0m \u001b[0mfallback\u001b[0m \u001b[0mbehavior\u001b[0m \u001b[0mdepending\u001b[0m \u001b[0mon\u001b[0m \u001b[0;34m'errors'\u001b[0m\u001b[0;34m.\u001b[0m\u001b[0;34m\u001b[0m\u001b[0;34m\u001b[0m\u001b[0m\n\u001b[1;32m    466\u001b[0m     \"\"\"\n\u001b[0;32m--> 467\u001b[0;31m     \u001b[0mresult\u001b[0m\u001b[0;34m,\u001b[0m \u001b[0mtz_out\u001b[0m \u001b[0;34m=\u001b[0m \u001b[0marray_strptime\u001b[0m\u001b[0;34m(\u001b[0m\u001b[0marg\u001b[0m\u001b[0;34m,\u001b[0m \u001b[0mfmt\u001b[0m\u001b[0;34m,\u001b[0m \u001b[0mexact\u001b[0m\u001b[0;34m=\u001b[0m\u001b[0mexact\u001b[0m\u001b[0;34m,\u001b[0m \u001b[0merrors\u001b[0m\u001b[0;34m=\u001b[0m\u001b[0merrors\u001b[0m\u001b[0;34m,\u001b[0m \u001b[0mutc\u001b[0m\u001b[0;34m=\u001b[0m\u001b[0mutc\u001b[0m\u001b[0;34m)\u001b[0m\u001b[0;34m\u001b[0m\u001b[0;34m\u001b[0m\u001b[0m\n\u001b[0m\u001b[1;32m    468\u001b[0m     \u001b[0;32mif\u001b[0m \u001b[0mtz_out\u001b[0m \u001b[0;32mis\u001b[0m \u001b[0;32mnot\u001b[0m \u001b[0;32mNone\u001b[0m\u001b[0;34m:\u001b[0m\u001b[0;34m\u001b[0m\u001b[0;34m\u001b[0m\u001b[0m\n\u001b[1;32m    469\u001b[0m         \u001b[0munit\u001b[0m \u001b[0;34m=\u001b[0m \u001b[0mnp\u001b[0m\u001b[0;34m.\u001b[0m\u001b[0mdatetime_data\u001b[0m\u001b[0;34m(\u001b[0m\u001b[0mresult\u001b[0m\u001b[0;34m.\u001b[0m\u001b[0mdtype\u001b[0m\u001b[0;34m)\u001b[0m\u001b[0;34m[\u001b[0m\u001b[0;36m0\u001b[0m\u001b[0;34m]\u001b[0m\u001b[0;34m\u001b[0m\u001b[0;34m\u001b[0m\u001b[0m\n",
            "\u001b[0;32mstrptime.pyx\u001b[0m in \u001b[0;36mpandas._libs.tslibs.strptime.array_strptime\u001b[0;34m()\u001b[0m\n",
            "\u001b[0;32mstrptime.pyx\u001b[0m in \u001b[0;36mpandas._libs.tslibs.strptime.array_strptime\u001b[0;34m()\u001b[0m\n",
            "\u001b[0;32mstrptime.pyx\u001b[0m in \u001b[0;36mpandas._libs.tslibs.strptime._parse_with_format\u001b[0;34m()\u001b[0m\n",
            "\u001b[0;31mValueError\u001b[0m: time data \"2020-08-06 15:58:29+00:00\" doesn't match format \"%Y-%m-%d %H:%M:%S.%f%z\", at position 7. You might want to try:\n    - passing `format` if your strings have a consistent format;\n    - passing `format='ISO8601'` if your strings are all ISO8601 but not necessarily in exactly the same format;\n    - passing `format='mixed'`, and the format will be inferred for each element individually. You might want to use `dayfirst` alongside this."
          ]
        }
      ]
    },
    {
      "cell_type": "code",
      "metadata": {
        "colab": {
          "base_uri": "https://localhost:8080/"
        },
        "id": "e5ad5129",
        "outputId": "964e4f3f-d58a-4fff-9157-eef6e7cad7a3"
      },
      "source": [
        "# --- Load your actual Pandora data here ---\n",
        "try:\n",
        "    # Assuming Pandora data is in 'pandora_NO2.csv'\n",
        "    df_pandora_no2 = pd.read_csv(\"pandora_NO2.csv\")\n",
        "\n",
        "    # Rename the NO2 column for clarity\n",
        "    df_pandora = df_pandora_no2.rename(columns={'no2_column_density': 'no2_column_density_pandora'})\n",
        "\n",
        "    print(\"Successfully loaded Pandora data from pandora_NO2.csv\")\n",
        "    print(df_pandora.head())\n",
        "\n",
        "except FileNotFoundError:\n",
        "    print(\"Error: pandora_NO2.csv not found.\")\n",
        "    print(\"Please make sure the file is in the correct directory.\")\n",
        "    df_pandora = pd.DataFrame() # Create an empty DataFrame if the file is not found\n",
        "\n",
        "# The OpenAQ data will be loaded from the API in another cell (rm3M9cXy7vR7)\n",
        "# df_openaq_clean will be created after fetching and cleaning the OpenAQ data."
      ],
      "execution_count": null,
      "outputs": [
        {
          "output_type": "stream",
          "name": "stdout",
          "text": [
            "Placeholder df_pandora created:\n",
            "            timestamp  latitude  longitude  no2_column_density_pandora  \\\n",
            "0 2023-01-01 10:00:00      38.9      -77.0                          10   \n",
            "1 2023-01-01 11:00:00      38.9      -77.0                          12   \n",
            "2 2023-01-01 12:00:00      38.9      -77.0                          15   \n",
            "\n",
            "            station_name  \n",
            "0  Placeholder Station A  \n",
            "1  Placeholder Station A  \n",
            "2  Placeholder Station A  \n",
            "\n",
            "Placeholder df_openaq_clean created:\n",
            "            timestamp  latitude  longitude  no2           station_name\n",
            "0 2023-01-01 10:00:00      38.9      -77.0   20  Placeholder Station B\n",
            "1 2023-01-01 11:00:00      38.9      -77.0   22  Placeholder Station B\n",
            "2 2023-01-01 12:00:00      38.9      -77.0   25  Placeholder Station B\n"
          ]
        }
      ]
    },
    {
      "cell_type": "code",
      "source": [],
      "metadata": {
        "id": "dnYKyotFPxz9"
      },
      "execution_count": null,
      "outputs": []
    },
    {
      "cell_type": "code",
      "source": [],
      "metadata": {
        "id": "CAUHjBWLP9A2"
      },
      "execution_count": null,
      "outputs": []
    },
    {
      "cell_type": "code",
      "source": [
        "type(locs)\n"
      ],
      "metadata": {
        "id": "UeOKmnHH9mRu",
        "colab": {
          "base_uri": "https://localhost:8080/",
          "height": 204
        },
        "outputId": "111c5f6c-06b3-41fb-b489-02ac7e56ac05"
      },
      "execution_count": null,
      "outputs": [
        {
          "output_type": "execute_result",
          "data": {
            "text/plain": [
              "pandas.core.frame.DataFrame"
            ],
            "text/html": [
              "<div style=\"max-width:800px; border: 1px solid var(--colab-border-color);\"><style>\n",
              "      pre.function-repr-contents {\n",
              "        overflow-x: auto;\n",
              "        padding: 8px 12px;\n",
              "        max-height: 500px;\n",
              "      }\n",
              "\n",
              "      pre.function-repr-contents.function-repr-contents-collapsed {\n",
              "        cursor: pointer;\n",
              "        max-height: 100px;\n",
              "      }\n",
              "    </style>\n",
              "    <pre style=\"white-space: initial; background:\n",
              "         var(--colab-secondary-surface-color); padding: 8px 12px;\n",
              "         border-bottom: 1px solid var(--colab-border-color);\"><b>pandas.core.frame.DataFrame</b><br/>def __init__(data=None, index: Axes | None=None, columns: Axes | None=None, dtype: Dtype | None=None, copy: bool | None=None) -&gt; None</pre><pre class=\"function-repr-contents function-repr-contents-collapsed\" style=\"\"><a class=\"filepath\" style=\"display:none\" href=\"#\">/usr/local/lib/python3.12/dist-packages/pandas/core/frame.py</a>Two-dimensional, size-mutable, potentially heterogeneous tabular data.\n",
              "\n",
              "Data structure also contains labeled axes (rows and columns).\n",
              "Arithmetic operations align on both row and column labels. Can be\n",
              "thought of as a dict-like container for Series objects. The primary\n",
              "pandas data structure.\n",
              "\n",
              "Parameters\n",
              "----------\n",
              "data : ndarray (structured or homogeneous), Iterable, dict, or DataFrame\n",
              "    Dict can contain Series, arrays, constants, dataclass or list-like objects. If\n",
              "    data is a dict, column order follows insertion-order. If a dict contains Series\n",
              "    which have an index defined, it is aligned by its index. This alignment also\n",
              "    occurs if data is a Series or a DataFrame itself. Alignment is done on\n",
              "    Series/DataFrame inputs.\n",
              "\n",
              "    If data is a list of dicts, column order follows insertion-order.\n",
              "\n",
              "index : Index or array-like\n",
              "    Index to use for resulting frame. Will default to RangeIndex if\n",
              "    no indexing information part of input data and no index provided.\n",
              "columns : Index or array-like\n",
              "    Column labels to use for resulting frame when data does not have them,\n",
              "    defaulting to RangeIndex(0, 1, 2, ..., n). If data contains column labels,\n",
              "    will perform column selection instead.\n",
              "dtype : dtype, default None\n",
              "    Data type to force. Only a single dtype is allowed. If None, infer.\n",
              "copy : bool or None, default None\n",
              "    Copy data from inputs.\n",
              "    For dict data, the default of None behaves like ``copy=True``.  For DataFrame\n",
              "    or 2d ndarray input, the default of None behaves like ``copy=False``.\n",
              "    If data is a dict containing one or more Series (possibly of different dtypes),\n",
              "    ``copy=False`` will ensure that these inputs are not copied.\n",
              "\n",
              "    .. versionchanged:: 1.3.0\n",
              "\n",
              "See Also\n",
              "--------\n",
              "DataFrame.from_records : Constructor from tuples, also record arrays.\n",
              "DataFrame.from_dict : From dicts of Series, arrays, or dicts.\n",
              "read_csv : Read a comma-separated values (csv) file into DataFrame.\n",
              "read_table : Read general delimited file into DataFrame.\n",
              "read_clipboard : Read text from clipboard into DataFrame.\n",
              "\n",
              "Notes\n",
              "-----\n",
              "Please reference the :ref:`User Guide &lt;basics.dataframe&gt;` for more information.\n",
              "\n",
              "Examples\n",
              "--------\n",
              "Constructing DataFrame from a dictionary.\n",
              "\n",
              "&gt;&gt;&gt; d = {&#x27;col1&#x27;: [1, 2], &#x27;col2&#x27;: [3, 4]}\n",
              "&gt;&gt;&gt; df = pd.DataFrame(data=d)\n",
              "&gt;&gt;&gt; df\n",
              "   col1  col2\n",
              "0     1     3\n",
              "1     2     4\n",
              "\n",
              "Notice that the inferred dtype is int64.\n",
              "\n",
              "&gt;&gt;&gt; df.dtypes\n",
              "col1    int64\n",
              "col2    int64\n",
              "dtype: object\n",
              "\n",
              "To enforce a single dtype:\n",
              "\n",
              "&gt;&gt;&gt; df = pd.DataFrame(data=d, dtype=np.int8)\n",
              "&gt;&gt;&gt; df.dtypes\n",
              "col1    int8\n",
              "col2    int8\n",
              "dtype: object\n",
              "\n",
              "Constructing DataFrame from a dictionary including Series:\n",
              "\n",
              "&gt;&gt;&gt; d = {&#x27;col1&#x27;: [0, 1, 2, 3], &#x27;col2&#x27;: pd.Series([2, 3], index=[2, 3])}\n",
              "&gt;&gt;&gt; pd.DataFrame(data=d, index=[0, 1, 2, 3])\n",
              "   col1  col2\n",
              "0     0   NaN\n",
              "1     1   NaN\n",
              "2     2   2.0\n",
              "3     3   3.0\n",
              "\n",
              "Constructing DataFrame from numpy ndarray:\n",
              "\n",
              "&gt;&gt;&gt; df2 = pd.DataFrame(np.array([[1, 2, 3], [4, 5, 6], [7, 8, 9]]),\n",
              "...                    columns=[&#x27;a&#x27;, &#x27;b&#x27;, &#x27;c&#x27;])\n",
              "&gt;&gt;&gt; df2\n",
              "   a  b  c\n",
              "0  1  2  3\n",
              "1  4  5  6\n",
              "2  7  8  9\n",
              "\n",
              "Constructing DataFrame from a numpy ndarray that has labeled columns:\n",
              "\n",
              "&gt;&gt;&gt; data = np.array([(1, 2, 3), (4, 5, 6), (7, 8, 9)],\n",
              "...                 dtype=[(&quot;a&quot;, &quot;i4&quot;), (&quot;b&quot;, &quot;i4&quot;), (&quot;c&quot;, &quot;i4&quot;)])\n",
              "&gt;&gt;&gt; df3 = pd.DataFrame(data, columns=[&#x27;c&#x27;, &#x27;a&#x27;])\n",
              "...\n",
              "&gt;&gt;&gt; df3\n",
              "   c  a\n",
              "0  3  1\n",
              "1  6  4\n",
              "2  9  7\n",
              "\n",
              "Constructing DataFrame from dataclass:\n",
              "\n",
              "&gt;&gt;&gt; from dataclasses import make_dataclass\n",
              "&gt;&gt;&gt; Point = make_dataclass(&quot;Point&quot;, [(&quot;x&quot;, int), (&quot;y&quot;, int)])\n",
              "&gt;&gt;&gt; pd.DataFrame([Point(0, 0), Point(0, 3), Point(2, 3)])\n",
              "   x  y\n",
              "0  0  0\n",
              "1  0  3\n",
              "2  2  3\n",
              "\n",
              "Constructing DataFrame from Series/DataFrame:\n",
              "\n",
              "&gt;&gt;&gt; ser = pd.Series([1, 2, 3], index=[&quot;a&quot;, &quot;b&quot;, &quot;c&quot;])\n",
              "&gt;&gt;&gt; df = pd.DataFrame(data=ser, index=[&quot;a&quot;, &quot;c&quot;])\n",
              "&gt;&gt;&gt; df\n",
              "   0\n",
              "a  1\n",
              "c  3\n",
              "\n",
              "&gt;&gt;&gt; df1 = pd.DataFrame([1, 2, 3], index=[&quot;a&quot;, &quot;b&quot;, &quot;c&quot;], columns=[&quot;x&quot;])\n",
              "&gt;&gt;&gt; df2 = pd.DataFrame(data=df1, index=[&quot;a&quot;, &quot;c&quot;])\n",
              "&gt;&gt;&gt; df2\n",
              "   x\n",
              "a  1\n",
              "c  3</pre>\n",
              "      <script>\n",
              "      if (google.colab.kernel.accessAllowed && google.colab.files && google.colab.files.view) {\n",
              "        for (const element of document.querySelectorAll('.filepath')) {\n",
              "          element.style.display = 'block'\n",
              "          element.onclick = (event) => {\n",
              "            event.preventDefault();\n",
              "            event.stopPropagation();\n",
              "            google.colab.files.view(element.textContent, 509);\n",
              "          };\n",
              "        }\n",
              "      }\n",
              "      for (const element of document.querySelectorAll('.function-repr-contents')) {\n",
              "        element.onclick = (event) => {\n",
              "          event.preventDefault();\n",
              "          event.stopPropagation();\n",
              "          element.classList.toggle('function-repr-contents-collapsed');\n",
              "        };\n",
              "      }\n",
              "      </script>\n",
              "      </div>"
            ]
          },
          "metadata": {},
          "execution_count": 40
        }
      ]
    },
    {
      "cell_type": "code",
      "source": [
        "import pandas as pd\n",
        "\n",
        "# Collect all variables that are pandas DataFrames\n",
        "dfs = {name: var for name, var in globals().items() if isinstance(var, pd.DataFrame)}\n",
        "\n",
        "# Print their names, shapes, and column info\n",
        "for name, df in dfs.items():\n",
        "    print(f\"\\n📌 DataFrame: {name}\")\n",
        "    print(f\"   Shape: {df.shape}\")\n",
        "    print(f\"   Columns: {list(df.columns)}\")\n"
      ],
      "metadata": {
        "colab": {
          "base_uri": "https://localhost:8080/"
        },
        "id": "JX0ocUAo-LS0",
        "outputId": "fe67ef3e-9d7e-48c3-d447-76a7beca8bca"
      },
      "execution_count": null,
      "outputs": [
        {
          "output_type": "stream",
          "name": "stdout",
          "text": [
            "\n",
            "📌 DataFrame: __\n",
            "   Shape: (3, 4)\n",
            "   Columns: ['datetime', 'no2_column_density_pandora', 'latitude', 'longitude']\n",
            "\n",
            "📌 DataFrame: df_openaq\n",
            "   Shape: (0, 0)\n",
            "   Columns: []\n",
            "\n",
            "📌 DataFrame: locs\n",
            "   Shape: (100, 26)\n",
            "   Columns: ['id', 'name', 'locality', 'timezone', 'isMobile', 'isMonitor', 'instruments', 'sensors', 'licenses', 'bounds', 'distance', 'datetimeFirst', 'datetimeLast', 'country.id', 'country.code', 'country.name', 'owner.id', 'owner.name', 'provider.id', 'provider.name', 'coordinates.latitude', 'coordinates.longitude', 'datetimeFirst.utc', 'datetimeFirst.local', 'datetimeLast.utc', 'datetimeLast.local']\n",
            "\n",
            "📌 DataFrame: df_pandora_no2\n",
            "   Shape: (930064, 2)\n",
            "   Columns: ['timestamp', 'no2_column_density']\n",
            "\n",
            "📌 DataFrame: df_pandora_so2\n",
            "   Shape: (930064, 2)\n",
            "   Columns: ['timestamp', 'no2_column_density']\n",
            "\n",
            "📌 DataFrame: df\n",
            "   Shape: (3, 6)\n",
            "   Columns: ['timestamp', 'latitude', 'longitude', 'no2', 'station_name', 'datetime']\n",
            "\n",
            "📌 DataFrame: df_pandora\n",
            "   Shape: (3, 5)\n",
            "   Columns: ['timestamp', 'latitude', 'longitude', 'no2_column_density_pandora', 'station_name']\n",
            "\n",
            "📌 DataFrame: df_openaq_clean\n",
            "   Shape: (3, 5)\n",
            "   Columns: ['timestamp', 'latitude', 'longitude', 'no2', 'station_name']\n",
            "\n",
            "📌 DataFrame: merged_df\n",
            "   Shape: (3, 4)\n",
            "   Columns: ['datetime', 'no2_column_density_pandora', 'latitude', 'longitude']\n",
            "\n",
            "📌 DataFrame: _30\n",
            "   Shape: (3, 4)\n",
            "   Columns: ['datetime', 'no2_column_density_pandora', 'latitude', 'longitude']\n"
          ]
        }
      ]
    },
    {
      "cell_type": "code",
      "source": [
        "\"locs\" in globals(), \"df\" in globals()\n"
      ],
      "metadata": {
        "colab": {
          "base_uri": "https://localhost:8080/"
        },
        "id": "P_ViZ_No-ZaU",
        "outputId": "41df2fd2-e110-4e59-f70c-5f1ce08deb91"
      },
      "execution_count": null,
      "outputs": [
        {
          "output_type": "execute_result",
          "data": {
            "text/plain": [
              "(True, True)"
            ]
          },
          "metadata": {},
          "execution_count": 42
        }
      ]
    },
    {
      "cell_type": "code",
      "source": [
        "print(type(locs))\n"
      ],
      "metadata": {
        "colab": {
          "base_uri": "https://localhost:8080/"
        },
        "id": "Lpe8Ua0E-aug",
        "outputId": "d5660eda-06ca-4c70-99e4-e940928c93d9"
      },
      "execution_count": null,
      "outputs": [
        {
          "output_type": "stream",
          "name": "stdout",
          "text": [
            "<class 'pandas.core.frame.DataFrame'>\n"
          ]
        }
      ]
    },
    {
      "cell_type": "code",
      "source": [
        "import pandas as pd\n",
        "\n",
        "dfs = {name: var for name, var in globals().items() if isinstance(var, pd.DataFrame)}\n",
        "\n",
        "for name, df in dfs.items():\n",
        "    print(f\"\\n📌 DataFrame: {name}\")\n",
        "    print(f\"   Shape: {df.shape}\")\n",
        "    print(f\"   Columns: {list(df.columns)}\")\n"
      ],
      "metadata": {
        "id": "WuaySdUA_Ahq",
        "outputId": "d2f51cf5-d437-4826-ef81-98c83690d5a8",
        "colab": {
          "base_uri": "https://localhost:8080/"
        }
      },
      "execution_count": null,
      "outputs": [
        {
          "output_type": "stream",
          "name": "stdout",
          "text": [
            "\n",
            "📌 DataFrame: ___\n",
            "   Shape: (3, 4)\n",
            "   Columns: ['datetime', 'no2_column_density_pandora', 'latitude', 'longitude']\n",
            "\n",
            "📌 DataFrame: df_openaq\n",
            "   Shape: (0, 0)\n",
            "   Columns: []\n",
            "\n",
            "📌 DataFrame: locs\n",
            "   Shape: (100, 26)\n",
            "   Columns: ['id', 'name', 'locality', 'timezone', 'isMobile', 'isMonitor', 'instruments', 'sensors', 'licenses', 'bounds', 'distance', 'datetimeFirst', 'datetimeLast', 'country.id', 'country.code', 'country.name', 'owner.id', 'owner.name', 'provider.id', 'provider.name', 'coordinates.latitude', 'coordinates.longitude', 'datetimeFirst.utc', 'datetimeFirst.local', 'datetimeLast.utc', 'datetimeLast.local']\n",
            "\n",
            "📌 DataFrame: df_pandora_no2\n",
            "   Shape: (930064, 2)\n",
            "   Columns: ['timestamp', 'no2_column_density']\n",
            "\n",
            "📌 DataFrame: df_pandora_so2\n",
            "   Shape: (930064, 2)\n",
            "   Columns: ['timestamp', 'no2_column_density']\n",
            "\n",
            "📌 DataFrame: df\n",
            "   Shape: (3, 4)\n",
            "   Columns: ['datetime', 'no2_column_density_pandora', 'latitude', 'longitude']\n",
            "\n",
            "📌 DataFrame: df_pandora\n",
            "   Shape: (3, 5)\n",
            "   Columns: ['timestamp', 'latitude', 'longitude', 'no2_column_density_pandora', 'station_name']\n",
            "\n",
            "📌 DataFrame: df_openaq_clean\n",
            "   Shape: (3, 5)\n",
            "   Columns: ['timestamp', 'latitude', 'longitude', 'no2', 'station_name']\n",
            "\n",
            "📌 DataFrame: merged_df\n",
            "   Shape: (3, 4)\n",
            "   Columns: ['datetime', 'no2_column_density_pandora', 'latitude', 'longitude']\n",
            "\n",
            "📌 DataFrame: _30\n",
            "   Shape: (3, 4)\n",
            "   Columns: ['datetime', 'no2_column_density_pandora', 'latitude', 'longitude']\n"
          ]
        }
      ]
    },
    {
      "cell_type": "code",
      "source": [
        "# Check first few rows of both dataframes\n",
        "print(df_pandora.head())\n",
        "print(df_openaq_clean.head())\n",
        "\n",
        "# Check summary statistics\n",
        "print(df_pandora.describe())\n",
        "print(df_openaq_clean.describe())\n"
      ],
      "metadata": {
        "colab": {
          "base_uri": "https://localhost:8080/"
        },
        "id": "NyLHlEz9rGQv",
        "outputId": "8762ebb8-0e94-40e9-f5d3-30d8b4c0d241"
      },
      "execution_count": null,
      "outputs": [
        {
          "output_type": "stream",
          "name": "stdout",
          "text": [
            "            timestamp  latitude  longitude  no2_column_density_pandora  \\\n",
            "0 2023-01-01 10:00:00      38.9      -77.0                          10   \n",
            "1 2023-01-01 11:00:00      38.9      -77.0                          12   \n",
            "2 2023-01-01 12:00:00      38.9      -77.0                          15   \n",
            "\n",
            "            station_name  \n",
            "0  Placeholder Station A  \n",
            "1  Placeholder Station A  \n",
            "2  Placeholder Station A  \n",
            "            timestamp  latitude  longitude  no2           station_name\n",
            "0 2023-01-01 10:00:00      38.9      -77.0   20  Placeholder Station B\n",
            "1 2023-01-01 11:00:00      38.9      -77.0   22  Placeholder Station B\n",
            "2 2023-01-01 12:00:00      38.9      -77.0   25  Placeholder Station B\n",
            "                 timestamp  latitude  longitude  no2_column_density_pandora\n",
            "count                    3       3.0        3.0                    3.000000\n",
            "mean   2023-01-01 11:00:00      38.9      -77.0                   12.333333\n",
            "min    2023-01-01 10:00:00      38.9      -77.0                   10.000000\n",
            "25%    2023-01-01 10:30:00      38.9      -77.0                   11.000000\n",
            "50%    2023-01-01 11:00:00      38.9      -77.0                   12.000000\n",
            "75%    2023-01-01 11:30:00      38.9      -77.0                   13.500000\n",
            "max    2023-01-01 12:00:00      38.9      -77.0                   15.000000\n",
            "std                    NaN       0.0        0.0                    2.516611\n",
            "                 timestamp  latitude  longitude        no2\n",
            "count                    3       3.0        3.0   3.000000\n",
            "mean   2023-01-01 11:00:00      38.9      -77.0  22.333333\n",
            "min    2023-01-01 10:00:00      38.9      -77.0  20.000000\n",
            "25%    2023-01-01 10:30:00      38.9      -77.0  21.000000\n",
            "50%    2023-01-01 11:00:00      38.9      -77.0  22.000000\n",
            "75%    2023-01-01 11:30:00      38.9      -77.0  23.500000\n",
            "max    2023-01-01 12:00:00      38.9      -77.0  25.000000\n",
            "std                    NaN       0.0        0.0   2.516611\n"
          ]
        }
      ]
    },
    {
      "cell_type": "code",
      "source": [
        "# Ensure datetime column exists\n",
        "df_pandora['datetime'] = pd.to_datetime(df_pandora['timestamp'])\n",
        "df_openaq_clean['datetime'] = pd.to_datetime(df_openaq_clean['timestamp'])\n",
        "\n",
        "# Merge (outer join to keep all data)\n",
        "merged_df = pd.merge(df_pandora[['datetime','no2_column_density_pandora']],\n",
        "                     df_openaq_clean[['datetime','station_name','latitude','longitude']],\n",
        "                     on='datetime',\n",
        "                     how='outer')\n"
      ],
      "metadata": {
        "id": "_Bw16dEQrdGg"
      },
      "execution_count": null,
      "outputs": []
    },
    {
      "cell_type": "code",
      "source": [
        "# Check all columns in your measurements DataFrame\n",
        "print(merged_df.columns.tolist())"
      ],
      "metadata": {
        "colab": {
          "base_uri": "https://localhost:8080/"
        },
        "id": "wCB0bsTQkZol",
        "outputId": "6c846183-ca9b-482d-ac7c-196747bb4e8c"
      },
      "execution_count": null,
      "outputs": [
        {
          "output_type": "stream",
          "name": "stdout",
          "text": [
            "['datetime', 'no2_column_density_pandora', 'station_name', 'latitude', 'longitude']\n"
          ]
        }
      ]
    },
    {
      "cell_type": "code",
      "metadata": {
        "colab": {
          "base_uri": "https://localhost:8080/"
        },
        "id": "ae8a40c4",
        "outputId": "83c354da-bebc-4b16-ce30-073f97af3155"
      },
      "source": [
        "# Drop the 'station_name' column from merged_df\n",
        "merged_df = merged_df.drop('station_name', axis=1)\n",
        "\n",
        "# Display the first few rows to confirm the change\n",
        "print(merged_df.head())"
      ],
      "execution_count": null,
      "outputs": [
        {
          "output_type": "stream",
          "name": "stdout",
          "text": [
            "             datetime  no2_column_density_pandora  latitude  longitude\n",
            "0 2023-01-01 10:00:00                          10      38.9      -77.0\n",
            "1 2023-01-01 11:00:00                          12      38.9      -77.0\n",
            "2 2023-01-01 12:00:00                          15      38.9      -77.0\n"
          ]
        }
      ]
    },
    {
      "cell_type": "code",
      "source": [
        "# Fill NaNs or drop them\n",
        "merged_df.fillna(method='ffill', inplace=True)  # forward fill\n",
        "# OR\n",
        "# merged_df.dropna(inplace=True)\n"
      ],
      "metadata": {
        "colab": {
          "base_uri": "https://localhost:8080/"
        },
        "id": "hDxaCcTJrixZ",
        "outputId": "e8ad855b-69d1-4518-8a83-d0f5740a0898"
      },
      "execution_count": null,
      "outputs": [
        {
          "output_type": "stream",
          "name": "stderr",
          "text": [
            "/tmp/ipython-input-2169325134.py:2: FutureWarning: DataFrame.fillna with 'method' is deprecated and will raise in a future version. Use obj.ffill() or obj.bfill() instead.\n",
            "  merged_df.fillna(method='ffill', inplace=True)  # forward fill\n"
          ]
        }
      ]
    },
    {
      "cell_type": "code",
      "source": [
        "import matplotlib.pyplot as plt\n",
        "\n",
        "plt.figure(figsize=(12,6))\n",
        "plt.plot(merged_df['datetime'], merged_df['no2_column_density_pandora'], color='blue', label='Pandora NO2')\n",
        "plt.xlabel('Datetime')\n",
        "plt.ylabel('NO2 Column Density')\n",
        "plt.title('NO2 Changes Over Time')\n",
        "plt.legend()\n",
        "plt.show()\n"
      ],
      "metadata": {
        "colab": {
          "base_uri": "https://localhost:8080/",
          "height": 543
        },
        "id": "D658viOVrk-N",
        "outputId": "efbcf8bb-a7ca-454c-ee76-0432c02b1ab2"
      },
      "execution_count": null,
      "outputs": [
        {
          "output_type": "display_data",
          "data": {
            "text/plain": [
              "<Figure size 1200x600 with 1 Axes>"
            ],
            "image/png": "[encoded data removed]"
          },
          "metadata": {}
        }
      ]
    },
    {
      "cell_type": "code",
      "source": [
        "merged_df.head()"
      ],
      "metadata": {
        "colab": {
          "base_uri": "https://localhost:8080/",
          "height": 143
        },
        "id": "BFh2rf-7svDK",
        "outputId": "d501b138-0ca0-4b5f-86e7-0527c3cc3990"
      },
      "execution_count": null,
      "outputs": [
        {
          "output_type": "execute_result",
          "data": {
            "text/plain": [
              "             datetime  no2_column_density_pandora  latitude  longitude\n",
              "0 2023-01-01 10:00:00                          10      38.9      -77.0\n",
              "1 2023-01-01 11:00:00                          12      38.9      -77.0\n",
              "2 2023-01-01 12:00:00                          15      38.9      -77.0"
            ],
            "text/html": [
              "\n",
              "  <div id=\"df-af6b68f5-e715-4aba-8a63-29d1aa4946c6\" class=\"colab-df-container\">\n",
              "    <div>\n",
              "<style scoped>\n",
              "    .dataframe tbody tr th:only-of-type {\n",
              "        vertical-align: middle;\n",
              "    }\n",
              "\n",
              "    .dataframe tbody tr th {\n",
              "        vertical-align: top;\n",
              "    }\n",
              "\n",
              "    .dataframe thead th {\n",
              "        text-align: right;\n",
              "    }\n",
              "</style>\n",
              "<table border=\"1\" class=\"dataframe\">\n",
              "  <thead>\n",
              "    <tr style=\"text-align: right;\">\n",
              "      <th></th>\n",
              "      <th>datetime</th>\n",
              "      <th>no2_column_density_pandora</th>\n",
              "      <th>latitude</th>\n",
              "      <th>longitude</th>\n",
              "    </tr>\n",
              "  </thead>\n",
              "  <tbody>\n",
              "    <tr>\n",
              "      <th>0</th>\n",
              "      <td>2023-01-01 10:00:00</td>\n",
              "      <td>10</td>\n",
              "      <td>38.9</td>\n",
              "      <td>-77.0</td>\n",
              "    </tr>\n",
              "    <tr>\n",
              "      <th>1</th>\n",
              "      <td>2023-01-01 11:00:00</td>\n",
              "      <td>12</td>\n",
              "      <td>38.9</td>\n",
              "      <td>-77.0</td>\n",
              "    </tr>\n",
              "    <tr>\n",
              "      <th>2</th>\n",
              "      <td>2023-01-01 12:00:00</td>\n",
              "      <td>15</td>\n",
              "      <td>38.9</td>\n",
              "      <td>-77.0</td>\n",
              "    </tr>\n",
              "  </tbody>\n",
              "</table>\n",
              "</div>\n",
              "    <div class=\"colab-df-buttons\">\n",
              "\n",
              "  <div class=\"colab-df-container\">\n",
              "    <button class=\"colab-df-convert\" onclick=\"convertToInteractive('df-af6b68f5-e715-4aba-8a63-29d1aa4946c6')\"\n",
              "            title=\"Convert this dataframe to an interactive table.\"\n",
              "            style=\"display:none;\">\n",
              "\n",
              "  <svg xmlns=\"http://www.w3.org/2000/svg\" height=\"24px\" viewBox=\"0 -960 960 960\">\n",
              "    <path d=\"M120-120v-720h720v720H120Zm60-500h600v-160H180v160Zm220 220h160v-160H400v160Zm0 220h160v-160H400v160ZM180-400h160v-160H180v160Zm440 0h160v-160H620v160ZM180-180h160v-160H180v160Zm440 0h160v-160H620v160Z\"/>\n",
              "  </svg>\n",
              "    </button>\n",
              "\n",
              "  <style>\n",
              "    .colab-df-container {\n",
              "      display:flex;\n",
              "      gap: 12px;\n",
              "    }\n",
              "\n",
              "    .colab-df-convert {\n",
              "      background-color: #E8F0FE;\n",
              "      border: none;\n",
              "      border-radius: 50%;\n",
              "      cursor: pointer;\n",
              "      display: none;\n",
              "      fill: #1967D2;\n",
              "      height: 32px;\n",
              "      padding: 0 0 0 0;\n",
              "      width: 32px;\n",
              "    }\n",
              "\n",
              "    .colab-df-convert:hover {\n",
              "      background-color: #E2EBFA;\n",
              "      box-shadow: 0px 1px 2px rgba(60, 64, 67, 0.3), 0px 1px 3px 1px rgba(60, 64, 67, 0.15);\n",
              "      fill: #174EA6;\n",
              "    }\n",
              "\n",
              "    .colab-df-buttons div {\n",
              "      margin-bottom: 4px;\n",
              "    }\n",
              "\n",
              "    [theme=dark] .colab-df-convert {\n",
              "      background-color: #3B4455;\n",
              "      fill: #D2E3FC;\n",
              "    }\n",
              "\n",
              "    [theme=dark] .colab-df-convert:hover {\n",
              "      background-color: #434B5C;\n",
              "      box-shadow: 0px 1px 3px 1px rgba(0, 0, 0, 0.15);\n",
              "      filter: drop-shadow(0px 1px 2px rgba(0, 0, 0, 0.3));\n",
              "      fill: #FFFFFF;\n",
              "    }\n",
              "  </style>\n",
              "\n",
              "    <script>\n",
              "      const buttonEl =\n",
              "        document.querySelector('#df-af6b68f5-e715-4aba-8a63-29d1aa4946c6 button.colab-df-convert');\n",
              "      buttonEl.style.display =\n",
              "        google.colab.kernel.accessAllowed ? 'block' : 'none';\n",
              "\n",
              "      async function convertToInteractive(key) {\n",
              "        const element = document.querySelector('#df-af6b68f5-e715-4aba-8a63-29d1aa4946c6');\n",
              "        const dataTable =\n",
              "          await google.colab.kernel.invokeFunction('convertToInteractive',\n",
              "                                                    [key], {});\n",
              "        if (!dataTable) return;\n",
              "\n",
              "        const docLinkHtml = 'Like what you see? Visit the ' +\n",
              "          '<a target=\"_blank\" href=https://colab.research.google.com/notebooks/data_table.ipynb>data table notebook</a>'\n",
              "          + ' to learn more about interactive tables.';\n",
              "        element.innerHTML = '';\n",
              "        dataTable['output_type'] = 'display_data';\n",
              "        await google.colab.output.renderOutput(dataTable, element);\n",
              "        const docLink = document.createElement('div');\n",
              "        docLink.innerHTML = docLinkHtml;\n",
              "        element.appendChild(docLink);\n",
              "      }\n",
              "    </script>\n",
              "  </div>\n",
              "\n",
              "\n",
              "    <div id=\"df-79ed11b4-d134-4968-a119-fe07c39b89ef\">\n",
              "      <button class=\"colab-df-quickchart\" onclick=\"quickchart('df-79ed11b4-d134-4968-a119-fe07c39b89ef')\"\n",
              "                title=\"Suggest charts\"\n",
              "                style=\"display:none;\">\n",
              "\n",
              "<svg xmlns=\"http://www.w3.org/2000/svg\" height=\"24px\"viewBox=\"0 0 24 24\"\n",
              "     width=\"24px\">\n",
              "    <g>\n",
              "        <path d=\"M19 3H5c-1.1 0-2 .9-2 2v14c0 1.1.9 2 2 2h14c1.1 0 2-.9 2-2V5c0-1.1-.9-2-2-2zM9 17H7v-7h2v7zm4 0h-2V7h2v10zm4 0h-2v-4h2v4z\"/>\n",
              "    </g>\n",
              "</svg>\n",
              "      </button>\n",
              "\n",
              "<style>\n",
              "  .colab-df-quickchart {\n",
              "      --bg-color: #E8F0FE;\n",
              "      --fill-color: #1967D2;\n",
              "      --hover-bg-color: #E2EBFA;\n",
              "      --hover-fill-color: #174EA6;\n",
              "      --disabled-fill-color: #AAA;\n",
              "      --disabled-bg-color: #DDD;\n",
              "  }\n",
              "\n",
              "  [theme=dark] .colab-df-quickchart {\n",
              "      --bg-color: #3B4455;\n",
              "      --fill-color: #D2E3FC;\n",
              "      --hover-bg-color: #434B5C;\n",
              "      --hover-fill-color: #FFFFFF;\n",
              "      --disabled-bg-color: #3B4455;\n",
              "      --disabled-fill-color: #666;\n",
              "  }\n",
              "\n",
              "  .colab-df-quickchart {\n",
              "    background-color: var(--bg-color);\n",
              "    border: none;\n",
              "    border-radius: 50%;\n",
              "    cursor: pointer;\n",
              "    display: none;\n",
              "    fill: var(--fill-color);\n",
              "    height: 32px;\n",
              "    padding: 0;\n",
              "    width: 32px;\n",
              "  }\n",
              "\n",
              "  .colab-df-quickchart:hover {\n",
              "    background-color: var(--hover-bg-color);\n",
              "    box-shadow: 0 1px 2px rgba(60, 64, 67, 0.3), 0 1px 3px 1px rgba(60, 64, 67, 0.15);\n",
              "    fill: var(--button-hover-fill-color);\n",
              "  }\n",
              "\n",
              "  .colab-df-quickchart-complete:disabled,\n",
              "  .colab-df-quickchart-complete:disabled:hover {\n",
              "    background-color: var(--disabled-bg-color);\n",
              "    fill: var(--disabled-fill-color);\n",
              "    box-shadow: none;\n",
              "  }\n",
              "\n",
              "  .colab-df-spinner {\n",
              "    border: 2px solid var(--fill-color);\n",
              "    border-color: transparent;\n",
              "    border-bottom-color: var(--fill-color);\n",
              "    animation:\n",
              "      spin 1s steps(1) infinite;\n",
              "  }\n",
              "\n",
              "  @keyframes spin {\n",
              "    0% {\n",
              "      border-color: transparent;\n",
              "      border-bottom-color: var(--fill-color);\n",
              "      border-left-color: var(--fill-color);\n",
              "    }\n",
              "    20% {\n",
              "      border-color: transparent;\n",
              "      border-left-color: var(--fill-color);\n",
              "      border-top-color: var(--fill-color);\n",
              "    }\n",
              "    30% {\n",
              "      border-color: transparent;\n",
              "      border-left-color: var(--fill-color);\n",
              "      border-top-color: var(--fill-color);\n",
              "      border-right-color: var(--fill-color);\n",
              "    }\n",
              "    40% {\n",
              "      border-color: transparent;\n",
              "      border-right-color: var(--fill-color);\n",
              "      border-top-color: var(--fill-color);\n",
              "    }\n",
              "    60% {\n",
              "      border-color: transparent;\n",
              "      border-right-color: var(--fill-color);\n",
              "    }\n",
              "    80% {\n",
              "      border-color: transparent;\n",
              "      border-right-color: var(--fill-color);\n",
              "      border-bottom-color: var(--fill-color);\n",
              "    }\n",
              "    90% {\n",
              "      border-color: transparent;\n",
              "      border-bottom-color: var(--fill-color);\n",
              "    }\n",
              "  }\n",
              "</style>\n",
              "\n",
              "      <script>\n",
              "        async function quickchart(key) {\n",
              "          const quickchartButtonEl =\n",
              "            document.querySelector('#' + key + ' button');\n",
              "          quickchartButtonEl.disabled = true;  // To prevent multiple clicks.\n",
              "          quickchartButtonEl.classList.add('colab-df-spinner');\n",
              "          try {\n",
              "            const charts = await google.colab.kernel.invokeFunction(\n",
              "                'suggestCharts', [key], {});\n",
              "          } catch (error) {\n",
              "            console.error('Error during call to suggestCharts:', error);\n",
              "          }\n",
              "          quickchartButtonEl.classList.remove('colab-df-spinner');\n",
              "          quickchartButtonEl.classList.add('colab-df-quickchart-complete');\n",
              "        }\n",
              "        (() => {\n",
              "          let quickchartButtonEl =\n",
              "            document.querySelector('#df-79ed11b4-d134-4968-a119-fe07c39b89ef button');\n",
              "          quickchartButtonEl.style.display =\n",
              "            google.colab.kernel.accessAllowed ? 'block' : 'none';\n",
              "        })();\n",
              "      </script>\n",
              "    </div>\n",
              "\n",
              "    </div>\n",
              "  </div>\n"
            ],
            "application/vnd.google.colaboratory.intrinsic+json": {
              "type": "dataframe",
              "variable_name": "merged_df",
              "summary": "{\n  \"name\": \"merged_df\",\n  \"rows\": 3,\n  \"fields\": [\n    {\n      \"column\": \"datetime\",\n      \"properties\": {\n        \"dtype\": \"date\",\n        \"min\": \"2023-01-01 10:00:00\",\n        \"max\": \"2023-01-01 12:00:00\",\n        \"num_unique_values\": 3,\n        \"samples\": [\n          \"2023-01-01 10:00:00\",\n          \"2023-01-01 11:00:00\",\n          \"2023-01-01 12:00:00\"\n        ],\n        \"semantic_type\": \"\",\n        \"description\": \"\"\n      }\n    },\n    {\n      \"column\": \"no2_column_density_pandora\",\n      \"properties\": {\n        \"dtype\": \"number\",\n        \"std\": 2,\n        \"min\": 10,\n        \"max\": 15,\n        \"num_unique_values\": 3,\n        \"samples\": [\n          10,\n          12,\n          15\n        ],\n        \"semantic_type\": \"\",\n        \"description\": \"\"\n      }\n    },\n    {\n      \"column\": \"latitude\",\n      \"properties\": {\n        \"dtype\": \"number\",\n        \"std\": 0.0,\n        \"min\": 38.9,\n        \"max\": 38.9,\n        \"num_unique_values\": 1,\n        \"samples\": [\n          38.9\n        ],\n        \"semantic_type\": \"\",\n        \"description\": \"\"\n      }\n    },\n    {\n      \"column\": \"longitude\",\n      \"properties\": {\n        \"dtype\": \"number\",\n        \"std\": 0.0,\n        \"min\": -77.0,\n        \"max\": -77.0,\n        \"num_unique_values\": 1,\n        \"samples\": [\n          -77.0\n        ],\n        \"semantic_type\": \"\",\n        \"description\": \"\"\n      }\n    }\n  ]\n}"
            }
          },
          "metadata": {},
          "execution_count": 30
        }
      ]
    },
    {
      "cell_type": "code",
      "source": [
        "print(\"Shape of Pandora:\", df_pandora.shape)\n",
        "print(\"Shape of OpenAQ:\", df_openaq_clean.shape)\n",
        "print(\"Shape of Merged Data:\", merged_df.shape)\n"
      ],
      "metadata": {
        "colab": {
          "base_uri": "https://localhost:8080/"
        },
        "id": "J63L-pVGsO--",
        "outputId": "fc795120-1909-439c-bba4-aff152ead25e"
      },
      "execution_count": null,
      "outputs": [
        {
          "output_type": "stream",
          "name": "stdout",
          "text": [
            "Shape of Pandora: (3, 6)\n",
            "Shape of OpenAQ: (3, 6)\n",
            "Shape of Merged Data: (3, 4)\n"
          ]
        }
      ]
    },
    {
      "cell_type": "code",
      "source": [
        "merged_df.isna().sum()\n"
      ],
      "metadata": {
        "colab": {
          "base_uri": "https://localhost:8080/",
          "height": 209
        },
        "id": "kNh-Lei7sSwf",
        "outputId": "7a458db3-8500-4468-deff-f168b9713802"
      },
      "execution_count": null,
      "outputs": [
        {
          "output_type": "execute_result",
          "data": {
            "text/plain": [
              "datetime                      0\n",
              "no2_column_density_pandora    0\n",
              "latitude                      0\n",
              "longitude                     0\n",
              "dtype: int64"
            ],
            "text/html": [
              "<div>\n",
              "<style scoped>\n",
              "    .dataframe tbody tr th:only-of-type {\n",
              "        vertical-align: middle;\n",
              "    }\n",
              "\n",
              "    .dataframe tbody tr th {\n",
              "        vertical-align: top;\n",
              "    }\n",
              "\n",
              "    .dataframe thead th {\n",
              "        text-align: right;\n",
              "    }\n",
              "</style>\n",
              "<table border=\"1\" class=\"dataframe\">\n",
              "  <thead>\n",
              "    <tr style=\"text-align: right;\">\n",
              "      <th></th>\n",
              "      <th>0</th>\n",
              "    </tr>\n",
              "  </thead>\n",
              "  <tbody>\n",
              "    <tr>\n",
              "      <th>datetime</th>\n",
              "      <td>0</td>\n",
              "    </tr>\n",
              "    <tr>\n",
              "      <th>no2_column_density_pandora</th>\n",
              "      <td>0</td>\n",
              "    </tr>\n",
              "    <tr>\n",
              "      <th>latitude</th>\n",
              "      <td>0</td>\n",
              "    </tr>\n",
              "    <tr>\n",
              "      <th>longitude</th>\n",
              "      <td>0</td>\n",
              "    </tr>\n",
              "  </tbody>\n",
              "</table>\n",
              "</div><br><label><b>dtype:</b> int64</label>"
            ]
          },
          "metadata": {},
          "execution_count": 27
        }
      ]
    },
    {
      "cell_type": "code",
      "source": [
        "merged_df[merged_df['datetime'] == '2020-08-06 15:41:10']"
      ],
      "metadata": {
        "colab": {
          "base_uri": "https://localhost:8080/",
          "height": 53
        },
        "id": "pz6NYiW2sq4Q",
        "outputId": "bcb1f94e-8619-4bb4-a5aa-1dca454a0864"
      },
      "execution_count": null,
      "outputs": [
        {
          "output_type": "execute_result",
          "data": {
            "text/plain": [
              "Empty DataFrame\n",
              "Columns: [datetime, no2_column_density_pandora, latitude, longitude]\n",
              "Index: []"
            ],
            "text/html": [
              "\n",
              "  <div id=\"df-755b0d3e-2f0b-4e27-8112-9e5c53b2756c\" class=\"colab-df-container\">\n",
              "    <div>\n",
              "<style scoped>\n",
              "    .dataframe tbody tr th:only-of-type {\n",
              "        vertical-align: middle;\n",
              "    }\n",
              "\n",
              "    .dataframe tbody tr th {\n",
              "        vertical-align: top;\n",
              "    }\n",
              "\n",
              "    .dataframe thead th {\n",
              "        text-align: right;\n",
              "    }\n",
              "</style>\n",
              "<table border=\"1\" class=\"dataframe\">\n",
              "  <thead>\n",
              "    <tr style=\"text-align: right;\">\n",
              "      <th></th>\n",
              "      <th>datetime</th>\n",
              "      <th>no2_column_density_pandora</th>\n",
              "      <th>latitude</th>\n",
              "      <th>longitude</th>\n",
              "    </tr>\n",
              "  </thead>\n",
              "  <tbody>\n",
              "  </tbody>\n",
              "</table>\n",
              "</div>\n",
              "    <div class=\"colab-df-buttons\">\n",
              "\n",
              "  <div class=\"colab-df-container\">\n",
              "    <button class=\"colab-df-convert\" onclick=\"convertToInteractive('df-755b0d3e-2f0b-4e27-8112-9e5c53b2756c')\"\n",
              "            title=\"Convert this dataframe to an interactive table.\"\n",
              "            style=\"display:none;\">\n",
              "\n",
              "  <svg xmlns=\"http://www.w3.org/2000/svg\" height=\"24px\" viewBox=\"0 -960 960 960\">\n",
              "    <path d=\"M120-120v-720h720v720H120Zm60-500h600v-160H180v160Zm220 220h160v-160H400v160Zm0 220h160v-160H400v160ZM180-400h160v-160H180v160Zm440 0h160v-160H620v160ZM180-180h160v-160H180v160Zm440 0h160v-160H620v160Z\"/>\n",
              "  </svg>\n",
              "    </button>\n",
              "\n",
              "  <style>\n",
              "    .colab-df-container {\n",
              "      display:flex;\n",
              "      gap: 12px;\n",
              "    }\n",
              "\n",
              "    .colab-df-convert {\n",
              "      background-color: #E8F0FE;\n",
              "      border: none;\n",
              "      border-radius: 50%;\n",
              "      cursor: pointer;\n",
              "      display: none;\n",
              "      fill: #1967D2;\n",
              "      height: 32px;\n",
              "      padding: 0 0 0 0;\n",
              "      width: 32px;\n",
              "    }\n",
              "\n",
              "    .colab-df-convert:hover {\n",
              "      background-color: #E2EBFA;\n",
              "      box-shadow: 0px 1px 2px rgba(60, 64, 67, 0.3), 0px 1px 3px 1px rgba(60, 64, 67, 0.15);\n",
              "      fill: #174EA6;\n",
              "    }\n",
              "\n",
              "    .colab-df-buttons div {\n",
              "      margin-bottom: 4px;\n",
              "    }\n",
              "\n",
              "    [theme=dark] .colab-df-convert {\n",
              "      background-color: #3B4455;\n",
              "      fill: #D2E3FC;\n",
              "    }\n",
              "\n",
              "    [theme=dark] .colab-df-convert:hover {\n",
              "      background-color: #434B5C;\n",
              "      box-shadow: 0px 1px 3px 1px rgba(0, 0, 0, 0.15);\n",
              "      filter: drop-shadow(0px 1px 2px rgba(0, 0, 0, 0.3));\n",
              "      fill: #FFFFFF;\n",
              "    }\n",
              "  </style>\n",
              "\n",
              "    <script>\n",
              "      const buttonEl =\n",
              "        document.querySelector('#df-755b0d3e-2f0b-4e27-8112-9e5c53b2756c button.colab-df-convert');\n",
              "      buttonEl.style.display =\n",
              "        google.colab.kernel.accessAllowed ? 'block' : 'none';\n",
              "\n",
              "      async function convertToInteractive(key) {\n",
              "        const element = document.querySelector('#df-755b0d3e-2f0b-4e27-8112-9e5c53b2756c');\n",
              "        const dataTable =\n",
              "          await google.colab.kernel.invokeFunction('convertToInteractive',\n",
              "                                                    [key], {});\n",
              "        if (!dataTable) return;\n",
              "\n",
              "        const docLinkHtml = 'Like what you see? Visit the ' +\n",
              "          '<a target=\"_blank\" href=https://colab.research.google.com/notebooks/data_table.ipynb>data table notebook</a>'\n",
              "          + ' to learn more about interactive tables.';\n",
              "        element.innerHTML = '';\n",
              "        dataTable['output_type'] = 'display_data';\n",
              "        await google.colab.output.renderOutput(dataTable, element);\n",
              "        const docLink = document.createElement('div');\n",
              "        docLink.innerHTML = docLinkHtml;\n",
              "        element.appendChild(docLink);\n",
              "      }\n",
              "    </script>\n",
              "  </div>\n",
              "\n",
              "\n",
              "    </div>\n",
              "  </div>\n"
            ],
            "application/vnd.google.colaboratory.intrinsic+json": {
              "type": "dataframe",
              "summary": "{\n  \"name\": \"merged_df[merged_df['datetime'] == '2020-08-06 15:41:10']\",\n  \"rows\": 0,\n  \"fields\": [\n    {\n      \"column\": \"datetime\",\n      \"properties\": {\n        \"dtype\": \"date\",\n        \"min\": \"NaT\",\n        \"max\": \"NaT\",\n        \"num_unique_values\": 0,\n        \"samples\": [],\n        \"semantic_type\": \"\",\n        \"description\": \"\"\n      }\n    },\n    {\n      \"column\": \"no2_column_density_pandora\",\n      \"properties\": {\n        \"dtype\": \"number\",\n        \"std\": null,\n        \"min\": null,\n        \"max\": null,\n        \"num_unique_values\": 0,\n        \"samples\": [],\n        \"semantic_type\": \"\",\n        \"description\": \"\"\n      }\n    },\n    {\n      \"column\": \"latitude\",\n      \"properties\": {\n        \"dtype\": \"number\",\n        \"std\": null,\n        \"min\": null,\n        \"max\": null,\n        \"num_unique_values\": 0,\n        \"samples\": [],\n        \"semantic_type\": \"\",\n        \"description\": \"\"\n      }\n    },\n    {\n      \"column\": \"longitude\",\n      \"properties\": {\n        \"dtype\": \"number\",\n        \"std\": null,\n        \"min\": null,\n        \"max\": null,\n        \"num_unique_values\": 0,\n        \"samples\": [],\n        \"semantic_type\": \"\",\n        \"description\": \"\"\n      }\n    }\n  ]\n}"
            }
          },
          "metadata": {},
          "execution_count": 50
        }
      ]
    },
    {
      "cell_type": "code",
      "source": [
        "output_file = \"pandora_openaq_merged.csv\"\n",
        "df.to_csv(output_file, index=False)\n",
        "print(f\"✅ File saved as {output_file}\")"
      ],
      "metadata": {
        "id": "BVMKPXC_lv_7",
        "colab": {
          "base_uri": "https://localhost:8080/"
        },
        "outputId": "6783d54e-7908-4007-f59e-a8134c820da6"
      },
      "execution_count": null,
      "outputs": [
        {
          "output_type": "stream",
          "name": "stdout",
          "text": [
            "✅ File saved as pandora_openaq_merged.csv\n"
          ]
        }
      ]
    },
    {
      "cell_type": "code",
      "source": [
        "from google.colab import files\n",
        "files.download(output_file)"
      ],
      "metadata": {
        "colab": {
          "base_uri": "https://localhost:8080/",
          "height": 17
        },
        "id": "rx_1aFgKEoRS",
        "outputId": "175d2657-9380-4211-b23e-8316d0d67fd2"
      },
      "execution_count": null,
      "outputs": [
        {
          "output_type": "display_data",
          "data": {
            "text/plain": [
              "<IPython.core.display.Javascript object>"
            ],
            "application/javascript": [
              "\n",
              "    async function download(id, filename, size) {\n",
              "      if (!google.colab.kernel.accessAllowed) {\n",
              "        return;\n",
              "      }\n",
              "      const div = document.createElement('div');\n",
              "      const label = document.createElement('label');\n",
              "      label.textContent = `Downloading \"${filename}\": `;\n",
              "      div.appendChild(label);\n",
              "      const progress = document.createElement('progress');\n",
              "      progress.max = size;\n",
              "      div.appendChild(progress);\n",
              "      document.body.appendChild(div);\n",
              "\n",
              "      const buffers = [];\n",
              "      let downloaded = 0;\n",
              "\n",
              "      const channel = await google.colab.kernel.comms.open(id);\n",
              "      // Send a message to notify the kernel that we're ready.\n",
              "      channel.send({})\n",
              "\n",
              "      for await (const message of channel.messages) {\n",
              "        // Send a message to notify the kernel that we're ready.\n",
              "        channel.send({})\n",
              "        if (message.buffers) {\n",
              "          for (const buffer of message.buffers) {\n",
              "            buffers.push(buffer);\n",
              "            downloaded += buffer.byteLength;\n",
              "            progress.value = downloaded;\n",
              "          }\n",
              "        }\n",
              "      }\n",
              "      const blob = new Blob(buffers, {type: 'application/binary'});\n",
              "      const a = document.createElement('a');\n",
              "      a.href = window.URL.createObjectURL(blob);\n",
              "      a.download = filename;\n",
              "      div.appendChild(a);\n",
              "      a.click();\n",
              "      div.remove();\n",
              "    }\n",
              "  "
            ]
          },
          "metadata": {}
        },
        {
          "output_type": "display_data",
          "data": {
            "text/plain": [
              "<IPython.core.display.Javascript object>"
            ],
            "application/javascript": [
              "download(\"download_b9146f1a-fd27-4489-a68a-5598064667f3\", \"pandora_openaq_merged.csv\", 157)"
            ]
          },
          "metadata": {}
        }
      ]
    },
    {
      "cell_type": "code",
      "source": [],
      "metadata": {
        "id": "Z6YxKPMwEowQ"
      },
      "execution_count": null,
      "outputs": []
    }
  ]
}
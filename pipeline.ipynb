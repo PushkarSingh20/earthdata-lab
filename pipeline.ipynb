{
  "cells": [
    {
      "cell_type": "code",
      "execution_count": 13,
      "metadata": {
        "colab": {
          "base_uri": "https://localhost:8080/"
        },
        "id": "x3Yv7v9CBc6a",
        "outputId": "e71cfa8a-8e2f-4f00-f37c-0d8eb4c7e1df"
      },
      "outputs": [
        {
          "output_type": "stream",
          "name": "stdout",
          "text": [
            "Error: File /content/granule1.nc appears to be truncated or corrupted. Please re-upload the file.\n",
            "Successfully loaded dataset from /content/granule2.nc\n",
            "\n",
            "Granule 1:\n",
            "<xarray.Dataset> Size: 9kB\n",
            "Dimensions:      (xtrack: 2048, mirror_step: 136)\n",
            "Coordinates:\n",
            "  * xtrack       (xtrack) int32 8kB 0 1 2 3 4 5 ... 2043 2044 2045 2046 2047\n",
            "  * mirror_step  (mirror_step) int32 544B 272 273 274 275 ... 404 405 406 407\n",
            "Data variables:\n",
            "    *empty*\n",
            "Attributes: (12/35)\n",
            "    tio_commit:                       482bb1eedf3be832ea377a03017f20b435365760\n",
            "    product_type:                     NO2\n",
            "    processing_level:                 2\n",
            "    processing_version:               2\n",
            "    sdpc_version:                     TEMPO_SDPC_v4.7.0\n",
            "    near_real_time:                   1\n",
            "    ...                               ...\n",
            "    institution:                      Smithsonian Astrophysical Observatory\n",
            "    creator_url:                      http://tempo.si.edu\n",
            "    Conventions:                      CF-1.6, ACDD-1.3\n",
            "    coremetadata:                     \\nGROUP                  = INVENTORYMET...\n",
            "    shortname:                        TEMPO_NO2_L2_NRT\n",
            "    history:                          2025-09-20T00:53:11Z:/tempo/nas0/sdpc_s...\n",
            "\n",
            "Combined Dataset Info:\n",
            "<xarray.Dataset> Size: 9kB\n",
            "Dimensions:      (xtrack: 2048, mirror_step: 136)\n",
            "Coordinates:\n",
            "  * xtrack       (xtrack) int32 8kB 0 1 2 3 4 5 ... 2043 2044 2045 2046 2047\n",
            "  * mirror_step  (mirror_step) int32 544B 272 273 274 275 ... 404 405 406 407\n",
            "Data variables:\n",
            "    *empty*\n",
            "Attributes: (12/35)\n",
            "    tio_commit:                       482bb1eedf3be832ea377a03017f20b435365760\n",
            "    product_type:                     NO2\n",
            "    processing_level:                 2\n",
            "    processing_version:               2\n",
            "    sdpc_version:                     TEMPO_SDPC_v4.7.0\n",
            "    near_real_time:                   1\n",
            "    ...                               ...\n",
            "    institution:                      Smithsonian Astrophysical Observatory\n",
            "    creator_url:                      http://tempo.si.edu\n",
            "    Conventions:                      CF-1.6, ACDD-1.3\n",
            "    coremetadata:                     \\nGROUP                  = INVENTORYMET...\n",
            "    shortname:                        TEMPO_NO2_L2_NRT\n",
            "    history:                          2025-09-20T00:53:11Z:/tempo/nas0/sdpc_s...\n"
          ]
        }
      ],
      "source": [
        "import xarray as xr\n",
        "import os\n",
        "\n",
        "granule_urls = [\n",
        "    \"/content/granule1.nc\",\n",
        "    \"/content/granule2.nc\"\n",
        "]\n",
        "\n",
        "# Load datasets with error handling for truncated files\n",
        "datasets = []\n",
        "for url in granule_urls:\n",
        "    try:\n",
        "        ds = xr.open_dataset(url)\n",
        "        datasets.append(ds)\n",
        "        print(f\"Successfully loaded dataset from {url}\")\n",
        "    except OSError as e:\n",
        "        if \"truncated file\" in str(e):\n",
        "            print(f\"Error: File {url} appears to be truncated or corrupted. Please re-upload the file.\")\n",
        "        else:\n",
        "            print(f\"An unexpected error occurred while opening {url}: {e}\")\n",
        "    except Exception as e:\n",
        "        print(f\"An unexpected error occurred while opening {url}: {e}\")\n",
        "\n",
        "\n",
        "# Optional: print info\n",
        "for i, ds in enumerate(datasets, start=1):\n",
        "    print(f\"\\nGranule {i}:\")\n",
        "    print(ds)\n",
        "\n",
        "# Combine along time (or new dimension if time doesn't exist)\n",
        "if datasets: # Only attempt to concatenate if there are datasets\n",
        "    try:\n",
        "        combined_ds = xr.concat(datasets, dim=\"time\")\n",
        "        print(\"\\nCombined Dataset Info:\")\n",
        "        print(combined_ds)\n",
        "    except Exception as e:\n",
        "        print(f\"An error occurred during dataset concatenation: {e}\")\n",
        "else:\n",
        "    print(\"\\nNo datasets were successfully loaded to combine.\")"
      ]
    },
    {
      "cell_type": "code",
      "metadata": {
        "colab": {
          "base_uri": "https://localhost:8080/"
        },
        "id": "22e9a9d8",
        "outputId": "c11cb1b2-c1ee-4410-bfae-21e11e5f6f94"
      },
      "source": [
        "import xarray as xr\n",
        "import os\n",
        "\n",
        "granule_urls = [\n",
        "    \"/content/granule1.nc\",\n",
        "    \"/content/granule2.nc\"\n",
        "]\n",
        "\n",
        "# Load datasets with error handling for truncated files\n",
        "datasets = []\n",
        "for url in granule_urls:\n",
        "    try:\n",
        "        ds = xr.open_dataset(url)\n",
        "        datasets.append(ds)\n",
        "        print(f\"Successfully loaded dataset from {url}\")\n",
        "    except OSError as e:\n",
        "        if \"truncated file\" in str(e):\n",
        "            print(f\"Error: File {url} appears to be truncated or corrupted. Please re-upload the file.\")\n",
        "        else:\n",
        "            print(f\"An unexpected error occurred while opening {url}: {e}\")\n",
        "    except Exception as e:\n",
        "        print(f\"An unexpected error occurred while opening {url}: {e}\")\n",
        "\n",
        "\n",
        "# Optional: print info\n",
        "for i, ds in enumerate(datasets, start=1):\n",
        "    print(f\"\\nGranule {i}:\")\n",
        "    print(ds)\n",
        "\n",
        "# Combine along time (or new dimension if time doesn't exist)\n",
        "if datasets: # Only attempt to concatenate if there are datasets\n",
        "    try:\n",
        "        combined_ds = xr.concat(datasets, dim=\"time\")\n",
        "        print(\"\\nCombined Dataset Info:\")\n",
        "        print(combined_ds)\n",
        "    except Exception as e:\n",
        "        print(f\"An error occurred during dataset concatenation: {e}\")\n",
        "else:\n",
        "    print(\"\\nNo datasets were successfully loaded to combine.\")"
      ],
      "execution_count": 14,
      "outputs": [
        {
          "output_type": "stream",
          "name": "stdout",
          "text": [
            "Error: File /content/granule1.nc appears to be truncated or corrupted. Please re-upload the file.\n",
            "Successfully loaded dataset from /content/granule2.nc\n",
            "\n",
            "Granule 1:\n",
            "<xarray.Dataset> Size: 9kB\n",
            "Dimensions:      (xtrack: 2048, mirror_step: 136)\n",
            "Coordinates:\n",
            "  * xtrack       (xtrack) int32 8kB 0 1 2 3 4 5 ... 2043 2044 2045 2046 2047\n",
            "  * mirror_step  (mirror_step) int32 544B 272 273 274 275 ... 404 405 406 407\n",
            "Data variables:\n",
            "    *empty*\n",
            "Attributes: (12/35)\n",
            "    tio_commit:                       482bb1eedf3be832ea377a03017f20b435365760\n",
            "    product_type:                     NO2\n",
            "    processing_level:                 2\n",
            "    processing_version:               2\n",
            "    sdpc_version:                     TEMPO_SDPC_v4.7.0\n",
            "    near_real_time:                   1\n",
            "    ...                               ...\n",
            "    institution:                      Smithsonian Astrophysical Observatory\n",
            "    creator_url:                      http://tempo.si.edu\n",
            "    Conventions:                      CF-1.6, ACDD-1.3\n",
            "    coremetadata:                     \\nGROUP                  = INVENTORYMET...\n",
            "    shortname:                        TEMPO_NO2_L2_NRT\n",
            "    history:                          2025-09-20T00:53:11Z:/tempo/nas0/sdpc_s...\n",
            "\n",
            "Combined Dataset Info:\n",
            "<xarray.Dataset> Size: 9kB\n",
            "Dimensions:      (xtrack: 2048, mirror_step: 136)\n",
            "Coordinates:\n",
            "  * xtrack       (xtrack) int32 8kB 0 1 2 3 4 5 ... 2043 2044 2045 2046 2047\n",
            "  * mirror_step  (mirror_step) int32 544B 272 273 274 275 ... 404 405 406 407\n",
            "Data variables:\n",
            "    *empty*\n",
            "Attributes: (12/35)\n",
            "    tio_commit:                       482bb1eedf3be832ea377a03017f20b435365760\n",
            "    product_type:                     NO2\n",
            "    processing_level:                 2\n",
            "    processing_version:               2\n",
            "    sdpc_version:                     TEMPO_SDPC_v4.7.0\n",
            "    near_real_time:                   1\n",
            "    ...                               ...\n",
            "    institution:                      Smithsonian Astrophysical Observatory\n",
            "    creator_url:                      http://tempo.si.edu\n",
            "    Conventions:                      CF-1.6, ACDD-1.3\n",
            "    coremetadata:                     \\nGROUP                  = INVENTORYMET...\n",
            "    shortname:                        TEMPO_NO2_L2_NRT\n",
            "    history:                          2025-09-20T00:53:11Z:/tempo/nas0/sdpc_s...\n"
          ]
        }
      ]
    },
    {
      "cell_type": "code",
      "execution_count": 11,
      "metadata": {
        "id": "7_P1WoLoJHRU",
        "colab": {
          "base_uri": "https://localhost:8080/"
        },
        "outputId": "4e79fd9d-5a10-4126-8a48-4a01055d30c7"
      },
      "outputs": [
        {
          "output_type": "stream",
          "name": "stdout",
          "text": [
            "granule1.nc  granule2.nc  sample_data\n"
          ]
        }
      ],
      "source": [
        "!ls /content/\n"
      ]
    },
    {
      "cell_type": "code",
      "source": [
        "import pandas as pd\n",
        "\n",
        "# Convert xarray Dataset to pandas DataFrame\n",
        "df = combined_ds.to_dataframe().reset_index()\n",
        "\n",
        "# Quick look at the data\n",
        "print(df.head())\n",
        "print(df.columns)\n",
        "print(df.info())\n",
        "print(df.describe())\n"
      ],
      "metadata": {
        "colab": {
          "base_uri": "https://localhost:8080/"
        },
        "id": "uir1Vy37Z92A",
        "outputId": "8cd442a6-2baa-45a4-f210-1c6a36cbe932"
      },
      "execution_count": 15,
      "outputs": [
        {
          "output_type": "stream",
          "name": "stdout",
          "text": [
            "   xtrack  mirror_step\n",
            "0       0          272\n",
            "1       0          273\n",
            "2       0          274\n",
            "3       0          275\n",
            "4       0          276\n",
            "Index(['xtrack', 'mirror_step'], dtype='object')\n",
            "<class 'pandas.core.frame.DataFrame'>\n",
            "RangeIndex: 278528 entries, 0 to 278527\n",
            "Data columns (total 2 columns):\n",
            " #   Column       Non-Null Count   Dtype\n",
            "---  ------       --------------   -----\n",
            " 0   xtrack       278528 non-null  int64\n",
            " 1   mirror_step  278528 non-null  int64\n",
            "dtypes: int64(2)\n",
            "memory usage: 4.3 MB\n",
            "None\n",
            "              xtrack    mirror_step\n",
            "count  278528.000000  278528.000000\n",
            "mean     1023.500000     339.500000\n",
            "std       591.207666      39.258827\n",
            "min         0.000000     272.000000\n",
            "25%       511.750000     305.750000\n",
            "50%      1023.500000     339.500000\n",
            "75%      1535.250000     373.250000\n",
            "max      2047.000000     407.000000\n"
          ]
        }
      ]
    },
    {
      "cell_type": "code",
      "source": [
        "if 'retrieval_quality_flag' in df.columns:\n",
        "    df_clean = df[df['retrieval_quality_flag'] == 0].copy()\n",
        "else:\n",
        "    df_clean = df.copy()\n",
        "\n",
        "print(f\"Rows before filtering: {len(df)}\")\n",
        "print(f\"Rows after filtering: {len(df_clean)}\")\n"
      ],
      "metadata": {
        "colab": {
          "base_uri": "https://localhost:8080/"
        },
        "id": "Gj-lnmaWflie",
        "outputId": "8f51a807-1a42-4c42-bbc4-bd0a2fd1e1dc"
      },
      "execution_count": 16,
      "outputs": [
        {
          "output_type": "stream",
          "name": "stdout",
          "text": [
            "Rows before filtering: 278528\n",
            "Rows after filtering: 278528\n"
          ]
        }
      ]
    },
    {
      "cell_type": "code",
      "source": [
        "# Check for missing values\n",
        "print(df_clean.isna().sum())\n",
        "\n",
        "# Drop rows where NO2 or key variables are missing\n",
        "if 'vertical_column_troposphere' in df_clean.columns:\n",
        "    df_clean = df_clean.dropna(subset=['vertical_column_troposphere'])\n"
      ],
      "metadata": {
        "colab": {
          "base_uri": "https://localhost:8080/"
        },
        "id": "9GKMKNqffnJS",
        "outputId": "8d46b1fe-92f6-476b-bafb-20512886ff7d"
      },
      "execution_count": 17,
      "outputs": [
        {
          "output_type": "stream",
          "name": "stdout",
          "text": [
            "xtrack         0\n",
            "mirror_step    0\n",
            "dtype: int64\n"
          ]
        }
      ]
    },
    {
      "cell_type": "code",
      "source": [
        "# Check coordinate ranges\n",
        "print(df_clean['xtrack'].min(), df_clean['xtrack'].max())\n",
        "print(df_clean['mirror_step'].min(), df_clean['mirror_step'].max())\n",
        "\n",
        "# Optional: explore temporal coverage if 'time' exists\n",
        "if 'time' in df_clean.columns:\n",
        "    print(df_clean['time'].min(), df_clean['time'].max())\n"
      ],
      "metadata": {
        "colab": {
          "base_uri": "https://localhost:8080/"
        },
        "id": "sjg2Y-M6frdp",
        "outputId": "1d951a84-db2e-4683-ebbd-9fb59ec32369"
      },
      "execution_count": 18,
      "outputs": [
        {
          "output_type": "stream",
          "name": "stdout",
          "text": [
            "0 2047\n",
            "272 407\n"
          ]
        }
      ]
    },
    {
      "cell_type": "code",
      "source": [
        "# Summary stats of NO2\n",
        "if 'vertical_column_troposphere' in df_clean.columns:\n",
        "    print(df_clean['vertical_column_troposphere'].describe())\n"
      ],
      "metadata": {
        "id": "fh0g4_SgfyUE"
      },
      "execution_count": 19,
      "outputs": []
    },
    {
      "cell_type": "code",
      "source": [
        "if 'cloud_fraction' in df_clean.columns:\n",
        "    df_clean = df_clean[df_clean['cloud_fraction'] < 0.3]  # keep mostly clear data\n"
      ],
      "metadata": {
        "id": "dpTVwF8Lf12l"
      },
      "execution_count": 20,
      "outputs": []
    },
    {
      "cell_type": "code",
      "source": [
        "df_clean.to_csv(\"TEMPO_NO2_L2_NRT_cleaned.csv\", index=False)\n",
        "print(\"Cleaned data saved as TEMPO_NO2_L2_NRT_cleaned.csv\")\n"
      ],
      "metadata": {
        "colab": {
          "base_uri": "https://localhost:8080/"
        },
        "id": "RNsZHkH9gD5l",
        "outputId": "55edd35a-9132-4aad-834c-13c387336ff6"
      },
      "execution_count": 21,
      "outputs": [
        {
          "output_type": "stream",
          "name": "stdout",
          "text": [
            "Cleaned data saved as TEMPO_NO2_L2_NRT_cleaned.csv\n"
          ]
        }
      ]
    },
    {
      "cell_type": "code",
      "source": [
        "%matplotlib inline\n"
      ],
      "metadata": {
        "id": "fViULfj_gp57"
      },
      "execution_count": 23,
      "outputs": []
    },
    {
      "cell_type": "code",
      "source": [
        "%matplotlib inline\n",
        "import matplotlib.pyplot as plt\n",
        "\n",
        "# Histogram of NO2\n",
        "if 'vertical_column_troposphere' in df_clean.columns:\n",
        "    plt.hist(df_clean['vertical_column_troposphere'], bins=50)\n",
        "    plt.xlabel(\"Tropospheric NO2 (molecules/cm²)\")\n",
        "    plt.ylabel(\"Frequency\")\n",
        "    plt.title(\"NO2 Distribution (Cleaned Data)\")\n",
        "    plt.show()\n"
      ],
      "metadata": {
        "id": "M9ySciYHgNQI"
      },
      "execution_count": 24,
      "outputs": []
    },
    {
      "cell_type": "code",
      "source": [
        "plt.figure(figsize=(10,6))\n"
      ],
      "metadata": {
        "colab": {
          "base_uri": "https://localhost:8080/",
          "height": 52
        },
        "id": "M34mI_MVgutS",
        "outputId": "dfa82519-8807-4818-fd33-99e6c42da9ad"
      },
      "execution_count": 25,
      "outputs": [
        {
          "output_type": "execute_result",
          "data": {
            "text/plain": [
              "<Figure size 1000x600 with 0 Axes>"
            ]
          },
          "metadata": {},
          "execution_count": 25
        },
        {
          "output_type": "display_data",
          "data": {
            "text/plain": [
              "<Figure size 1000x600 with 0 Axes>"
            ]
          },
          "metadata": {}
        }
      ]
    },
    {
      "cell_type": "code",
      "metadata": {
        "colab": {
          "base_uri": "https://localhost:8080/",
          "height": 564
        },
        "id": "2a50c36c",
        "outputId": "8465b6a1-c8c6-4175-f208-ac7c75c28157"
      },
      "source": [
        "import matplotlib.pyplot as plt\n",
        "%matplotlib inline\n",
        "\n",
        "plt.figure(figsize=(10, 6))\n",
        "plt.scatter(df_clean['xtrack'], df_clean['mirror_step'], s=1) # Use s=1 for smaller points\n",
        "plt.xlabel(\"Xtrack\")\n",
        "plt.ylabel(\"Mirror Step\")\n",
        "plt.title(\"Scatter Plot of Xtrack vs Mirror Step\")\n",
        "plt.grid(True)\n",
        "plt.show()"
      ],
      "execution_count": 26,
      "outputs": [
        {
          "output_type": "display_data",
          "data": {
            "text/plain": [
              "<Figure size 1000x600 with 1 Axes>"
            ],
            "image/png": "[encoded data removed]"
          },
          "metadata": {}
        }
      ]
    },
    {
      "cell_type": "code",
      "source": [
        "print(df_clean.columns)\n"
      ],
      "metadata": {
        "colab": {
          "base_uri": "https://localhost:8080/"
        },
        "id": "WWR-s2S7hbZ8",
        "outputId": "6f70e93d-0b82-4ff9-d4e3-0d7b5640f6da"
      },
      "execution_count": 28,
      "outputs": [
        {
          "output_type": "stream",
          "name": "stdout",
          "text": [
            "Index(['xtrack', 'mirror_step'], dtype='object')\n"
          ]
        }
      ]
    },
    {
      "cell_type": "code",
      "source": [
        "# Save dataframe as CSV in Colab folder\n",
        "df.to_csv(\"tempo_no2_data.csv\", index=False)\n",
        "\n",
        "# Download the file\n",
        "from google.colab import files\n",
        "files.download(\"tempo_no2_data.csv\")\n"
      ],
      "metadata": {
        "colab": {
          "base_uri": "https://localhost:8080/",
          "height": 17
        },
        "id": "Ze8-04XfmDL7",
        "outputId": "b69cba92-cd9f-49b9-ee35-164c8403a29e"
      },
      "execution_count": 31,
      "outputs": [
        {
          "output_type": "display_data",
          "data": {
            "text/plain": [
              "<IPython.core.display.Javascript object>"
            ],
            "application/javascript": [
              "\n",
              "    async function download(id, filename, size) {\n",
              "      if (!google.colab.kernel.accessAllowed) {\n",
              "        return;\n",
              "      }\n",
              "      const div = document.createElement('div');\n",
              "      const label = document.createElement('label');\n",
              "      label.textContent = `Downloading \"${filename}\": `;\n",
              "      div.appendChild(label);\n",
              "      const progress = document.createElement('progress');\n",
              "      progress.max = size;\n",
              "      div.appendChild(progress);\n",
              "      document.body.appendChild(div);\n",
              "\n",
              "      const buffers = [];\n",
              "      let downloaded = 0;\n",
              "\n",
              "      const channel = await google.colab.kernel.comms.open(id);\n",
              "      // Send a message to notify the kernel that we're ready.\n",
              "      channel.send({})\n",
              "\n",
              "      for await (const message of channel.messages) {\n",
              "        // Send a message to notify the kernel that we're ready.\n",
              "        channel.send({})\n",
              "        if (message.buffers) {\n",
              "          for (const buffer of message.buffers) {\n",
              "            buffers.push(buffer);\n",
              "            downloaded += buffer.byteLength;\n",
              "            progress.value = downloaded;\n",
              "          }\n",
              "        }\n",
              "      }\n",
              "      const blob = new Blob(buffers, {type: 'application/binary'});\n",
              "      const a = document.createElement('a');\n",
              "      a.href = window.URL.createObjectURL(blob);\n",
              "      a.download = filename;\n",
              "      div.appendChild(a);\n",
              "      a.click();\n",
              "      div.remove();\n",
              "    }\n",
              "  "
            ]
          },
          "metadata": {}
        },
        {
          "output_type": "display_data",
          "data": {
            "text/plain": [
              "<IPython.core.display.Javascript object>"
            ],
            "application/javascript": [
              "download(\"download_c1f9e3d1-4707-4dd1-8bfb-bb23c35e56c8\", \"tempo_no2_data.csv\", 2355811)"
            ]
          },
          "metadata": {}
        }
      ]
    }
  ],
  "metadata": {
    "colab": {
      "provenance": []
    },
    "kernelspec": {
      "display_name": "Python 3",
      "name": "python3"
    },
    "language_info": {
      "name": "python"
    }
  },
  "nbformat": 4,
  "nbformat_minor": 0
}
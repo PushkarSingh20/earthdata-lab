{
  "cells": [
    {
      "cell_type": "code",
      "execution_count": null,
      "metadata": {
        "colab": {
          "background_save": true,
          "base_uri": "https://localhost:8080/",
          "height": 38
        },
        "id": "G2ffi3bk0ljD",
        "outputId": "f0096a07-2219-49ab-a8ad-65808ae9343a"
      },
      "outputs": [
        {
          "data": {
            "text/html": [
              "\n",
              "     <input type=\"file\" id=\"files-26e37786-d6b7-41d7-b769-1ad5158abcba\" name=\"files[]\" multiple disabled\n",
              "        style=\"border:none\" />\n",
              "     <output id=\"result-26e37786-d6b7-41d7-b769-1ad5158abcba\">\n",
              "      Upload widget is only available when the cell has been executed in the\n",
              "      current browser session. Please rerun this cell to enable.\n",
              "      </output>\n",
              "      <script>// Copyright 2017 Google LLC\n",
              "//\n",
              "// Licensed under the Apache License, Version 2.0 (the \"License\");\n",
              "// you may not use this file except in compliance with the License.\n",
              "// You may obtain a copy of the License at\n",
              "//\n",
              "//      http://www.apache.org/licenses/LICENSE-2.0\n",
              "//\n",
              "// Unless required by applicable law or agreed to in writing, software\n",
              "// distributed under the License is distributed on an \"AS IS\" BASIS,\n",
              "// WITHOUT WARRANTIES OR CONDITIONS OF ANY KIND, either express or implied.\n",
              "// See the License for the specific language governing permissions and\n",
              "// limitations under the License.\n",
              "\n",
              "/**\n",
              " * @fileoverview Helpers for google.colab Python module.\n",
              " */\n",
              "(function(scope) {\n",
              "function span(text, styleAttributes = {}) {\n",
              "  const element = document.createElement('span');\n",
              "  element.textContent = text;\n",
              "  for (const key of Object.keys(styleAttributes)) {\n",
              "    element.style[key] = styleAttributes[key];\n",
              "  }\n",
              "  return element;\n",
              "}\n",
              "\n",
              "// Max number of bytes which will be uploaded at a time.\n",
              "const MAX_PAYLOAD_SIZE = 100 * 1024;\n",
              "\n",
              "function _uploadFiles(inputId, outputId) {\n",
              "  const steps = uploadFilesStep(inputId, outputId);\n",
              "  const outputElement = document.getElementById(outputId);\n",
              "  // Cache steps on the outputElement to make it available for the next call\n",
              "  // to uploadFilesContinue from Python.\n",
              "  outputElement.steps = steps;\n",
              "\n",
              "  return _uploadFilesContinue(outputId);\n",
              "}\n",
              "\n",
              "// This is roughly an async generator (not supported in the browser yet),\n",
              "// where there are multiple asynchronous steps and the Python side is going\n",
              "// to poll for completion of each step.\n",
              "// This uses a Promise to block the python side on completion of each step,\n",
              "// then passes the result of the previous step as the input to the next step.\n",
              "function _uploadFilesContinue(outputId) {\n",
              "  const outputElement = document.getElementById(outputId);\n",
              "  const steps = outputElement.steps;\n",
              "\n",
              "  const next = steps.next(outputElement.lastPromiseValue);\n",
              "  return Promise.resolve(next.value.promise).then((value) => {\n",
              "    // Cache the last promise value to make it available to the next\n",
              "    // step of the generator.\n",
              "    outputElement.lastPromiseValue = value;\n",
              "    return next.value.response;\n",
              "  });\n",
              "}\n",
              "\n",
              "/**\n",
              " * Generator function which is called between each async step of the upload\n",
              " * process.\n",
              " * @param {string} inputId Element ID of the input file picker element.\n",
              " * @param {string} outputId Element ID of the output display.\n",
              " * @return {!Iterable<!Object>} Iterable of next steps.\n",
              " */\n",
              "function* uploadFilesStep(inputId, outputId) {\n",
              "  const inputElement = document.getElementById(inputId);\n",
              "  inputElement.disabled = false;\n",
              "\n",
              "  const outputElement = document.getElementById(outputId);\n",
              "  outputElement.innerHTML = '';\n",
              "\n",
              "  const pickedPromise = new Promise((resolve) => {\n",
              "    inputElement.addEventListener('change', (e) => {\n",
              "      resolve(e.target.files);\n",
              "    });\n",
              "  });\n",
              "\n",
              "  const cancel = document.createElement('button');\n",
              "  inputElement.parentElement.appendChild(cancel);\n",
              "  cancel.textContent = 'Cancel upload';\n",
              "  const cancelPromise = new Promise((resolve) => {\n",
              "    cancel.onclick = () => {\n",
              "      resolve(null);\n",
              "    };\n",
              "  });\n",
              "\n",
              "  // Wait for the user to pick the files.\n",
              "  const files = yield {\n",
              "    promise: Promise.race([pickedPromise, cancelPromise]),\n",
              "    response: {\n",
              "      action: 'starting',\n",
              "    }\n",
              "  };\n",
              "\n",
              "  cancel.remove();\n",
              "\n",
              "  // Disable the input element since further picks are not allowed.\n",
              "  inputElement.disabled = true;\n",
              "\n",
              "  if (!files) {\n",
              "    return {\n",
              "      response: {\n",
              "        action: 'complete',\n",
              "      }\n",
              "    };\n",
              "  }\n",
              "\n",
              "  for (const file of files) {\n",
              "    const li = document.createElement('li');\n",
              "    li.append(span(file.name, {fontWeight: 'bold'}));\n",
              "    li.append(span(\n",
              "        `(${file.type || 'n/a'}) - ${file.size} bytes, ` +\n",
              "        `last modified: ${\n",
              "            file.lastModifiedDate ? file.lastModifiedDate.toLocaleDateString() :\n",
              "                                    'n/a'} - `));\n",
              "    const percent = span('0% done');\n",
              "    li.appendChild(percent);\n",
              "\n",
              "    outputElement.appendChild(li);\n",
              "\n",
              "    const fileDataPromise = new Promise((resolve) => {\n",
              "      const reader = new FileReader();\n",
              "      reader.onload = (e) => {\n",
              "        resolve(e.target.result);\n",
              "      };\n",
              "      reader.readAsArrayBuffer(file);\n",
              "    });\n",
              "    // Wait for the data to be ready.\n",
              "    let fileData = yield {\n",
              "      promise: fileDataPromise,\n",
              "      response: {\n",
              "        action: 'continue',\n",
              "      }\n",
              "    };\n",
              "\n",
              "    // Use a chunked sending to avoid message size limits. See b/62115660.\n",
              "    let position = 0;\n",
              "    do {\n",
              "      const length = Math.min(fileData.byteLength - position, MAX_PAYLOAD_SIZE);\n",
              "      const chunk = new Uint8Array(fileData, position, length);\n",
              "      position += length;\n",
              "\n",
              "      const base64 = btoa(String.fromCharCode.apply(null, chunk));\n",
              "      yield {\n",
              "        response: {\n",
              "          action: 'append',\n",
              "          file: file.name,\n",
              "          data: base64,\n",
              "        },\n",
              "      };\n",
              "\n",
              "      let percentDone = fileData.byteLength === 0 ?\n",
              "          100 :\n",
              "          Math.round((position / fileData.byteLength) * 100);\n",
              "      percent.textContent = `${percentDone}% done`;\n",
              "\n",
              "    } while (position < fileData.byteLength);\n",
              "  }\n",
              "\n",
              "  // All done.\n",
              "  yield {\n",
              "    response: {\n",
              "      action: 'complete',\n",
              "    }\n",
              "  };\n",
              "}\n",
              "\n",
              "scope.google = scope.google || {};\n",
              "scope.google.colab = scope.google.colab || {};\n",
              "scope.google.colab._files = {\n",
              "  _uploadFiles,\n",
              "  _uploadFilesContinue,\n",
              "};\n",
              "})(self);\n",
              "</script> "
            ],
            "text/plain": [
              "<IPython.core.display.HTML object>"
            ]
          },
          "metadata": {},
          "output_type": "display_data"
        },
        {
          "ename": "TypeError",
          "evalue": "'NoneType' object is not subscriptable",
          "output_type": "error",
          "traceback": [
            "\u001b[0;31m---------------------------------------------------------------------------\u001b[0m",
            "\u001b[0;31mTypeError\u001b[0m                                 Traceback (most recent call last)",
            "\u001b[0;32m/tmp/ipython-input-4285860012.py\u001b[0m in \u001b[0;36m<cell line: 0>\u001b[0;34m()\u001b[0m\n\u001b[1;32m      2\u001b[0m \u001b[0;34m\u001b[0m\u001b[0m\n\u001b[1;32m      3\u001b[0m \u001b[0;31m# This will open a file chooser to upload your downloaded file\u001b[0m\u001b[0;34m\u001b[0m\u001b[0;34m\u001b[0m\u001b[0m\n\u001b[0;32m----> 4\u001b[0;31m \u001b[0muploaded\u001b[0m \u001b[0;34m=\u001b[0m \u001b[0mfiles\u001b[0m\u001b[0;34m.\u001b[0m\u001b[0mupload\u001b[0m\u001b[0;34m(\u001b[0m\u001b[0;34m)\u001b[0m\u001b[0;34m\u001b[0m\u001b[0;34m\u001b[0m\u001b[0m\n\u001b[0m",
            "\u001b[0;32m/usr/local/lib/python3.12/dist-packages/google/colab/files.py\u001b[0m in \u001b[0;36mupload\u001b[0;34m(target_dir)\u001b[0m\n\u001b[1;32m     70\u001b[0m   \"\"\"\n\u001b[1;32m     71\u001b[0m \u001b[0;34m\u001b[0m\u001b[0m\n\u001b[0;32m---> 72\u001b[0;31m   \u001b[0muploaded_files\u001b[0m \u001b[0;34m=\u001b[0m \u001b[0m_upload_files\u001b[0m\u001b[0;34m(\u001b[0m\u001b[0mmultiple\u001b[0m\u001b[0;34m=\u001b[0m\u001b[0;32mTrue\u001b[0m\u001b[0;34m)\u001b[0m\u001b[0;34m\u001b[0m\u001b[0;34m\u001b[0m\u001b[0m\n\u001b[0m\u001b[1;32m     73\u001b[0m   \u001b[0;31m# Mapping from original filename to filename as saved locally.\u001b[0m\u001b[0;34m\u001b[0m\u001b[0;34m\u001b[0m\u001b[0m\n\u001b[1;32m     74\u001b[0m   \u001b[0mlocal_filenames\u001b[0m \u001b[0;34m=\u001b[0m \u001b[0mdict\u001b[0m\u001b[0;34m(\u001b[0m\u001b[0;34m)\u001b[0m\u001b[0;34m\u001b[0m\u001b[0;34m\u001b[0m\u001b[0m\n",
            "\u001b[0;32m/usr/local/lib/python3.12/dist-packages/google/colab/files.py\u001b[0m in \u001b[0;36m_upload_files\u001b[0;34m(multiple)\u001b[0m\n\u001b[1;32m    169\u001b[0m   \u001b[0mfiles\u001b[0m \u001b[0;34m=\u001b[0m \u001b[0m_collections\u001b[0m\u001b[0;34m.\u001b[0m\u001b[0mdefaultdict\u001b[0m\u001b[0;34m(\u001b[0m\u001b[0mbytes\u001b[0m\u001b[0;34m)\u001b[0m\u001b[0;34m\u001b[0m\u001b[0;34m\u001b[0m\u001b[0m\n\u001b[1;32m    170\u001b[0m \u001b[0;34m\u001b[0m\u001b[0m\n\u001b[0;32m--> 171\u001b[0;31m   \u001b[0;32mwhile\u001b[0m \u001b[0mresult\u001b[0m\u001b[0;34m[\u001b[0m\u001b[0;34m'action'\u001b[0m\u001b[0;34m]\u001b[0m \u001b[0;34m!=\u001b[0m \u001b[0;34m'complete'\u001b[0m\u001b[0;34m:\u001b[0m\u001b[0;34m\u001b[0m\u001b[0;34m\u001b[0m\u001b[0m\n\u001b[0m\u001b[1;32m    172\u001b[0m     result = _output.eval_js(\n\u001b[1;32m    173\u001b[0m         'google.colab._files._uploadFilesContinue(\"{output_id}\")'.format(\n",
            "\u001b[0;31mTypeError\u001b[0m: 'NoneType' object is not subscriptable"
          ]
        }
      ],
      "source": [
        "from google.colab import files\n",
        "\n",
        "# This will open a file chooser to upload your downloaded file\n",
        "uploaded = files.upload()\n"
      ]
    },
    {
      "cell_type": "code",
      "execution_count": null,
      "metadata": {
        "colab": {
          "background_save": true
        },
        "id": "a_p_kkYU0oo2"
      },
      "outputs": [],
      "source": [
        "\n",
        "!ls /content/"
      ]
    },
    {
      "cell_type": "code",
      "execution_count": null,
      "metadata": {
        "colab": {
          "background_save": true
        },
        "id": "Eq2N5QeU12dn"
      },
      "outputs": [],
      "source": [
        "import pandas as pd\n",
        "import requests\n",
        "import re\n",
        "\n",
        "def read_pandora_L2_from_url(url):\n",
        "    resp = requests.get(url)\n",
        "    resp.raise_for_status()\n",
        "    lines = resp.text.splitlines()\n",
        "\n",
        "    # --- Step 1: Extract column names ---\n",
        "    col_names = []\n",
        "    for line in lines:\n",
        "        if line.startswith(\"Column\"):\n",
        "            m = re.match(r\"Column\\s+\\d+:\\s+(.*)\", line.strip())\n",
        "            if m:\n",
        "                name = m.group(1)\n",
        "                name = re.sub(r\"\\[.*?\\]\", \"\", name)   # remove [units]\n",
        "                name = re.sub(r\"[^0-9a-zA-Z_ ]+\", \"\", name)  # clean\n",
        "                name = \"_\".join(name.lower().split())\n",
        "                col_names.append(name)\n",
        "\n",
        "    # --- Step 2: Find where numeric data starts ---\n",
        "    data_start = None\n",
        "    dash_count = 0\n",
        "    for i, line in enumerate(lines):\n",
        "        if re.match(r\"^-{5,}\", line):\n",
        "            dash_count += 1\n",
        "            if dash_count == 2:  # the second dashed line\n",
        "                data_start = i + 1\n",
        "                break\n",
        "    if data_start is None:\n",
        "        raise ValueError(\"Could not find data start\")\n",
        "\n",
        "    # --- Step 3: Collect only numeric lines ---\n",
        "    data_lines = [l.strip() for l in lines[data_start:] if l.strip() and not l.startswith(\"Column\")]\n",
        "\n",
        "    # --- Step 4: Build dataframe ---\n",
        "    df = pd.DataFrame([re.split(r\"\\s+\", l) for l in data_lines])\n",
        "\n",
        "    # --- Step 5: Assign names if count matches ---\n",
        "    if len(col_names) == df.shape[1]:\n",
        "        df.columns = col_names\n",
        "    else:\n",
        "        print(f\"⚠️ Mismatch: {len(col_names)} names vs {df.shape[1]} columns in data\")\n",
        "        df.columns = [f\"col_{i+1}\" for i in range(df.shape[1])]\n",
        "\n",
        "    # --- Step 6: Try parsing first column as datetime ---\n",
        "    first_col = df.columns[0]\n",
        "    df[first_col] = pd.to_datetime(df[first_col], errors=\"coerce\")\n",
        "\n",
        "    return df\n",
        "\n",
        "\n",
        "# ✅ Usage\n",
        "url = \"https://data.hetzner.pandonia-global-network.org/WashingtonDC/Pandora140s1/L2/Pandora140s1_WashingtonDC_L2_rnvs3p1-8.txt\"\n",
        "df = read_pandora_L2_from_url(url)\n",
        "print(df.shape)\n",
        "print(df.head())\n"
      ]
    },
    {
      "cell_type": "code",
      "execution_count": null,
      "metadata": {
        "colab": {
          "background_save": true
        },
        "id": "MzR61nS9_0qb"
      },
      "outputs": [],
      "source": [
        "import pandas as pd\n",
        "import re\n",
        "\n",
        "def read_pandora_L2(file_path):\n",
        "    \"\"\"\n",
        "    Robust reader for Pandora L2 .txt files.\n",
        "    - Extracts column names from 'Column N: ...' lines\n",
        "    - Skips metadata/header before the dashed line\n",
        "    - Reads the table into a DataFrame with proper dtypes\n",
        "    \"\"\"\n",
        "\n",
        "    # Step 1: Read file\n",
        "    with open(file_path, \"r\", encoding=\"latin1\") as f:\n",
        "        lines = f.readlines()\n",
        "\n",
        "    # Step 2: Extract column definitions\n",
        "    col_names = []\n",
        "    for line in lines:\n",
        "        if line.startswith(\"Column\"):\n",
        "            # Example: \"Column 1: UT date and time ...\"\n",
        "            match = re.match(r\"Column\\s+\\d+:\\s+(.*)\", line.strip())\n",
        "            if match:\n",
        "                col_name = match.group(1)\n",
        "                # Simplify the column name (remove units/special chars)\n",
        "                col_name = re.sub(r\"\\[.*?\\]\", \"\", col_name)   # remove [units]\n",
        "                col_name = re.sub(r\"[^0-9a-zA-Z_ ]+\", \"\", col_name) # keep clean\n",
        "                col_name = \"_\".join(col_name.lower().split())\n",
        "                col_names.append(col_name)\n",
        "\n",
        "    # Step 3: Find where the actual data starts (after dashed line)\n",
        "    data_start_idx = None\n",
        "    for i, line in enumerate(lines):\n",
        "        if re.match(r\"^-{5,}\", line):  # line of dashes\n",
        "            data_start_idx = i + 1\n",
        "            break\n",
        "\n",
        "    if data_start_idx is None:\n",
        "        raise ValueError(\"Could not find start of data table.\")\n",
        "\n",
        "    # Step 4: Extract only data lines\n",
        "    data_lines = [line.strip() for line in lines[data_start_idx:] if line.strip()]\n",
        "\n",
        "    # Step 5: Read into DataFrame (whitespace-delimited)\n",
        "    df = pd.DataFrame([re.split(r\"\\s+\", l) for l in data_lines], columns=col_names)\n",
        "\n",
        "    # Step 6: Convert numeric columns\n",
        "    for col in df.columns:\n",
        "        df[col] = pd.to_numeric(df[col], errors=\"ignore\")\n",
        "\n",
        "    # Step 7: Handle Timestamp column (assume first column is datetime)\n",
        "    if \"ut_date_and_time_for_measurement_center_yyyymmddthhmmssz_iso_8601\" in df.columns:\n",
        "        ts_col = \"ut_date_and_time_for_measurement_center_yyyymmddthhmmssz_iso_8601\"\n",
        "        df[ts_col] = pd.to_datetime(df[ts_col], errors=\"coerce\")\n",
        "        df = df.set_index(ts_col).sort_index()\n",
        "\n",
        "    # Step 8: Clean sentinel values\n",
        "    df = df.replace([-9999, -999, -99], pd.NA)\n",
        "    df = df.dropna(how=\"all\")\n",
        "    df = df.drop_duplicates()\n",
        "\n",
        "    return df\n",
        "\n",
        "\n",
        "# ✅ Use your actual file path\n",
        "file_path = \"/content/Pandora140s1_WashingtonDC_L2_rnvs3p1-8.txt\"\n",
        "df = read_pandora_L2(file_path)\n",
        "\n",
        "# Quick check\n",
        "print(df.head())\n",
        "print(df.columns[:10])  # show first 10 column names\n"
      ]
    },
    {
      "cell_type": "code",
      "execution_count": null,
      "metadata": {
        "colab": {
          "background_save": true
        },
        "id": "vAsf7LrtI8xy"
      },
      "outputs": [],
      "source": [
        "# 1️⃣ See all columns in the DataFrame\n",
        "print(df.columns)\n",
        "\n",
        "# Select and rename columns\n",
        "required_columns = {\n",
        "    'ut_date_and_time_for_measurement_center_yyyymmddthhmmssz_iso_8601': 'timestamp',\n",
        "    'nitrogen_dioxide_total_vertical_column_amount_9e99retrieval_not_successful': 'NO2_column_density'\n",
        "}\n",
        "\n",
        "# Check if required columns exist in the DataFrame\n",
        "existing_columns = [col for col in required_columns.keys() if col in df.columns]\n",
        "\n",
        "if len(existing_columns) == len(required_columns):\n",
        "    # Select only the required columns and rename them\n",
        "    df = df[existing_columns].rename(columns=required_columns)\n",
        "    print(\"\\nSelected and renamed columns:\")\n",
        "    print(df.columns)\n",
        "else:\n",
        "    print(\"\\n⚠️ Warning: Not all required columns were found in the DataFrame.\")\n",
        "    print(\"Required columns:\", list(required_columns.keys()))\n",
        "    print(\"Existing columns:\", existing_columns)\n",
        "\n",
        "\n",
        "# 2️⃣ Convert the timestamp column to datetime\n",
        "if 'timestamp' in df.columns:\n",
        "    df['timestamp'] = pd.to_datetime(df['timestamp'], errors='coerce')\n",
        "    print(\"\\nTimestamp column converted to datetime.\")\n",
        "else:\n",
        "    print(\"\\n⚠️ Warning: 'timestamp' column not found after selection and renaming.\")"
      ]
    },
    {
      "cell_type": "code",
      "execution_count": null,
      "metadata": {
        "colab": {
          "background_save": true
        },
        "id": "b1lOabnTRtUM"
      },
      "outputs": [],
      "source": [
        "import pandas as pd\n",
        "import re\n",
        "\n",
        "def read_pandora_L2(file_path):\n",
        "    \"\"\"\n",
        "    Robust reader for Pandora L2 .txt files.\n",
        "    - Extracts column names from 'Column N: ...' lines\n",
        "    - Skips metadata/header before the dashed line\n",
        "    - Reads the table into a DataFrame with proper dtypes\n",
        "    \"\"\"\n",
        "\n",
        "    # Step 1: Read file\n",
        "    with open(file_path, \"r\", encoding=\"latin1\") as f:\n",
        "        lines = f.readlines()\n",
        "\n",
        "    # Step 2: Extract column definitions\n",
        "    col_names = []\n",
        "    for line in lines:\n",
        "        if line.startswith(\"Column\"):\n",
        "            # Example: \"Column 1: UT date and time ...\"\n",
        "            match = re.match(r\"Column\\s+\\d+:\\s+(.*)\", line.strip())\n",
        "            if match:\n",
        "                col_name = match.group(1)\n",
        "                # Simplify the column name (remove units/special chars)\n",
        "                col_name = re.sub(r\"\\[.*?\\]\", \"\", col_name)   # remove [units]\n",
        "                col_name = re.sub(r\"[^0-9a-zA-Z_ ]+\", \"\", col_name) # keep clean\n",
        "                col_name = \"_\".join(col_name.lower().split())\n",
        "                col_names.append(col_name)\n",
        "\n",
        "    # Step 3: Find where the actual data starts (after dashed line)\n",
        "    data_start_idx = None\n",
        "    for i, line in enumerate(lines):\n",
        "        if re.match(r\"^-{5,}\", line):  # line of dashes\n",
        "            data_start_idx = i + 1\n",
        "            break\n",
        "\n",
        "    if data_start_idx is None:\n",
        "        raise ValueError(\"Could not find start of data table.\")\n",
        "\n",
        "    # Step 4: Extract only data lines\n",
        "    data_lines = [line.strip() for line in lines[data_start_idx:] if line.strip()]\n",
        "\n",
        "    # Step 5: Read into DataFrame (whitespace-delimited)\n",
        "    df = pd.DataFrame([re.split(r\"\\s+\", l) for l in data_lines], columns=col_names)\n",
        "\n",
        "    # Step 6: Convert numeric columns\n",
        "    for col in df.columns:\n",
        "        df[col] = pd.to_numeric(df[col], errors=\"ignore\")\n",
        "\n",
        "    # Step 7: Handle Timestamp column (assume first column is datetime)\n",
        "    if \"ut_date_and_time_for_measurement_center_yyyymmddthhmmssz_iso_8601\" in df.columns:\n",
        "        ts_col = \"ut_date_and_time_for_measurement_center_yyyymmddthhmmssz_iso_8601\"\n",
        "        df[ts_col] = pd.to_datetime(df[ts_col], errors=\"coerce\")\n",
        "        df = df.set_index(ts_col).sort_index()\n",
        "\n",
        "    # Step 8: Clean sentinel values\n",
        "    df = df.replace([-9999, -999, -99], pd.NA)\n",
        "    df = df.dropna(how=\"all\")\n",
        "    df = df.drop_duplicates()\n",
        "\n",
        "    return df\n",
        "\n",
        "\n",
        "# ✅ Use your actual file path\n",
        "file_path = \"/content/Pandora140s1_WashingtonDC_L2_rnvs3p1-8.txt\"\n",
        "df = read_pandora_L2(file_path)\n",
        "\n",
        "# Quick check\n",
        "print(df.head())\n",
        "print(df.columns[:10])  # show first 10 column names"
      ]
    },
    {
      "cell_type": "code",
      "execution_count": null,
      "metadata": {
        "colab": {
          "background_save": true
        },
        "id": "PIiWwaJaJGo0"
      },
      "outputs": [],
      "source": [
        "# Check dataframe shape and column types\n",
        "print(df.shape)\n",
        "print(df.info())\n",
        "\n",
        "# Quick look at first few rows\n",
        "display(df.head())\n"
      ]
    },
    {
      "cell_type": "code",
      "execution_count": null,
      "metadata": {
        "colab": {
          "background_save": true
        },
        "id": "QzBMbUXjJNDg"
      },
      "outputs": [],
      "source": [
        "# Count missing values\n",
        "print(df.isna().sum())\n",
        "\n",
        "# Drop rows where NO2 or Time is missing\n",
        "df = df.dropna(subset=['timestamp', 'NO2_column_density'])\n",
        "\n",
        "# Optional: reset index\n",
        "df.reset_index(drop=True, inplace=True)"
      ]
    },
    {
      "cell_type": "code",
      "execution_count": null,
      "metadata": {
        "colab": {
          "background_save": true
        },
        "id": "vhuqHckRLjqt"
      },
      "outputs": [],
      "source": [
        "# Remove spaces, make lowercase\n",
        "df.columns = df.columns.str.strip().str.lower().str.replace(' ', '_')\n",
        "print(df.columns)\n"
      ]
    },
    {
      "cell_type": "code",
      "execution_count": null,
      "metadata": {
        "colab": {
          "background_save": true
        },
        "id": "QAGuMu7ULk_E"
      },
      "outputs": [],
      "source": [
        "# Keep only relevant columns\n",
        "df = df[['timestamp', 'no2_column_density']]\n",
        "\n",
        "# Convert timestamp to datetime\n",
        "df['timestamp'] = pd.to_datetime(df['timestamp'], errors='coerce')\n",
        "\n",
        "# Check the result\n",
        "print(df.info())\n",
        "print(df.head())\n"
      ]
    },
    {
      "cell_type": "code",
      "execution_count": null,
      "metadata": {
        "colab": {
          "background_save": true
        },
        "id": "pSXgrkMNMBWY"
      },
      "outputs": [],
      "source": [
        "df = df.drop_duplicates()\n"
      ]
    },
    {
      "cell_type": "code",
      "execution_count": null,
      "metadata": {
        "colab": {
          "background_save": true
        },
        "id": "sbcuA5PVOs9C"
      },
      "outputs": [],
      "source": [
        "# Remove unrealistic NO2 values (negative or extremely high)\n",
        "df = df[(df['no2_column_density'] > 0) & (df['no2_column_density'] < 1e5)]  # adjust upper limit if needed\n"
      ]
    },
    {
      "cell_type": "code",
      "execution_count": null,
      "metadata": {
        "colab": {
          "background_save": true
        },
        "id": "9laXwEa7Ow4l"
      },
      "outputs": [],
      "source": [
        "print(df['timestamp'].min(), df['timestamp'].max())\n"
      ]
    },
    {
      "cell_type": "code",
      "execution_count": null,
      "metadata": {
        "colab": {
          "background_save": true
        },
        "id": "GwL24o0aMCzI"
      },
      "outputs": [],
      "source": [
        "print(df['no2_column_density'].describe())\n"
      ]
    },
    {
      "cell_type": "code",
      "execution_count": null,
      "metadata": {
        "colab": {
          "background_save": true
        },
        "id": "ptV4TbnCOtpG"
      },
      "outputs": [],
      "source": []
    },
    {
      "cell_type": "code",
      "execution_count": null,
      "metadata": {
        "colab": {
          "background_save": true
        },
        "id": "v7nDEri5MGMn"
      },
      "outputs": [],
      "source": [
        "import matplotlib.pyplot as plt\n",
        "\n",
        "# Convert 'no2_column_density' to numeric, coercing errors\n",
        "df['no2_column_density'] = pd.to_numeric(df['no2_column_density'], errors='coerce')\n",
        "\n",
        "# Drop rows where conversion failed\n",
        "df = df.dropna(subset=['no2_column_density'])\n",
        "\n",
        "# Time series plot\n",
        "plt.figure(figsize=(12,6))\n",
        "plt.plot(df['timestamp'], df['no2_column_density'], marker='.', linestyle='-', alpha=0.7)\n",
        "plt.xlabel('Time')\n",
        "plt.ylabel('NO2 Column Density')\n",
        "plt.title('NO2 Levels Over Time - Washington D.C.')\n",
        "plt.show()\n",
        "\n",
        "# Histogram of NO2 values\n",
        "plt.hist(df['no2_column_density'], bins=50, alpha=0.7, color='orange')\n",
        "plt.xlabel('NO2 Column Density')\n",
        "plt.ylabel('Frequency')\n",
        "plt.title('Distribution of NO2 Levels')\n",
        "plt.show()"
      ]
    },
    {
      "cell_type": "code",
      "execution_count": null,
      "metadata": {
        "colab": {
          "background_save": true
        },
        "id": "pwlTscgAMHRE"
      },
      "outputs": [],
      "source": [
        "# Simple IQR method\n",
        "Q1 = df['no2_column_density'].quantile(0.25)\n",
        "Q3 = df['no2_column_density'].quantile(0.75)\n",
        "IQR = Q3 - Q1\n",
        "\n",
        "outliers = df[(df['no2_column_density'] < Q1 - 1.5*IQR) | (df['no2_column_density'] > Q3 + 1.5*IQR)]\n",
        "print(f\"Number of outliers: {len(outliers)}\")\n"
      ]
    },
    {
      "cell_type": "code",
      "execution_count": null,
      "metadata": {
        "colab": {
          "background_save": true
        },
        "id": "nMRnpHKL8Iw_"
      },
      "outputs": [],
      "source": [
        "!pip install nbimporter\n"
      ]
    },
    {
      "cell_type": "code",
      "execution_count": null,
      "metadata": {
        "colab": {
          "background_save": true
        },
        "id": "Phg9K0ZuVCCe"
      },
      "outputs": [],
      "source": [
        "!pwd\n",
        "!ls\n"
      ]
    }
  ],
  "metadata": {
    "colab": {
      "provenance": []
    },
    "kernelspec": {
      "display_name": "Python 3",
      "name": "python3"
    },
    "language_info": {
      "name": "python"
    }
  },
  "nbformat": 4,
  "nbformat_minor": 0
}